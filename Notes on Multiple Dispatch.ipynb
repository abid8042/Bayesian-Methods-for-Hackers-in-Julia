{
 "cells": [
  {
   "cell_type": "code",
   "execution_count": 1,
   "metadata": {},
   "outputs": [
    {
     "data": {
      "text/plain": [
       "sample_bandits (generic function with 2 methods)"
      ]
     },
     "execution_count": 1,
     "metadata": {},
     "output_type": "execute_result"
    }
   ],
   "source": [
    "#Calling a method of a class in Python (a = MyClass(x), x.func(y)) \n",
    "#corresponds to a function call in Julia, e.g. a = MyStruct(x), func(x::MyStruct, y). \n",
    "#In general, multiple dispatch is more flexible and powerful than the Python class system.\n",
    "using Distributions\n",
    "struct Bandits\n",
    "    p::Vector{Float64}\n",
    "    optimal\n",
    "    _len_\n",
    "    Bandits(p) = new(p,maximum(p),length(p));\n",
    "end \n",
    "pull(p_array,i) = rand() < p_array[i]\n",
    "\n",
    "Base.@kwdef mutable struct BayesianStrategy\n",
    "    bandits::Bandits\n",
    "    n_bandits\n",
    "    wins\n",
    "    trials\n",
    "    N\n",
    "    choices\n",
    "    bb_score\n",
    "    BayesianStrategy(bandits) = new(bandits,bandits._len_,zeros(bandits._len_),zeros(bandits._len_),0,[],[]);\n",
    "end\n",
    "\n",
    "function sample_bandits(B::BayesianStrategy,n = 1)\n",
    "    modified_B = B\n",
    "    bb_score = zeros(n)\n",
    "    choices  = zeros(n)\n",
    "    for k in 1:n\n",
    "        #sample from the bandits's priors, and select the largest sample\n",
    "        choice = argmax(rand.(Beta.(1 .+ modified_B.wins ,1 .+ modified_B.trials - modified_B.wins)))\n",
    "        \n",
    "        #sample the chosen bandit\n",
    "        result = pull(modified_B.bandits.p,choice)\n",
    "        \n",
    "        #update priors and score\n",
    "        modified_B.wins[choice]   += result\n",
    "        modified_B.trials[choice] += 1\n",
    "        bb_score[k]      = result\n",
    "        modified_B.N              += 1\n",
    "        choices[k]       = choice\n",
    "    end\n",
    "    append!( modified_B.bb_score, bb_score )\n",
    "    append!( modified_B.choices, choices )\n",
    "    return modified_B\n",
    "end"
   ]
  },
  {
   "cell_type": "code",
   "execution_count": 2,
   "metadata": {},
   "outputs": [
    {
     "data": {
      "text/html": [
       "# 5 methods for type constructor:<ul><li> (Vector{T} where T)() in Base at <a href=\"https://github.com/JuliaLang/julia/tree/6aaedecc447e3d8226d5027fb13d0c3cbfbfea2a/base/baseext.jl#L27\" target=\"_blank\">baseext.jl:27</a></li> <li> (Vector{T} where T)(D::<b>SuiteSparse.CHOLMOD.Dense{T}</b>)<i> where T</i> in SuiteSparse.CHOLMOD at <a href=\"file://C:/buildbot/worker/package_win64/build/usr/share/julia/stdlib/v1.6/SuiteSparse/src/cholmod.jl\" target=\"_blank\">C:\\Users\\91863\\AppData\\Local\\Programs\\Julia-1.6.1\\share\\julia\\stdlib\\v1.6\\SuiteSparse\\src\\cholmod.jl:997</a></li> <li> (Vector{T} where T)(x::<b>SparseArrays.AbstractSparseVector{Tv, Ti} where Ti</b>)<i> where Tv</i> in SparseArrays at <a href=\"file://C:/buildbot/worker/package_win64/build/usr/share/julia/stdlib/v1.6/SparseArrays/src/sparsevector.jl\" target=\"_blank\">C:\\Users\\91863\\AppData\\Local\\Programs\\Julia-1.6.1\\share\\julia\\stdlib\\v1.6\\SparseArrays\\src\\sparsevector.jl:936</a></li> <li> (Array{T, N} where T)(x::<b>AbstractArray{S, N}</b>)<i> where {S, N}</i> in Core at <a href=\"file://C:\\Users\\91863\\AppData\\Local\\Programs\\Julia-1.6.1\\share\\julia\\base\\boot.jl\" target=\"_blank\">boot.jl:470</a></li> <li> (Vector{T} where T)(::<b>UndefInitializer</b>, m::<b>Integer</b>) in Base at <a href=\"https://github.com/JuliaLang/julia/tree/6aaedecc447e3d8226d5027fb13d0c3cbfbfea2a/base/baseext.jl#L21\" target=\"_blank\">baseext.jl:21</a></li> </ul>"
      ],
      "text/plain": [
       "# 5 methods for type constructor:\n",
       "[1] (Vector{T} where T)() in Base at baseext.jl:27\n",
       "[2] (Vector{T} where T)(D::SuiteSparse.CHOLMOD.Dense{T}) where T in SuiteSparse.CHOLMOD at C:\\Users\\91863\\AppData\\Local\\Programs\\Julia-1.6.1\\share\\julia\\stdlib\\v1.6\\SuiteSparse\\src\\cholmod.jl:997\n",
       "[3] (Vector{T} where T)(x::SparseArrays.AbstractSparseVector{Tv, Ti} where Ti) where Tv in SparseArrays at C:\\Users\\91863\\AppData\\Local\\Programs\\Julia-1.6.1\\share\\julia\\stdlib\\v1.6\\SparseArrays\\src\\sparsevector.jl:936\n",
       "[4] (Array{T, N} where T)(x::AbstractArray{S, N}) where {S, N} in Core at boot.jl:470\n",
       "[5] (Vector{T} where T)(::UndefInitializer, m::Integer) in Base at baseext.jl:21"
      ]
     },
     "execution_count": 2,
     "metadata": {},
     "output_type": "execute_result"
    }
   ],
   "source": [
    "methods(Vector)"
   ]
  },
  {
   "cell_type": "code",
   "execution_count": 2,
   "metadata": {},
   "outputs": [
    {
     "data": {
      "text/plain": [
       "Bandits([0.1, 0.2, 0.3, 0.4, 0.5], 0.5, 5)"
      ]
     },
     "execution_count": 2,
     "metadata": {},
     "output_type": "execute_result"
    }
   ],
   "source": [
    "x = [0.1,0.2,0.3,0.4,0.5]\n",
    "p = Bandits(x)"
   ]
  },
  {
   "cell_type": "code",
   "execution_count": 22,
   "metadata": {},
   "outputs": [
    {
     "data": {
      "text/plain": [
       "BayesianStrategy(Bandits([0.1, 0.2, 0.3, 0.4, 0.5], 0.5, 5), 5, [0.0, 0.0, 0.0, 0.0, 1.0], [0.0, 0.0, 0.0, 0.0, 1.0], 1, Any[5.0], Any[1.0])"
      ]
     },
     "execution_count": 22,
     "metadata": {},
     "output_type": "execute_result"
    }
   ],
   "source": [
    "z = BayesianStrategy(p)\n",
    "sample_bandits(z,1)"
   ]
  },
  {
   "cell_type": "code",
   "execution_count": 2,
   "metadata": {
    "tags": []
   },
   "outputs": [
    {
     "data": {
      "text/plain": [
       "BayesianStrategy(Bandits([1.0, 2.0, 3.0, 4.0, 5.0], 5, 5), 5, [0.0, 0.0, 0.0, 0.0, 0.0], [0.0, 0.0, 0.0, 0.0, 0.0], 0, Any[], Any[])"
      ]
     },
     "execution_count": 2,
     "metadata": {},
     "output_type": "execute_result"
    }
   ],
   "source": [
    "x = [1,2,3,4,5]\n",
    "p = Bandits(x)\n",
    "z = BayesianStrategy(p)"
   ]
  },
  {
   "cell_type": "code",
   "execution_count": 3,
   "metadata": {},
   "outputs": [
    {
     "data": {
      "text/plain": [
       "5-element Vector{BayesianStrategy}:\n",
       " #undef\n",
       " #undef\n",
       " #undef\n",
       " #undef\n",
       " #undef"
      ]
     },
     "execution_count": 3,
     "metadata": {},
     "output_type": "execute_result"
    }
   ],
   "source": [
    "y = Array{BayesianStrategy,1}(undef, 5)"
   ]
  },
  {
   "cell_type": "code",
   "execution_count": 3,
   "metadata": {},
   "outputs": [
    {
     "data": {
      "text/plain": [
       "5-element Vector{BayesianStrategy}:\n",
       " #undef\n",
       " #undef\n",
       " #undef\n",
       " #undef\n",
       " #undef"
      ]
     },
     "execution_count": 3,
     "metadata": {},
     "output_type": "execute_result"
    }
   ],
   "source": [
    "V = Vector{BayesianStrategy}(undef, 5)"
   ]
  },
  {
   "cell_type": "code",
   "execution_count": 5,
   "metadata": {},
   "outputs": [
    {
     "data": {
      "text/plain": [
       "2×2 Matrix{BayesianStrategy}:\n",
       " #undef  #undef\n",
       " #undef  #undef"
      ]
     },
     "execution_count": 5,
     "metadata": {},
     "output_type": "execute_result"
    }
   ],
   "source": [
    "M = Matrix{BayesianStrategy}(undef, 2, 2)"
   ]
  },
  {
   "cell_type": "code",
   "execution_count": 6,
   "metadata": {},
   "outputs": [
    {
     "data": {
      "text/plain": [
       "1-element Vector{Float64}:\n",
       " 0.0"
      ]
     },
     "execution_count": 6,
     "metadata": {},
     "output_type": "execute_result"
    }
   ],
   "source": [
    "zeros(1)"
   ]
  },
  {
   "cell_type": "code",
   "execution_count": 7,
   "metadata": {},
   "outputs": [
    {
     "data": {
      "text/plain": [
       "2×3 Matrix{Int8}:\n",
       " 0  0  0\n",
       " 0  0  0"
      ]
     },
     "execution_count": 7,
     "metadata": {},
     "output_type": "execute_result"
    }
   ],
   "source": [
    " zeros(Int8, 2, 3)"
   ]
  },
  {
   "cell_type": "code",
   "execution_count": 8,
   "metadata": {},
   "outputs": [
    {
     "data": {
      "text/plain": [
       "2×2 Matrix{Vector{Float64}}:\n",
       " [0.0]  [0.0]\n",
       " [0.0]  [0.0]"
      ]
     },
     "execution_count": 8,
     "metadata": {},
     "output_type": "execute_result"
    }
   ],
   "source": [
    "fill(zeros(1), (2,2))"
   ]
  },
  {
   "cell_type": "code",
   "execution_count": 9,
   "metadata": {},
   "outputs": [
    {
     "data": {
      "text/html": [
       "# 14 methods for generic function <b>fill!</b>:<ul><li> fill!(A::<b>Union{LinearAlgebra.Hermitian{T, S}, LinearAlgebra.Symmetric{T, S}} where {T, S}</b>, x) in LinearAlgebra at <a href=\"file://C:/buildbot/worker/package_win64/build/usr/share/julia/stdlib/v1.6/LinearAlgebra/src/symmetric.jl\" target=\"_blank\">C:\\Users\\91863\\AppData\\Local\\Programs\\Julia-1.6.1\\share\\julia\\stdlib\\v1.6\\LinearAlgebra\\src\\symmetric.jl:303</a></li> <li> fill!(A::<b>Union{LinearAlgebra.Bidiagonal, LinearAlgebra.Diagonal, LinearAlgebra.SymTridiagonal, LinearAlgebra.Tridiagonal}</b>, x) in LinearAlgebra at <a href=\"file://C:/buildbot/worker/package_win64/build/usr/share/julia/stdlib/v1.6/LinearAlgebra/src/special.jl\" target=\"_blank\">C:\\Users\\91863\\AppData\\Local\\Programs\\Julia-1.6.1\\share\\julia\\stdlib\\v1.6\\LinearAlgebra\\src\\special.jl:298</a></li> <li> fill!(A::<b>Union{SparseArrays.AbstractSparseMatrixCSC, SparseArrays.SparseVector}</b>, x) in SparseArrays at <a href=\"file://C:/buildbot/worker/package_win64/build/usr/share/julia/stdlib/v1.6/SparseArrays/src/sparsevector.jl\" target=\"_blank\">C:\\Users\\91863\\AppData\\Local\\Programs\\Julia-1.6.1\\share\\julia\\stdlib\\v1.6\\SparseArrays\\src\\sparsevector.jl:2062</a></li> <li> fill!(cb::<b>DataStructures.CircularBuffer</b>, data) in DataStructures at <a href=\"file://C:/Users/91863/.julia/packages/DataStructures/ixwFs/src/circular_buffer.jl\" target=\"_blank\">C:\\Users\\91863\\.julia\\packages\\DataStructures\\ixwFs\\src\\circular_buffer.jl:143</a></li> <li> fill!(S::<b>SharedArrays.SharedArray</b>, v) in SharedArrays at <a href=\"file://C:/buildbot/worker/package_win64/build/usr/share/julia/stdlib/v1.6/SharedArrays/src/SharedArrays.jl\" target=\"_blank\">C:\\Users\\91863\\AppData\\Local\\Programs\\Julia-1.6.1\\share\\julia\\stdlib\\v1.6\\SharedArrays\\src\\SharedArrays.jl:514</a></li> <li> fill!(B::<b>BitArray</b>, x) in Base at <a href=\"https://github.com/JuliaLang/julia/tree/6aaedecc447e3d8226d5027fb13d0c3cbfbfea2a/base/bitarray.jl#L377\" target=\"_blank\">bitarray.jl:377</a></li> <li> fill!(a::<b>Union{Array{Int8, N} where N, Array{UInt8, N} where N}</b>, x::<b>Integer</b>) in Base at <a href=\"https://github.com/JuliaLang/julia/tree/6aaedecc447e3d8226d5027fb13d0c3cbfbfea2a/base/array.jl#L405\" target=\"_blank\">array.jl:405</a></li> <li> fill!(dest::<b>Array{T, N} where N</b>, x)<i> where T</i> in Base at <a href=\"https://github.com/JuliaLang/julia/tree/6aaedecc447e3d8226d5027fb13d0c3cbfbfea2a/base/array.jl#L332\" target=\"_blank\">array.jl:332</a></li> <li> fill!(B::<b>Base.Broadcast.BitMaskedBitArray</b>, b::<b>Bool</b>) in Base.Broadcast at <a href=\"https://github.com/JuliaLang/julia/tree/6aaedecc447e3d8226d5027fb13d0c3cbfbfea2a/base/broadcast.jl#L1187\" target=\"_blank\">broadcast.jl:1187</a></li> <li> fill!(F::<b>FillArrays.AbstractFill</b>, v) in FillArrays at <a href=\"file://C:/Users/91863/.julia/packages/FillArrays/VLeUk/src/FillArrays.jl\" target=\"_blank\">C:\\Users\\91863\\.julia\\packages\\FillArrays\\VLeUk\\src\\FillArrays.jl:55</a></li> <li> fill!(V::<b>SubArray{Bool, var\"#s832\", var\"#s831\", Tuple{AbstractUnitRange{Int64}}, L} where {var\"#s832\", var\"#s831\"<:BitArray, L}</b>, x) in Base at <a href=\"https://github.com/JuliaLang/julia/tree/6aaedecc447e3d8226d5027fb13d0c3cbfbfea2a/base/multidimensional.jl#L1421\" target=\"_blank\">multidimensional.jl:1421</a></li> <li> fill!(V::<b>SubArray{Bool, var\"#s832\", var\"#s831\", Tuple{AbstractUnitRange{Int64}, Vararg{Union{Int64, AbstractUnitRange{Int64}}, N} where N}, L} where {var\"#s832\", var\"#s831\"<:BitArray, L}</b>, x) in Base at <a href=\"https://github.com/JuliaLang/julia/tree/6aaedecc447e3d8226d5027fb13d0c3cbfbfea2a/base/multidimensional.jl#L1430\" target=\"_blank\">multidimensional.jl:1430</a></li> <li> fill!(V::<b>SubArray{Tv, var\"#s832\", var\"#s831\", var\"#s830\", L} where {var\"#s832\", var\"#s831\"<:(SparseArrays.AbstractSparseMatrixCSC{Tv, Ti} where Ti<:Integer), var\"#s830\"<:Tuple{Union{Integer, AbstractVector{var\"#s829\"} where var\"#s829\"<:Integer}, Union{Integer, AbstractVector{var\"#s829\"} where var\"#s829\"<:Integer}}, L}</b>, x)<i> where Tv</i> in SparseArrays at <a href=\"file://C:/buildbot/worker/package_win64/build/usr/share/julia/stdlib/v1.6/SparseArrays/src/sparsematrix.jl\" target=\"_blank\">C:\\Users\\91863\\AppData\\Local\\Programs\\Julia-1.6.1\\share\\julia\\stdlib\\v1.6\\SparseArrays\\src\\sparsematrix.jl:2620</a></li> <li> fill!(A::<b>AbstractArray{T, N} where N</b>, x)<i> where T</i> in Base at <a href=\"https://github.com/JuliaLang/julia/tree/6aaedecc447e3d8226d5027fb13d0c3cbfbfea2a/base/multidimensional.jl#L1054\" target=\"_blank\">multidimensional.jl:1054</a></li> </ul>"
      ],
      "text/plain": [
       "# 14 methods for generic function \"fill!\":\n",
       "[1] fill!(A::Union{LinearAlgebra.Hermitian{T, S}, LinearAlgebra.Symmetric{T, S}} where {T, S}, x) in LinearAlgebra at C:\\Users\\91863\\AppData\\Local\\Programs\\Julia-1.6.1\\share\\julia\\stdlib\\v1.6\\LinearAlgebra\\src\\symmetric.jl:303\n",
       "[2] fill!(A::Union{LinearAlgebra.Bidiagonal, LinearAlgebra.Diagonal, LinearAlgebra.SymTridiagonal, LinearAlgebra.Tridiagonal}, x) in LinearAlgebra at C:\\Users\\91863\\AppData\\Local\\Programs\\Julia-1.6.1\\share\\julia\\stdlib\\v1.6\\LinearAlgebra\\src\\special.jl:298\n",
       "[3] fill!(A::Union{SparseArrays.AbstractSparseMatrixCSC, SparseArrays.SparseVector}, x) in SparseArrays at C:\\Users\\91863\\AppData\\Local\\Programs\\Julia-1.6.1\\share\\julia\\stdlib\\v1.6\\SparseArrays\\src\\sparsevector.jl:2062\n",
       "[4] fill!(cb::DataStructures.CircularBuffer, data) in DataStructures at C:\\Users\\91863\\.julia\\packages\\DataStructures\\ixwFs\\src\\circular_buffer.jl:143\n",
       "[5] fill!(S::SharedArrays.SharedArray, v) in SharedArrays at C:\\Users\\91863\\AppData\\Local\\Programs\\Julia-1.6.1\\share\\julia\\stdlib\\v1.6\\SharedArrays\\src\\SharedArrays.jl:514\n",
       "[6] fill!(B::BitArray, x) in Base at bitarray.jl:377\n",
       "[7] fill!(a::Union{Array{Int8, N} where N, Array{UInt8, N} where N}, x::Integer) in Base at array.jl:405\n",
       "[8] fill!(dest::Array{T, N} where N, x) where T in Base at array.jl:332\n",
       "[9] fill!(B::Base.Broadcast.BitMaskedBitArray, b::Bool) in Base.Broadcast at broadcast.jl:1187\n",
       "[10] fill!(F::FillArrays.AbstractFill, v) in FillArrays at C:\\Users\\91863\\.julia\\packages\\FillArrays\\VLeUk\\src\\FillArrays.jl:55\n",
       "[11] fill!(V::SubArray{Bool, var\"#s832\", var\"#s831\", Tuple{AbstractUnitRange{Int64}}, L} where {var\"#s832\", var\"#s831\"<:BitArray, L}, x) in Base at multidimensional.jl:1421\n",
       "[12] fill!(V::SubArray{Bool, var\"#s832\", var\"#s831\", Tuple{AbstractUnitRange{Int64}, Vararg{Union{Int64, AbstractUnitRange{Int64}}, N} where N}, L} where {var\"#s832\", var\"#s831\"<:BitArray, L}, x) in Base at multidimensional.jl:1430\n",
       "[13] fill!(V::SubArray{Tv, var\"#s832\", var\"#s831\", var\"#s830\", L} where {var\"#s832\", var\"#s831\"<:(SparseArrays.AbstractSparseMatrixCSC{Tv, Ti} where Ti<:Integer), var\"#s830\"<:Tuple{Union{Integer, AbstractVector{var\"#s829\"} where var\"#s829\"<:Integer}, Union{Integer, AbstractVector{var\"#s829\"} where var\"#s829\"<:Integer}}, L}, x) where Tv in SparseArrays at C:\\Users\\91863\\AppData\\Local\\Programs\\Julia-1.6.1\\share\\julia\\stdlib\\v1.6\\SparseArrays\\src\\sparsematrix.jl:2620\n",
       "[14] fill!(A::AbstractArray{T, N} where N, x) where T in Base at multidimensional.jl:1054"
      ]
     },
     "execution_count": 9,
     "metadata": {},
     "output_type": "execute_result"
    }
   ],
   "source": [
    "methods(fill!)"
   ]
  },
  {
   "cell_type": "code",
   "execution_count": 10,
   "metadata": {},
   "outputs": [
    {
     "data": {
      "text/plain": [
       "5-element Vector{BayesianStrategy}:\n",
       " BayesianStrategy(Bandits([1.0, 2.0, 3.0, 4.0, 5.0], 5, 5), 5, [0.0, 0.0, 0.0, 0.0, 0.0], [0.0, 0.0, 0.0, 0.0, 0.0], 0, Any[], Any[])\n",
       " BayesianStrategy(Bandits([1.0, 2.0, 3.0, 4.0, 5.0], 5, 5), 5, [0.0, 0.0, 0.0, 0.0, 0.0], [0.0, 0.0, 0.0, 0.0, 0.0], 0, Any[], Any[])\n",
       " BayesianStrategy(Bandits([1.0, 2.0, 3.0, 4.0, 5.0], 5, 5), 5, [0.0, 0.0, 0.0, 0.0, 0.0], [0.0, 0.0, 0.0, 0.0, 0.0], 0, Any[], Any[])\n",
       " BayesianStrategy(Bandits([1.0, 2.0, 3.0, 4.0, 5.0], 5, 5), 5, [0.0, 0.0, 0.0, 0.0, 0.0], [0.0, 0.0, 0.0, 0.0, 0.0], 0, Any[], Any[])\n",
       " BayesianStrategy(Bandits([1.0, 2.0, 3.0, 4.0, 5.0], 5, 5), 5, [0.0, 0.0, 0.0, 0.0, 0.0], [0.0, 0.0, 0.0, 0.0, 0.0], 0, Any[], Any[])"
      ]
     },
     "execution_count": 10,
     "metadata": {},
     "output_type": "execute_result"
    }
   ],
   "source": [
    "fill!(V,z)"
   ]
  },
  {
   "cell_type": "code",
   "execution_count": 11,
   "metadata": {},
   "outputs": [
    {
     "data": {
      "text/plain": [
       "2×2 Matrix{BayesianStrategy}:\n",
       " BayesianStrategy(Bandits([1.0, 2.0, 3.0, 4.0, 5.0], 5, 5), 5, [0.0, 0.0, 0.0, 0.0, 0.0], [0.0, 0.0, 0.0, 0.0, 0.0], 0, Any[], Any[])  …  BayesianStrategy(Bandits([1.0, 2.0, 3.0, 4.0, 5.0], 5, 5), 5, [0.0, 0.0, 0.0, 0.0, 0.0], [0.0, 0.0, 0.0, 0.0, 0.0], 0, Any[], Any[])\n",
       " BayesianStrategy(Bandits([1.0, 2.0, 3.0, 4.0, 5.0], 5, 5), 5, [0.0, 0.0, 0.0, 0.0, 0.0], [0.0, 0.0, 0.0, 0.0, 0.0], 0, Any[], Any[])     BayesianStrategy(Bandits([1.0, 2.0, 3.0, 4.0, 5.0], 5, 5), 5, [0.0, 0.0, 0.0, 0.0, 0.0], [0.0, 0.0, 0.0, 0.0, 0.0], 0, Any[], Any[])"
      ]
     },
     "execution_count": 11,
     "metadata": {},
     "output_type": "execute_result"
    }
   ],
   "source": [
    "fill!(M,z)"
   ]
  },
  {
   "cell_type": "code",
   "execution_count": 29,
   "metadata": {},
   "outputs": [
    {
     "data": {
      "text/html": [
       "# 31 methods for generic function <b>zero</b>:<ul><li> zero(::<b>Union{Type{P}, P}</b>)<i> where P<:Dates.Period</i> in Dates at <a href=\"file://C:/buildbot/worker/package_win64/build/usr/share/julia/stdlib/v1.6/Dates/src/periods.jl\" target=\"_blank\">C:\\Users\\91863\\AppData\\Local\\Programs\\Julia-1.6.1\\share\\julia\\stdlib\\v1.6\\Dates\\src\\periods.jl:53</a></li> <li> zero(a::<b>SparseArrays.AbstractSparseArray</b>) in SparseArrays at <a href=\"file://C:/buildbot/worker/package_win64/build/usr/share/julia/stdlib/v1.6/SparseArrays/src/SparseArrays.jl\" target=\"_blank\">C:\\Users\\91863\\AppData\\Local\\Programs\\Julia-1.6.1\\share\\julia\\stdlib\\v1.6\\SparseArrays\\src\\SparseArrays.jl:55</a></li> <li> zero(::<b>AbstractIrrational</b>) in Base at <a href=\"https://github.com/JuliaLang/julia/tree/6aaedecc447e3d8226d5027fb13d0c3cbfbfea2a/base/irrationals.jl#L148\" target=\"_blank\">irrationals.jl:148</a></li> <li> zero(r::<b>FillArrays.Zeros{T, N, Axes} where Axes</b>)<i> where {T, N}</i> in FillArrays at <a href=\"file://C:/Users/91863/.julia/packages/FillArrays/VLeUk/src/FillArrays.jl\" target=\"_blank\">C:\\Users\\91863\\.julia\\packages\\FillArrays\\VLeUk\\src\\FillArrays.jl:539</a></li> <li> zero(J::<b>LinearAlgebra.UniformScaling{T}</b>)<i> where T</i> in LinearAlgebra at <a href=\"file://C:/buildbot/worker/package_win64/build/usr/share/julia/stdlib/v1.6/LinearAlgebra/src/uniformscaling.jl\" target=\"_blank\">C:\\Users\\91863\\AppData\\Local\\Programs\\Julia-1.6.1\\share\\julia\\stdlib\\v1.6\\LinearAlgebra\\src\\uniformscaling.jl:136</a></li> <li> zero(h::<b>StatsBase.Histogram{T, N, E}</b>)<i> where {T, N, E}</i> in StatsBase at <a href=\"file://C:/Users/91863/.julia/packages/StatsBase/DU1bT/src/hist.jl\" target=\"_blank\">C:\\Users\\91863\\.julia\\packages\\StatsBase\\DU1bT\\src\\hist.jl:538</a></li> <li> zero(r::<b>FillArrays.Fill{T, N, Axes} where Axes</b>)<i> where {T, N}</i> in FillArrays at <a href=\"file://C:/Users/91863/.julia/packages/FillArrays/VLeUk/src/FillArrays.jl\" target=\"_blank\">C:\\Users\\91863\\.julia\\packages\\FillArrays\\VLeUk\\src\\FillArrays.jl:541</a></li> <li> zero(::<b>T</b>)<i> where T<:Dates.TimeType</i> in Dates at <a href=\"file://C:/buildbot/worker/package_win64/build/usr/share/julia/stdlib/v1.6/Dates/src/types.jl\" target=\"_blank\">C:\\Users\\91863\\AppData\\Local\\Programs\\Julia-1.6.1\\share\\julia\\stdlib\\v1.6\\Dates\\src\\types.jl:423</a></li> <li> zero(x::<b>Number</b>) in Base at <a href=\"https://github.com/JuliaLang/julia/tree/6aaedecc447e3d8226d5027fb13d0c3cbfbfea2a/base/number.jl#L260\" target=\"_blank\">number.jl:260</a></li> <li> zero(::<b>CartesianIndex{N}</b>)<i> where N</i> in Base.IteratorsMD at <a href=\"https://github.com/JuliaLang/julia/tree/6aaedecc447e3d8226d5027fb13d0c3cbfbfea2a/base/multidimensional.jl#L106\" target=\"_blank\">multidimensional.jl:106</a></li> <li> zero(r::<b>FillArrays.Ones{T, N, Axes} where Axes</b>)<i> where {T, N}</i> in FillArrays at <a href=\"file://C:/Users/91863/.julia/packages/FillArrays/VLeUk/src/FillArrays.jl\" target=\"_blank\">C:\\Users\\91863\\.julia\\packages\\FillArrays\\VLeUk\\src\\FillArrays.jl:540</a></li> <li> zero(::<b>Type{var\"#s832\"} where var\"#s832\"<:AbstractIrrational</b>) in Base at <a href=\"https://github.com/JuliaLang/julia/tree/6aaedecc447e3d8226d5027fb13d0c3cbfbfea2a/base/irrationals.jl#L149\" target=\"_blank\">irrationals.jl:149</a></li> <li> zero(::<b>Type{Base.TwicePrecision{T}}</b>)<i> where T</i> in Base at <a href=\"https://github.com/JuliaLang/julia/tree/6aaedecc447e3d8226d5027fb13d0c3cbfbfea2a/base/twiceprecision.jl#L260\" target=\"_blank\">twiceprecision.jl:260</a></li> <li> zero(::<b>Type{LinearAlgebra.UniformScaling{T}}</b>)<i> where T</i> in LinearAlgebra at <a href=\"file://C:/buildbot/worker/package_win64/build/usr/share/julia/stdlib/v1.6/LinearAlgebra/src/uniformscaling.jl\" target=\"_blank\">C:\\Users\\91863\\AppData\\Local\\Programs\\Julia-1.6.1\\share\\julia\\stdlib\\v1.6\\LinearAlgebra\\src\\uniformscaling.jl:135</a></li> <li> zero(::<b>Type{var\"#s15\"} where var\"#s15\"<:ChainRulesCore.NotImplemented</b>) in ChainRulesCore at <a href=\"file://C:/Users/91863/.julia/packages/ChainRulesCore/BYuIz/src/differentials/notimplemented.jl\" target=\"_blank\">C:\\Users\\91863\\.julia\\packages\\ChainRulesCore\\BYuIz\\src\\differentials\\notimplemented.jl:47</a></li> <li> zero(::<b>Type{T}</b>)<i> where T<:Number</i> in Base at <a href=\"https://github.com/JuliaLang/julia/tree/6aaedecc447e3d8226d5027fb13d0c3cbfbfea2a/base/number.jl#L261\" target=\"_blank\">number.jl:261</a></li> <li> zero(::<b>Type{CartesianIndex{N}}</b>)<i> where N</i> in Base.IteratorsMD at <a href=\"https://github.com/JuliaLang/julia/tree/6aaedecc447e3d8226d5027fb13d0c3cbfbfea2a/base/multidimensional.jl#L107\" target=\"_blank\">multidimensional.jl:107</a></li> <li> zero(::<b>Type{var\"#s4\"} where var\"#s4\"<:ChainRulesCore.AbstractTangent</b>) in ChainRulesCore at <a href=\"file://C:/Users/91863/.julia/packages/ChainRulesCore/BYuIz/src/differentials/abstract_zero.jl\" target=\"_blank\">C:\\Users\\91863\\.julia\\packages\\ChainRulesCore\\BYuIz\\src\\differentials\\abstract_zero.jl:43</a></li> <li> zero(x::<b>ChainRulesCore.NotImplemented</b>) in ChainRulesCore at <a href=\"file://C:/Users/91863/.julia/packages/ChainRulesCore/BYuIz/src/differentials/notimplemented.jl\" target=\"_blank\">C:\\Users\\91863\\.julia\\packages\\ChainRulesCore\\BYuIz\\src\\differentials\\notimplemented.jl:46</a></li> <li> zero(::<b>ChainRulesCore.AbstractTangent</b>) in ChainRulesCore at <a href=\"file://C:/Users/91863/.julia/packages/ChainRulesCore/BYuIz/src/differentials/abstract_zero.jl\" target=\"_blank\">C:\\Users\\91863\\.julia\\packages\\ChainRulesCore\\BYuIz\\src\\differentials\\abstract_zero.jl:42</a></li> <li> zero(::<b>Missing</b>) in Base at <a href=\"https://github.com/JuliaLang/julia/tree/6aaedecc447e3d8226d5027fb13d0c3cbfbfea2a/base/missing.jl#L101\" target=\"_blank\">missing.jl:101</a></li> <li> zero(x::<b>DataStructures.DiBitVector</b>) in DataStructures at <a href=\"file://C:/Users/91863/.julia/packages/DataStructures/ixwFs/src/dibit_vector.jl\" target=\"_blank\">C:\\Users\\91863\\.julia\\packages\\DataStructures\\ixwFs\\src\\dibit_vector.jl:80</a></li> <li> zero(x::<b>AbstractArray{T, N} where N</b>)<i> where T</i> in Base at <a href=\"https://github.com/JuliaLang/julia/tree/6aaedecc447e3d8226d5027fb13d0c3cbfbfea2a/base/abstractarray.jl#L1085\" target=\"_blank\">abstractarray.jl:1085</a></li> <li> zero(::<b>Type{Dates.DateTime}</b>) in Dates at <a href=\"file://C:/buildbot/worker/package_win64/build/usr/share/julia/stdlib/v1.6/Dates/src/types.jl\" target=\"_blank\">C:\\Users\\91863\\AppData\\Local\\Programs\\Julia-1.6.1\\share\\julia\\stdlib\\v1.6\\Dates\\src\\types.jl:420</a></li> <li> zero(::<b>Type{Missing}</b>) in Base at <a href=\"https://github.com/JuliaLang/julia/tree/6aaedecc447e3d8226d5027fb13d0c3cbfbfea2a/base/missing.jl#L104\" target=\"_blank\">missing.jl:104</a></li> <li> zero(::<b>Type{Dates.Date}</b>) in Dates at <a href=\"file://C:/buildbot/worker/package_win64/build/usr/share/julia/stdlib/v1.6/Dates/src/types.jl\" target=\"_blank\">C:\\Users\\91863\\AppData\\Local\\Programs\\Julia-1.6.1\\share\\julia\\stdlib\\v1.6\\Dates\\src\\types.jl:421</a></li> <li> zero(::<b>Type{Pkg.Resolve.FieldValue}</b>) in Pkg.Resolve at <a href=\"file://C:/buildbot/worker/package_win64/build/usr/share/julia/stdlib/v1.6/Pkg/src/Resolve/fieldvalues.jl\" target=\"_blank\">C:\\Users\\91863\\AppData\\Local\\Programs\\Julia-1.6.1\\share\\julia\\stdlib\\v1.6\\Pkg\\src\\Resolve\\fieldvalues.jl:38</a></li> <li> zero(::<b>Type{Pkg.Resolve.VersionWeight}</b>) in Pkg.Resolve at <a href=\"file://C:/buildbot/worker/package_win64/build/usr/share/julia/stdlib/v1.6/Pkg/src/Resolve/versionweights.jl\" target=\"_blank\">C:\\Users\\91863\\AppData\\Local\\Programs\\Julia-1.6.1\\share\\julia\\stdlib\\v1.6\\Pkg\\src\\Resolve\\versionweights.jl:15</a></li> <li> zero(::<b>Type{LibGit2.GitHash}</b>) in LibGit2 at <a href=\"file://C:/buildbot/worker/package_win64/build/usr/share/julia/stdlib/v1.6/LibGit2/src/oid.jl\" target=\"_blank\">C:\\Users\\91863\\AppData\\Local\\Programs\\Julia-1.6.1\\share\\julia\\stdlib\\v1.6\\LibGit2\\src\\oid.jl:221</a></li> <li> zero(::<b>Type{Dates.Time}</b>) in Dates at <a href=\"file://C:/buildbot/worker/package_win64/build/usr/share/julia/stdlib/v1.6/Dates/src/types.jl\" target=\"_blank\">C:\\Users\\91863\\AppData\\Local\\Programs\\Julia-1.6.1\\share\\julia\\stdlib\\v1.6\\Dates\\src\\types.jl:422</a></li> <li> zero(::<b>Type{Union{Missing, T}}</b>)<i> where T</i> in Base at <a href=\"https://github.com/JuliaLang/julia/tree/6aaedecc447e3d8226d5027fb13d0c3cbfbfea2a/base/missing.jl#L105\" target=\"_blank\">missing.jl:105</a></li> </ul>"
      ],
      "text/plain": [
       "# 31 methods for generic function \"zero\":\n",
       "[1] zero(::Union{Type{P}, P}) where P<:Dates.Period in Dates at C:\\Users\\91863\\AppData\\Local\\Programs\\Julia-1.6.1\\share\\julia\\stdlib\\v1.6\\Dates\\src\\periods.jl:53\n",
       "[2] zero(a::SparseArrays.AbstractSparseArray) in SparseArrays at C:\\Users\\91863\\AppData\\Local\\Programs\\Julia-1.6.1\\share\\julia\\stdlib\\v1.6\\SparseArrays\\src\\SparseArrays.jl:55\n",
       "[3] zero(::AbstractIrrational) in Base at irrationals.jl:148\n",
       "[4] zero(r::FillArrays.Zeros{T, N, Axes} where Axes) where {T, N} in FillArrays at C:\\Users\\91863\\.julia\\packages\\FillArrays\\VLeUk\\src\\FillArrays.jl:539\n",
       "[5] zero(J::LinearAlgebra.UniformScaling{T}) where T in LinearAlgebra at C:\\Users\\91863\\AppData\\Local\\Programs\\Julia-1.6.1\\share\\julia\\stdlib\\v1.6\\LinearAlgebra\\src\\uniformscaling.jl:136\n",
       "[6] zero(h::StatsBase.Histogram{T, N, E}) where {T, N, E} in StatsBase at C:\\Users\\91863\\.julia\\packages\\StatsBase\\DU1bT\\src\\hist.jl:538\n",
       "[7] zero(r::FillArrays.Fill{T, N, Axes} where Axes) where {T, N} in FillArrays at C:\\Users\\91863\\.julia\\packages\\FillArrays\\VLeUk\\src\\FillArrays.jl:541\n",
       "[8] zero(::T) where T<:Dates.TimeType in Dates at C:\\Users\\91863\\AppData\\Local\\Programs\\Julia-1.6.1\\share\\julia\\stdlib\\v1.6\\Dates\\src\\types.jl:423\n",
       "[9] zero(x::Number) in Base at number.jl:260\n",
       "[10] zero(::CartesianIndex{N}) where N in Base.IteratorsMD at multidimensional.jl:106\n",
       "[11] zero(r::FillArrays.Ones{T, N, Axes} where Axes) where {T, N} in FillArrays at C:\\Users\\91863\\.julia\\packages\\FillArrays\\VLeUk\\src\\FillArrays.jl:540\n",
       "[12] zero(::Type{var\"#s832\"} where var\"#s832\"<:AbstractIrrational) in Base at irrationals.jl:149\n",
       "[13] zero(::Type{Base.TwicePrecision{T}}) where T in Base at twiceprecision.jl:260\n",
       "[14] zero(::Type{LinearAlgebra.UniformScaling{T}}) where T in LinearAlgebra at C:\\Users\\91863\\AppData\\Local\\Programs\\Julia-1.6.1\\share\\julia\\stdlib\\v1.6\\LinearAlgebra\\src\\uniformscaling.jl:135\n",
       "[15] zero(::Type{var\"#s15\"} where var\"#s15\"<:ChainRulesCore.NotImplemented) in ChainRulesCore at C:\\Users\\91863\\.julia\\packages\\ChainRulesCore\\BYuIz\\src\\differentials\\notimplemented.jl:47\n",
       "[16] zero(::Type{T}) where T<:Number in Base at number.jl:261\n",
       "[17] zero(::Type{CartesianIndex{N}}) where N in Base.IteratorsMD at multidimensional.jl:107\n",
       "[18] zero(::Type{var\"#s4\"} where var\"#s4\"<:ChainRulesCore.AbstractTangent) in ChainRulesCore at C:\\Users\\91863\\.julia\\packages\\ChainRulesCore\\BYuIz\\src\\differentials\\abstract_zero.jl:43\n",
       "[19] zero(x::ChainRulesCore.NotImplemented) in ChainRulesCore at C:\\Users\\91863\\.julia\\packages\\ChainRulesCore\\BYuIz\\src\\differentials\\notimplemented.jl:46\n",
       "[20] zero(::ChainRulesCore.AbstractTangent) in ChainRulesCore at C:\\Users\\91863\\.julia\\packages\\ChainRulesCore\\BYuIz\\src\\differentials\\abstract_zero.jl:42\n",
       "[21] zero(::Missing) in Base at missing.jl:101\n",
       "[22] zero(x::DataStructures.DiBitVector) in DataStructures at C:\\Users\\91863\\.julia\\packages\\DataStructures\\ixwFs\\src\\dibit_vector.jl:80\n",
       "[23] zero(x::AbstractArray{T, N} where N) where T in Base at abstractarray.jl:1085\n",
       "[24] zero(::Type{Dates.DateTime}) in Dates at C:\\Users\\91863\\AppData\\Local\\Programs\\Julia-1.6.1\\share\\julia\\stdlib\\v1.6\\Dates\\src\\types.jl:420\n",
       "[25] zero(::Type{Missing}) in Base at missing.jl:104\n",
       "[26] zero(::Type{Dates.Date}) in Dates at C:\\Users\\91863\\AppData\\Local\\Programs\\Julia-1.6.1\\share\\julia\\stdlib\\v1.6\\Dates\\src\\types.jl:421\n",
       "[27] zero(::Type{Pkg.Resolve.FieldValue}) in Pkg.Resolve at C:\\Users\\91863\\AppData\\Local\\Programs\\Julia-1.6.1\\share\\julia\\stdlib\\v1.6\\Pkg\\src\\Resolve\\fieldvalues.jl:38\n",
       "[28] zero(::Type{Pkg.Resolve.VersionWeight}) in Pkg.Resolve at C:\\Users\\91863\\AppData\\Local\\Programs\\Julia-1.6.1\\share\\julia\\stdlib\\v1.6\\Pkg\\src\\Resolve\\versionweights.jl:15\n",
       "[29] zero(::Type{LibGit2.GitHash}) in LibGit2 at C:\\Users\\91863\\AppData\\Local\\Programs\\Julia-1.6.1\\share\\julia\\stdlib\\v1.6\\LibGit2\\src\\oid.jl:221\n",
       "[30] zero(::Type{Dates.Time}) in Dates at C:\\Users\\91863\\AppData\\Local\\Programs\\Julia-1.6.1\\share\\julia\\stdlib\\v1.6\\Dates\\src\\types.jl:422\n",
       "[31] zero(::Type{Union{Missing, T}}) where T in Base at missing.jl:105"
      ]
     },
     "execution_count": 29,
     "metadata": {},
     "output_type": "execute_result"
    }
   ],
   "source": [
    "methods(zero)"
   ]
  },
  {
   "cell_type": "code",
   "execution_count": 31,
   "metadata": {},
   "outputs": [
    {
     "data": {
      "text/plain": [
       "0.0"
      ]
     },
     "execution_count": 31,
     "metadata": {},
     "output_type": "execute_result"
    }
   ],
   "source": [
    "zero(2.0)"
   ]
  },
  {
   "cell_type": "code",
   "execution_count": 12,
   "metadata": {},
   "outputs": [],
   "source": [
    "Base.zero(::Type{Bandits},N) = Bandits(zeros(N))"
   ]
  },
  {
   "cell_type": "code",
   "execution_count": 13,
   "metadata": {},
   "outputs": [
    {
     "data": {
      "text/plain": [
       "Bandits([0.0, 0.0, 0.0, 0.0, 0.0, 0.0, 0.0, 0.0], 0.0, 8)"
      ]
     },
     "execution_count": 13,
     "metadata": {},
     "output_type": "execute_result"
    }
   ],
   "source": [
    "a = zero(Bandits,8)"
   ]
  },
  {
   "cell_type": "code",
   "execution_count": 14,
   "metadata": {},
   "outputs": [
    {
     "data": {
      "text/plain": [
       "2×2 Matrix{Bandits}:\n",
       " #undef  #undef\n",
       " #undef  #undef"
      ]
     },
     "execution_count": 14,
     "metadata": {},
     "output_type": "execute_result"
    }
   ],
   "source": [
    "M = Matrix{Bandits}(undef,2,2)"
   ]
  },
  {
   "cell_type": "code",
   "execution_count": 15,
   "metadata": {},
   "outputs": [
    {
     "data": {
      "text/plain": [
       "2×2 Matrix{Bandits}:\n",
       " Bandits([0.0, 0.0, 0.0, 0.0, 0.0, 0.0, 0.0, 0.0], 0.0, 8)  …  Bandits([0.0, 0.0, 0.0, 0.0, 0.0, 0.0, 0.0, 0.0], 0.0, 8)\n",
       " Bandits([0.0, 0.0, 0.0, 0.0, 0.0, 0.0, 0.0, 0.0], 0.0, 8)     Bandits([0.0, 0.0, 0.0, 0.0, 0.0, 0.0, 0.0, 0.0], 0.0, 8)"
      ]
     },
     "execution_count": 15,
     "metadata": {},
     "output_type": "execute_result"
    }
   ],
   "source": [
    "fill!(M,a)"
   ]
  },
  {
   "cell_type": "code",
   "execution_count": 16,
   "metadata": {},
   "outputs": [
    {
     "data": {
      "text/plain": [
       "Matrix{Bandits} (alias for Array{Bandits, 2})"
      ]
     },
     "execution_count": 16,
     "metadata": {},
     "output_type": "execute_result"
    }
   ],
   "source": [
    "typeof(fill!(M,a))"
   ]
  },
  {
   "cell_type": "markdown",
   "metadata": {},
   "source": [
    "Use vectorisation"
   ]
  },
  {
   "cell_type": "code",
   "execution_count": 2,
   "metadata": {},
   "outputs": [
    {
     "data": {
      "text/plain": [
       "BayesianStrategy(Bandits([1.0, 2.0, 3.0, 4.0, 5.0], 5, 5), 5, [0.0, 0.0, 0.0, 0.0, 0.0], [0.0, 0.0, 0.0, 0.0, 0.0], 0, Any[], Any[])"
      ]
     },
     "execution_count": 2,
     "metadata": {},
     "output_type": "execute_result"
    }
   ],
   "source": [
    "x = [1,2,3,4,5]\n",
    "p = Bandits(x)\n",
    "z = BayesianStrategy(p)\n",
    "z1 = BayesianStrategy(p)"
   ]
  },
  {
   "cell_type": "code",
   "execution_count": 36,
   "metadata": {},
   "outputs": [
    {
     "data": {
      "text/plain": [
       "5-element Vector{BayesianStrategy}:\n",
       " #undef\n",
       " #undef\n",
       " #undef\n",
       " #undef\n",
       " #undef"
      ]
     },
     "execution_count": 36,
     "metadata": {},
     "output_type": "execute_result"
    }
   ],
   "source": [
    "V = Vector{BayesianStrategy}(undef, 5)"
   ]
  },
  {
   "cell_type": "code",
   "execution_count": 4,
   "metadata": {},
   "outputs": [
    {
     "data": {
      "text/plain": [
       "5-element Vector{BayesianStrategy}:\n",
       " BayesianStrategy(Bandits([1.0, 2.0, 3.0, 4.0, 5.0], 5, 5), 5, [0.0, 0.0, 0.0, 0.0, 0.0], [0.0, 0.0, 0.0, 0.0, 0.0], 0, Any[], Any[])\n",
       " BayesianStrategy(Bandits([1.0, 2.0, 3.0, 4.0, 5.0], 5, 5), 5, [0.0, 0.0, 0.0, 0.0, 0.0], [0.0, 0.0, 0.0, 0.0, 0.0], 0, Any[], Any[])\n",
       " BayesianStrategy(Bandits([1.0, 2.0, 3.0, 4.0, 5.0], 5, 5), 5, [0.0, 0.0, 0.0, 0.0, 0.0], [0.0, 0.0, 0.0, 0.0, 0.0], 0, Any[], Any[])\n",
       " BayesianStrategy(Bandits([1.0, 2.0, 3.0, 4.0, 5.0], 5, 5), 5, [0.0, 0.0, 0.0, 0.0, 0.0], [0.0, 0.0, 0.0, 0.0, 0.0], 0, Any[], Any[])\n",
       " BayesianStrategy(Bandits([1.0, 2.0, 3.0, 4.0, 5.0], 5, 5), 5, [0.0, 0.0, 0.0, 0.0, 0.0], [0.0, 0.0, 0.0, 0.0, 0.0], 0, Any[], Any[])"
      ]
     },
     "execution_count": 4,
     "metadata": {},
     "output_type": "execute_result"
    }
   ],
   "source": [
    "A = fill!(V,z)"
   ]
  },
  {
   "cell_type": "code",
   "execution_count": 3,
   "metadata": {},
   "outputs": [
    {
     "data": {
      "text/plain": [
       "BayesianStrategy(Bandits([1.0, 2.0, 3.0, 4.0, 5.0], 5, 5), 5, [1.0, 0.0, 0.0, 0.0, 0.0], [1.0, 0.0, 0.0, 0.0, 0.0], 1, Any[1.0], Any[1.0])"
      ]
     },
     "execution_count": 3,
     "metadata": {},
     "output_type": "execute_result"
    }
   ],
   "source": [
    "sample_bandits(z1,1)"
   ]
  },
  {
   "cell_type": "code",
   "execution_count": 56,
   "metadata": {},
   "outputs": [
    {
     "data": {
      "text/plain": [
       "5-element Vector{BayesianStrategy}:\n",
       " BayesianStrategy(Bandits([1.0, 2.0, 3.0, 4.0, 5.0], 5, 5), 5, [0.0, 2.0, 1.0, 0.0, 2.0], [0.0, 2.0, 1.0, 0.0, 2.0], 5, Any[5.0, 3.0, 2.0, 5.0, 2.0], Any[1.0, 1.0, 1.0, 1.0, 1.0])\n",
       " BayesianStrategy(Bandits([1.0, 2.0, 3.0, 4.0, 5.0], 5, 5), 5, [0.0, 2.0, 1.0, 0.0, 2.0], [0.0, 2.0, 1.0, 0.0, 2.0], 5, Any[5.0, 3.0, 2.0, 5.0, 2.0], Any[1.0, 1.0, 1.0, 1.0, 1.0])\n",
       " BayesianStrategy(Bandits([1.0, 2.0, 3.0, 4.0, 5.0], 5, 5), 5, [0.0, 2.0, 1.0, 0.0, 2.0], [0.0, 2.0, 1.0, 0.0, 2.0], 5, Any[5.0, 3.0, 2.0, 5.0, 2.0], Any[1.0, 1.0, 1.0, 1.0, 1.0])\n",
       " BayesianStrategy(Bandits([1.0, 2.0, 3.0, 4.0, 5.0], 5, 5), 5, [0.0, 2.0, 1.0, 0.0, 2.0], [0.0, 2.0, 1.0, 0.0, 2.0], 5, Any[5.0, 3.0, 2.0, 5.0, 2.0], Any[1.0, 1.0, 1.0, 1.0, 1.0])\n",
       " BayesianStrategy(Bandits([1.0, 2.0, 3.0, 4.0, 5.0], 5, 5), 5, [0.0, 2.0, 1.0, 0.0, 2.0], [0.0, 2.0, 1.0, 0.0, 2.0], 5, Any[5.0, 3.0, 2.0, 5.0, 2.0], Any[1.0, 1.0, 1.0, 1.0, 1.0])"
      ]
     },
     "execution_count": 56,
     "metadata": {},
     "output_type": "execute_result"
    }
   ],
   "source": [
    "broadcast(sample_bandits, A, 1)"
   ]
  },
  {
   "cell_type": "markdown",
   "metadata": {},
   "source": [
    "The above answer is wrong"
   ]
  },
  {
   "cell_type": "code",
   "execution_count": 5,
   "metadata": {},
   "outputs": [
    {
     "data": {
      "text/plain": [
       "5-element Vector{BayesianStrategy}:\n",
       " BayesianStrategy(Bandits([1.0, 2.0, 3.0, 4.0, 5.0], 5, 5), 5, [0.0, 1.0, 4.0, 0.0, 0.0], [0.0, 1.0, 4.0, 0.0, 0.0], 5, Any[2.0, 3.0, 3.0, 3.0, 3.0], Any[1.0, 1.0, 1.0, 1.0, 1.0])\n",
       " BayesianStrategy(Bandits([1.0, 2.0, 3.0, 4.0, 5.0], 5, 5), 5, [0.0, 1.0, 4.0, 0.0, 0.0], [0.0, 1.0, 4.0, 0.0, 0.0], 5, Any[2.0, 3.0, 3.0, 3.0, 3.0], Any[1.0, 1.0, 1.0, 1.0, 1.0])\n",
       " BayesianStrategy(Bandits([1.0, 2.0, 3.0, 4.0, 5.0], 5, 5), 5, [0.0, 1.0, 4.0, 0.0, 0.0], [0.0, 1.0, 4.0, 0.0, 0.0], 5, Any[2.0, 3.0, 3.0, 3.0, 3.0], Any[1.0, 1.0, 1.0, 1.0, 1.0])\n",
       " BayesianStrategy(Bandits([1.0, 2.0, 3.0, 4.0, 5.0], 5, 5), 5, [0.0, 1.0, 4.0, 0.0, 0.0], [0.0, 1.0, 4.0, 0.0, 0.0], 5, Any[2.0, 3.0, 3.0, 3.0, 3.0], Any[1.0, 1.0, 1.0, 1.0, 1.0])\n",
       " BayesianStrategy(Bandits([1.0, 2.0, 3.0, 4.0, 5.0], 5, 5), 5, [0.0, 1.0, 4.0, 0.0, 0.0], [0.0, 1.0, 4.0, 0.0, 0.0], 5, Any[2.0, 3.0, 3.0, 3.0, 3.0], Any[1.0, 1.0, 1.0, 1.0, 1.0])"
      ]
     },
     "execution_count": 5,
     "metadata": {},
     "output_type": "execute_result"
    }
   ],
   "source": [
    "sample_bandits.(A,1)"
   ]
  },
  {
   "cell_type": "markdown",
   "metadata": {},
   "source": [
    "The above answer is wrong"
   ]
  },
  {
   "cell_type": "markdown",
   "metadata": {},
   "source": [
    "Why wat happened ? wat is the solution"
   ]
  },
  {
   "cell_type": "markdown",
   "metadata": {},
   "source": [
    "it all has to do with pointers ! when you are passing a object in Julia u pass it by reference"
   ]
  },
  {
   "cell_type": "markdown",
   "metadata": {},
   "source": [
    "this means once you create an object and start to copy them :-\n",
    "you dont create new objects u just create multiple arrows referring to the same object"
   ]
  },
  {
   "cell_type": "code",
   "execution_count": 28,
   "metadata": {},
   "outputs": [
    {
     "data": {
      "text/plain": [
       "Bandits([1.0, 2.0, 3.0, 4.0, 5.0], 5, 5)"
      ]
     },
     "execution_count": 28,
     "metadata": {},
     "output_type": "execute_result"
    }
   ],
   "source": [
    "x = [1,2,3,4,5]\n",
    "p = Bandits(x)"
   ]
  },
  {
   "cell_type": "code",
   "execution_count": 12,
   "metadata": {},
   "outputs": [
    {
     "data": {
      "text/plain": [
       "Any[]"
      ]
     },
     "execution_count": 12,
     "metadata": {},
     "output_type": "execute_result"
    }
   ],
   "source": [
    "V = []"
   ]
  },
  {
   "cell_type": "code",
   "execution_count": 20,
   "metadata": {},
   "outputs": [
    {
     "data": {
      "text/html": [
       "# 5 methods for type constructor:<ul><li> (Vector{T} where T)() in Base at <a href=\"https://github.com/JuliaLang/julia/tree/6aaedecc447e3d8226d5027fb13d0c3cbfbfea2a/base/baseext.jl#L27\" target=\"_blank\">baseext.jl:27</a></li> <li> (Vector{T} where T)(D::<b>SuiteSparse.CHOLMOD.Dense{T}</b>)<i> where T</i> in SuiteSparse.CHOLMOD at <a href=\"file://C:/buildbot/worker/package_win64/build/usr/share/julia/stdlib/v1.6/SuiteSparse/src/cholmod.jl\" target=\"_blank\">C:\\Users\\91863\\AppData\\Local\\Programs\\Julia-1.6.1\\share\\julia\\stdlib\\v1.6\\SuiteSparse\\src\\cholmod.jl:997</a></li> <li> (Vector{T} where T)(x::<b>SparseArrays.AbstractSparseVector{Tv, Ti} where Ti</b>)<i> where Tv</i> in SparseArrays at <a href=\"file://C:/buildbot/worker/package_win64/build/usr/share/julia/stdlib/v1.6/SparseArrays/src/sparsevector.jl\" target=\"_blank\">C:\\Users\\91863\\AppData\\Local\\Programs\\Julia-1.6.1\\share\\julia\\stdlib\\v1.6\\SparseArrays\\src\\sparsevector.jl:936</a></li> <li> (Array{T, N} where T)(x::<b>AbstractArray{S, N}</b>)<i> where {S, N}</i> in Core at <a href=\"file://C:\\Users\\91863\\AppData\\Local\\Programs\\Julia-1.6.1\\share\\julia\\base\\boot.jl\" target=\"_blank\">boot.jl:470</a></li> <li> (Vector{T} where T)(::<b>UndefInitializer</b>, m::<b>Integer</b>) in Base at <a href=\"https://github.com/JuliaLang/julia/tree/6aaedecc447e3d8226d5027fb13d0c3cbfbfea2a/base/baseext.jl#L21\" target=\"_blank\">baseext.jl:21</a></li> </ul>"
      ],
      "text/plain": [
       "# 5 methods for type constructor:\n",
       "[1] (Vector{T} where T)() in Base at baseext.jl:27\n",
       "[2] (Vector{T} where T)(D::SuiteSparse.CHOLMOD.Dense{T}) where T in SuiteSparse.CHOLMOD at C:\\Users\\91863\\AppData\\Local\\Programs\\Julia-1.6.1\\share\\julia\\stdlib\\v1.6\\SuiteSparse\\src\\cholmod.jl:997\n",
       "[3] (Vector{T} where T)(x::SparseArrays.AbstractSparseVector{Tv, Ti} where Ti) where Tv in SparseArrays at C:\\Users\\91863\\AppData\\Local\\Programs\\Julia-1.6.1\\share\\julia\\stdlib\\v1.6\\SparseArrays\\src\\sparsevector.jl:936\n",
       "[4] (Array{T, N} where T)(x::AbstractArray{S, N}) where {S, N} in Core at boot.jl:470\n",
       "[5] (Vector{T} where T)(::UndefInitializer, m::Integer) in Base at baseext.jl:21"
      ]
     },
     "execution_count": 20,
     "metadata": {},
     "output_type": "execute_result"
    }
   ],
   "source": [
    "methods(Vector)"
   ]
  },
  {
   "cell_type": "code",
   "execution_count": 14,
   "metadata": {},
   "outputs": [
    {
     "data": {
      "text/plain": [
       "5-element Vector{Vector{Int64}}:\n",
       " [1, 2, 3, 4, 5]\n",
       " [1, 2, 3, 4, 5]\n",
       " [1, 2, 3, 4, 5]\n",
       " [1, 2, 3, 4, 5]\n",
       " [1, 2, 3, 4, 5]"
      ]
     },
     "execution_count": 14,
     "metadata": {},
     "output_type": "execute_result"
    }
   ],
   "source": [
    "V = [x for i in 1:5]"
   ]
  },
  {
   "cell_type": "markdown",
   "metadata": {},
   "source": [
    "lets try to take this apart one bit at a time"
   ]
  },
  {
   "cell_type": "markdown",
   "metadata": {},
   "source": [
    "Let's take a look at the methods of Vector"
   ]
  },
  {
   "cell_type": "markdown",
   "metadata": {},
   "source": [
    "(Vector{T} where T)() in Base at baseext.jl:27 \n",
    "This implies we can pass any kind of Type to it without declaring the Type"
   ]
  },
  {
   "cell_type": "code",
   "execution_count": null,
   "metadata": {},
   "outputs": [],
   "source": []
  },
  {
   "cell_type": "code",
   "execution_count": 19,
   "metadata": {},
   "outputs": [
    {
     "data": {
      "text/plain": [
       "5-element Vector{Bandits}:\n",
       " Bandits([1.0, 2.0, 3.0, 4.0, 5.0], 5, 5)\n",
       " Bandits([1.0, 2.0, 3.0, 4.0, 5.0], 5, 5)\n",
       " Bandits([1.0, 2.0, 3.0, 4.0, 5.0], 5, 5)\n",
       " Bandits([1.0, 2.0, 3.0, 4.0, 5.0], 5, 5)\n",
       " Bandits([1.0, 2.0, 3.0, 4.0, 5.0], 5, 5)"
      ]
     },
     "execution_count": 19,
     "metadata": {},
     "output_type": "execute_result"
    }
   ],
   "source": [
    "Y = Bandits.(V)"
   ]
  },
  {
   "cell_type": "markdown",
   "metadata": {},
   "source": [
    "Viola ! Julia understood that it needs to create a vector of Bandits without having to encounter this type before"
   ]
  },
  {
   "cell_type": "markdown",
   "metadata": {},
   "source": [
    "Lets push it further!!!"
   ]
  },
  {
   "cell_type": "code",
   "execution_count": 26,
   "metadata": {},
   "outputs": [
    {
     "data": {
      "text/plain": [
       "5-element Vector{BayesianStrategy}:\n",
       " BayesianStrategy(Bandits([1.0, 2.0, 3.0, 4.0, 5.0], 5, 5), 5, [0.0, 0.0, 0.0, 0.0, 0.0], [0.0, 0.0, 0.0, 0.0, 0.0], 0, Any[], Any[])\n",
       " BayesianStrategy(Bandits([1.0, 2.0, 3.0, 4.0, 5.0], 5, 5), 5, [0.0, 0.0, 0.0, 0.0, 0.0], [0.0, 0.0, 0.0, 0.0, 0.0], 0, Any[], Any[])\n",
       " BayesianStrategy(Bandits([1.0, 2.0, 3.0, 4.0, 5.0], 5, 5), 5, [0.0, 0.0, 0.0, 0.0, 0.0], [0.0, 0.0, 0.0, 0.0, 0.0], 0, Any[], Any[])\n",
       " BayesianStrategy(Bandits([1.0, 2.0, 3.0, 4.0, 5.0], 5, 5), 5, [0.0, 0.0, 0.0, 0.0, 0.0], [0.0, 0.0, 0.0, 0.0, 0.0], 0, Any[], Any[])\n",
       " BayesianStrategy(Bandits([1.0, 2.0, 3.0, 4.0, 5.0], 5, 5), 5, [0.0, 0.0, 0.0, 0.0, 0.0], [0.0, 0.0, 0.0, 0.0, 0.0], 0, Any[], Any[])"
      ]
     },
     "execution_count": 26,
     "metadata": {},
     "output_type": "execute_result"
    }
   ],
   "source": [
    "C = BayesianStrategy.(Y)"
   ]
  },
  {
   "cell_type": "markdown",
   "metadata": {},
   "source": [
    "Now we can see a Vector of BayesianStrategy !"
   ]
  },
  {
   "cell_type": "markdown",
   "metadata": {},
   "source": [
    "We know we can use broadcasting (taking advantage of vectorisation) by simply using '.' operator ."
   ]
  },
  {
   "cell_type": "markdown",
   "metadata": {},
   "source": [
    "sample_bandits takes input of BayesianStrategy type(not a vector !)\n",
    "Lets try to see if it works ?"
   ]
  },
  {
   "cell_type": "code",
   "execution_count": 27,
   "metadata": {},
   "outputs": [
    {
     "data": {
      "text/plain": [
       "5-element Vector{BayesianStrategy}:\n",
       " BayesianStrategy(Bandits([1.0, 2.0, 3.0, 4.0, 5.0], 5, 5), 5, [0.0, 0.0, 0.0, 1.0, 0.0], [0.0, 0.0, 0.0, 1.0, 0.0], 1, Any[4.0], Any[1.0])\n",
       " BayesianStrategy(Bandits([1.0, 2.0, 3.0, 4.0, 5.0], 5, 5), 5, [0.0, 0.0, 0.0, 1.0, 0.0], [0.0, 0.0, 0.0, 1.0, 0.0], 1, Any[4.0], Any[1.0])\n",
       " BayesianStrategy(Bandits([1.0, 2.0, 3.0, 4.0, 5.0], 5, 5), 5, [0.0, 0.0, 0.0, 0.0, 1.0], [0.0, 0.0, 0.0, 0.0, 1.0], 1, Any[5.0], Any[1.0])\n",
       " BayesianStrategy(Bandits([1.0, 2.0, 3.0, 4.0, 5.0], 5, 5), 5, [0.0, 0.0, 0.0, 1.0, 0.0], [0.0, 0.0, 0.0, 1.0, 0.0], 1, Any[4.0], Any[1.0])\n",
       " BayesianStrategy(Bandits([1.0, 2.0, 3.0, 4.0, 5.0], 5, 5), 5, [0.0, 0.0, 1.0, 0.0, 0.0], [0.0, 0.0, 1.0, 0.0, 0.0], 1, Any[3.0], Any[1.0])"
      ]
     },
     "execution_count": 27,
     "metadata": {},
     "output_type": "execute_result"
    }
   ],
   "source": [
    "sample_bandits.(C,1)"
   ]
  },
  {
   "cell_type": "code",
   "execution_count": 30,
   "metadata": {},
   "outputs": [
    {
     "data": {
      "text/plain": [
       "5-element Vector{BayesianStrategy}:\n",
       " BayesianStrategy(Bandits([1.0, 2.0, 3.0, 4.0, 5.0], 5, 5), 5, [0.0, 0.0, 0.0, 0.0, 0.0], [0.0, 0.0, 0.0, 0.0, 0.0], 0, Any[], Any[])\n",
       " BayesianStrategy(Bandits([1.0, 2.0, 3.0, 4.0, 5.0], 5, 5), 5, [0.0, 0.0, 0.0, 0.0, 0.0], [0.0, 0.0, 0.0, 0.0, 0.0], 0, Any[], Any[])\n",
       " BayesianStrategy(Bandits([1.0, 2.0, 3.0, 4.0, 5.0], 5, 5), 5, [0.0, 0.0, 0.0, 0.0, 0.0], [0.0, 0.0, 0.0, 0.0, 0.0], 0, Any[], Any[])\n",
       " BayesianStrategy(Bandits([1.0, 2.0, 3.0, 4.0, 5.0], 5, 5), 5, [0.0, 0.0, 0.0, 0.0, 0.0], [0.0, 0.0, 0.0, 0.0, 0.0], 0, Any[], Any[])\n",
       " BayesianStrategy(Bandits([1.0, 2.0, 3.0, 4.0, 5.0], 5, 5), 5, [0.0, 0.0, 0.0, 0.0, 0.0], [0.0, 0.0, 0.0, 0.0, 0.0], 0, Any[], Any[])"
      ]
     },
     "execution_count": 30,
     "metadata": {},
     "output_type": "execute_result"
    }
   ],
   "source": [
    "X = BayesianStrategy.(Bandits.(V))"
   ]
  },
  {
   "cell_type": "code",
   "execution_count": 18,
   "metadata": {},
   "outputs": [
    {
     "data": {
      "text/plain": [
       "5-element Vector{BayesianStrategy}:\n",
       " BayesianStrategy(Bandits([1.0, 2.0, 3.0, 4.0, 5.0], 5, 5), 5, [0.0, 0.0, 1.0, 0.0, 0.0], [0.0, 0.0, 1.0, 0.0, 0.0], 1, Any[3.0], Any[1.0])\n",
       " BayesianStrategy(Bandits([1.0, 2.0, 3.0, 4.0, 5.0], 5, 5), 5, [0.0, 1.0, 0.0, 0.0, 0.0], [0.0, 1.0, 0.0, 0.0, 0.0], 1, Any[2.0], Any[1.0])\n",
       " BayesianStrategy(Bandits([1.0, 2.0, 3.0, 4.0, 5.0], 5, 5), 5, [1.0, 0.0, 0.0, 0.0, 0.0], [1.0, 0.0, 0.0, 0.0, 0.0], 1, Any[1.0], Any[1.0])\n",
       " BayesianStrategy(Bandits([1.0, 2.0, 3.0, 4.0, 5.0], 5, 5), 5, [0.0, 0.0, 0.0, 1.0, 0.0], [0.0, 0.0, 0.0, 1.0, 0.0], 1, Any[4.0], Any[1.0])\n",
       " BayesianStrategy(Bandits([1.0, 2.0, 3.0, 4.0, 5.0], 5, 5), 5, [0.0, 0.0, 0.0, 1.0, 0.0], [0.0, 0.0, 0.0, 1.0, 0.0], 1, Any[4.0], Any[1.0])"
      ]
     },
     "execution_count": 18,
     "metadata": {},
     "output_type": "execute_result"
    }
   ],
   "source": [
    "sample_bandits.(X,1)"
   ]
  },
  {
   "cell_type": "markdown",
   "metadata": {},
   "source": [
    "Lets complicate this problem further ! coz y not :p"
   ]
  },
  {
   "cell_type": "code",
   "execution_count": 28,
   "metadata": {},
   "outputs": [
    {
     "data": {
      "text/plain": [
       "regret (generic function with 1 method)"
      ]
     },
     "execution_count": 28,
     "metadata": {},
     "output_type": "execute_result"
    }
   ],
   "source": [
    "using Distributions\n",
    "function sample_bandits_other_strats(B::BayesianStrategy,n = 1,strats = \"bayesian_bandit_choice\")\n",
    "    bb_score = zeros(n)\n",
    "    choices  = zeros(n)\n",
    "    for k in 1:n\n",
    "        #sample from the bandits's priors, and select the largest sample\n",
    "        #choice_function chooses the strats depending on our choice\n",
    "        choice = choice_function(B,strats)\n",
    "        \n",
    "        #sample the chosen bandit\n",
    "        result = pull(B.bandits.p,choice)\n",
    "        \n",
    "        #update priors and score\n",
    "        B.wins[choice]   += result\n",
    "        B.trials[choice] += 1\n",
    "        bb_score[k]      = result\n",
    "        B.N              += 1\n",
    "        choices[k]       = choice\n",
    "    end\n",
    "    append!( B.bb_score, bb_score )\n",
    "    append!( B.choices, choices )\n",
    "    return B\n",
    "end\n",
    "\n",
    "function choice_function(B::BayesianStrategy,strats)\n",
    "    if strats == \"bayesian_bandit_choice\"\n",
    "        #bayesian_bandit_choice\n",
    "        choice = argmax(rand.(Beta.(1 .+ B.wins ,1 .+ B.trials - B.wins)))\n",
    "        \n",
    "    elseif strats == \"max_mean\"\n",
    "        #max_mean : pick the bandit with the current best observed proportion of winning \n",
    "        choice = argmax(B.wins ./ (B.trials .+ 1));\n",
    "        \n",
    "    elseif strats == \"lower_credible_choice\"\n",
    "        #pick the bandit with the best LOWER BOUND\n",
    "        a = B.wins .+ 1\n",
    "        b = 1 .+ B.trials - B.wins\n",
    "        lb = (a./(a+b)) .- 1.65.*sqrt.((a.*b)./( ((a+b).^2).*(a.+b.+1) ))\n",
    "        choice = argmax(lb)\n",
    "        \n",
    "    elseif strats == \"upper_credible_choice\"\n",
    "        a = 1 .+ B.wins\n",
    "        b = 1 .+ B.trials - B.wins\n",
    "        lb = (a./(a.+b)) .+ 1.65.*sqrt.((a.*b)./( ((a+b).^2).*(a.+b.+1) ))\n",
    "        choice = argmax(lb)\n",
    "        \n",
    "    elseif strats == \"ucb_bayes\"\n",
    "        a = B.wins .+ 1\n",
    "        b = 1 .+ B.trials - B.wins\n",
    "        alpha = 1- 1.0/(B.N+1)\n",
    "        choice = argmax(quantile.(Beta.(a,b),alpha))\n",
    "        \n",
    "    elseif strats == \"random_choice\"\n",
    "        choice = rand(1:length(B.wins));\n",
    "    else\n",
    "        choice = []\n",
    "    end\n",
    "    return choice\n",
    "end\n",
    "\n",
    "regret(probabilities, choices) = cumsum(maximum(probabilities) .- probabilities[convert( Vector{Int},choices)])"
   ]
  },
  {
   "cell_type": "code",
   "execution_count": 31,
   "metadata": {},
   "outputs": [
    {
     "data": {
      "text/plain": [
       "5-element Vector{BayesianStrategy}:\n",
       " BayesianStrategy(Bandits([1.0, 2.0, 3.0, 4.0, 5.0], 5, 5), 5, [0.0, 0.0, 0.0, 0.0, 0.0], [0.0, 0.0, 0.0, 0.0, 0.0], 0, Any[], Any[])\n",
       " BayesianStrategy(Bandits([1.0, 2.0, 3.0, 4.0, 5.0], 5, 5), 5, [0.0, 0.0, 0.0, 0.0, 0.0], [0.0, 0.0, 0.0, 0.0, 0.0], 0, Any[], Any[])\n",
       " BayesianStrategy(Bandits([1.0, 2.0, 3.0, 4.0, 5.0], 5, 5), 5, [0.0, 0.0, 0.0, 0.0, 0.0], [0.0, 0.0, 0.0, 0.0, 0.0], 0, Any[], Any[])\n",
       " BayesianStrategy(Bandits([1.0, 2.0, 3.0, 4.0, 5.0], 5, 5), 5, [0.0, 0.0, 0.0, 0.0, 0.0], [0.0, 0.0, 0.0, 0.0, 0.0], 0, Any[], Any[])\n",
       " BayesianStrategy(Bandits([1.0, 2.0, 3.0, 4.0, 5.0], 5, 5), 5, [0.0, 0.0, 0.0, 0.0, 0.0], [0.0, 0.0, 0.0, 0.0, 0.0], 0, Any[], Any[])"
      ]
     },
     "execution_count": 31,
     "metadata": {},
     "output_type": "execute_result"
    }
   ],
   "source": [
    "X = BayesianStrategy.(Bandits.(V))\n",
    "X"
   ]
  },
  {
   "cell_type": "code",
   "execution_count": 32,
   "metadata": {},
   "outputs": [
    {
     "data": {
      "text/plain": [
       "5-element Vector{String}:\n",
       " \"upper_credible_choice\"\n",
       " \"bayesian_bandit_choice\"\n",
       " \"ucb_bayes\"\n",
       " \"max_mean\"\n",
       " \"random_choice\""
      ]
     },
     "execution_count": 32,
     "metadata": {},
     "output_type": "execute_result"
    }
   ],
   "source": [
    "strategies= [\"upper_credible_choice\", \n",
    "            \"bayesian_bandit_choice\", \n",
    "            \"ucb_bayes\" , \n",
    "            \"max_mean\",\n",
    "            \"random_choice\"]"
   ]
  },
  {
   "cell_type": "code",
   "execution_count": 33,
   "metadata": {},
   "outputs": [
    {
     "data": {
      "text/plain": [
       "5-element Vector{BayesianStrategy}:\n",
       " BayesianStrategy(Bandits([1.0, 2.0, 3.0, 4.0, 5.0], 5, 5), 5, [100.0, 0.0, 0.0, 0.0, 0.0], [100.0, 0.0, 0.0, 0.0, 0.0], 100, Any[1.0, 1.0, 1.0, 1.0, 1.0, 1.0, 1.0, 1.0, 1.0, 1.0  …  1.0, 1.0, 1.0, 1.0, 1.0, 1.0, 1.0, 1.0, 1.0, 1.0], Any[1.0, 1.0, 1.0, 1.0, 1.0, 1.0, 1.0, 1.0, 1.0, 1.0  …  1.0, 1.0, 1.0, 1.0, 1.0, 1.0, 1.0, 1.0, 1.0, 1.0])\n",
       " BayesianStrategy(Bandits([1.0, 2.0, 3.0, 4.0, 5.0], 5, 5), 5, [0.0, 21.0, 14.0, 4.0, 61.0], [0.0, 21.0, 14.0, 4.0, 61.0], 100, Any[5.0, 5.0, 5.0, 3.0, 5.0, 2.0, 5.0, 5.0, 5.0, 2.0  …  5.0, 3.0, 2.0, 5.0, 2.0, 5.0, 5.0, 2.0, 3.0, 3.0], Any[1.0, 1.0, 1.0, 1.0, 1.0, 1.0, 1.0, 1.0, 1.0, 1.0  …  1.0, 1.0, 1.0, 1.0, 1.0, 1.0, 1.0, 1.0, 1.0, 1.0])\n",
       " BayesianStrategy(Bandits([1.0, 2.0, 3.0, 4.0, 5.0], 5, 5), 5, [100.0, 0.0, 0.0, 0.0, 0.0], [100.0, 0.0, 0.0, 0.0, 0.0], 100, Any[1.0, 1.0, 1.0, 1.0, 1.0, 1.0, 1.0, 1.0, 1.0, 1.0  …  1.0, 1.0, 1.0, 1.0, 1.0, 1.0, 1.0, 1.0, 1.0, 1.0], Any[1.0, 1.0, 1.0, 1.0, 1.0, 1.0, 1.0, 1.0, 1.0, 1.0  …  1.0, 1.0, 1.0, 1.0, 1.0, 1.0, 1.0, 1.0, 1.0, 1.0])\n",
       " BayesianStrategy(Bandits([1.0, 2.0, 3.0, 4.0, 5.0], 5, 5), 5, [100.0, 0.0, 0.0, 0.0, 0.0], [100.0, 0.0, 0.0, 0.0, 0.0], 100, Any[1.0, 1.0, 1.0, 1.0, 1.0, 1.0, 1.0, 1.0, 1.0, 1.0  …  1.0, 1.0, 1.0, 1.0, 1.0, 1.0, 1.0, 1.0, 1.0, 1.0], Any[1.0, 1.0, 1.0, 1.0, 1.0, 1.0, 1.0, 1.0, 1.0, 1.0  …  1.0, 1.0, 1.0, 1.0, 1.0, 1.0, 1.0, 1.0, 1.0, 1.0])\n",
       " BayesianStrategy(Bandits([1.0, 2.0, 3.0, 4.0, 5.0], 5, 5), 5, [17.0, 17.0, 23.0, 17.0, 26.0], [17.0, 17.0, 23.0, 17.0, 26.0], 100, Any[4.0, 1.0, 2.0, 1.0, 2.0, 3.0, 5.0, 3.0, 2.0, 4.0  …  4.0, 1.0, 4.0, 3.0, 5.0, 1.0, 1.0, 4.0, 3.0, 3.0], Any[1.0, 1.0, 1.0, 1.0, 1.0, 1.0, 1.0, 1.0, 1.0, 1.0  …  1.0, 1.0, 1.0, 1.0, 1.0, 1.0, 1.0, 1.0, 1.0, 1.0])"
      ]
     },
     "execution_count": 33,
     "metadata": {},
     "output_type": "execute_result"
    }
   ],
   "source": [
    " sample_bandits_other_strats.(X,100,strategies)"
   ]
  },
  {
   "cell_type": "code",
   "execution_count": 4,
   "metadata": {},
   "outputs": [
    {
     "data": {
      "text/plain": [
       "5-element Vector{Float64}:\n",
       " 17.0\n",
       " 17.0\n",
       " 23.0\n",
       " 17.0\n",
       " 26.0"
      ]
     },
     "execution_count": 4,
     "metadata": {},
     "output_type": "execute_result"
    }
   ],
   "source": [
    "wins = [17.0, 17.0, 23.0, 17.0, 26.0]\n",
    "trials =  [17.0, 17.0, 23.0, 17.0, 26.0]"
   ]
  },
  {
   "cell_type": "code",
   "execution_count": 6,
   "metadata": {},
   "outputs": [
    {
     "data": {
      "text/plain": [
       "Beta{Float64}(α=18.0, β=1.0)"
      ]
     },
     "execution_count": 6,
     "metadata": {},
     "output_type": "execute_result"
    }
   ],
   "source": [
    "Beta(1 + wins[1], 1 + trials[1] - wins[1])"
   ]
  },
  {
   "cell_type": "code",
   "execution_count": 5,
   "metadata": {},
   "outputs": [],
   "source": [
    "using Distributions"
   ]
  },
  {
   "cell_type": "code",
   "execution_count": 8,
   "metadata": {},
   "outputs": [
    {
     "data": {
      "text/plain": [
       "5-element Vector{Float64}:\n",
       " 18.0\n",
       " 18.0\n",
       " 24.0\n",
       " 18.0\n",
       " 27.0"
      ]
     },
     "execution_count": 8,
     "metadata": {},
     "output_type": "execute_result"
    }
   ],
   "source": [
    "1 .+ wins"
   ]
  },
  {
   "cell_type": "code",
   "execution_count": 9,
   "metadata": {},
   "outputs": [
    {
     "data": {
      "text/plain": [
       "5-element Vector{Float64}:\n",
       " 1.0\n",
       " 1.0\n",
       " 1.0\n",
       " 1.0\n",
       " 1.0"
      ]
     },
     "execution_count": 9,
     "metadata": {},
     "output_type": "execute_result"
    }
   ],
   "source": [
    "1 .+ trials - wins"
   ]
  },
  {
   "cell_type": "code",
   "execution_count": 10,
   "metadata": {},
   "outputs": [
    {
     "data": {
      "text/plain": [
       "5-element Vector{Beta{Float64}}:\n",
       " Beta{Float64}(α=18.0, β=1.0)\n",
       " Beta{Float64}(α=18.0, β=1.0)\n",
       " Beta{Float64}(α=24.0, β=1.0)\n",
       " Beta{Float64}(α=18.0, β=1.0)\n",
       " Beta{Float64}(α=27.0, β=1.0)"
      ]
     },
     "execution_count": 10,
     "metadata": {},
     "output_type": "execute_result"
    }
   ],
   "source": [
    "Beta.(1 .+ wins, 1 .+ trials - wins)"
   ]
  },
  {
   "cell_type": "code",
   "execution_count": 11,
   "metadata": {},
   "outputs": [
    {
     "data": {
      "text/plain": [
       "5-element Vector{Float64}:\n",
       " 0.9502803101535015\n",
       " 0.9420562776741263\n",
       " 0.9062253739570402\n",
       " 0.9987616143052866\n",
       " 0.9946406245943975"
      ]
     },
     "execution_count": 11,
     "metadata": {},
     "output_type": "execute_result"
    }
   ],
   "source": [
    "rand.(Beta.(1 .+ wins, 1 .+ trials - wins))"
   ]
  },
  {
   "cell_type": "code",
   "execution_count": 21,
   "metadata": {},
   "outputs": [
    {
     "data": {
      "text/plain": [
       "4"
      ]
     },
     "execution_count": 21,
     "metadata": {},
     "output_type": "execute_result"
    }
   ],
   "source": [
    "argmax(rand.(Beta.(1 .+ wins, 1 .+ trials - wins)))"
   ]
  },
  {
   "cell_type": "code",
   "execution_count": 23,
   "metadata": {},
   "outputs": [
    {
     "data": {
      "text/html": [
       "# 271 methods for generic function <b>+</b>:<ul><li> +(x::<b>T</b>, y::<b>T</b>)<i> where T<:Union{Int128, Int16, Int32, Int64, Int8, UInt128, UInt16, UInt32, UInt64, UInt8}</i> in Base at <a href=\"https://github.com/JuliaLang/julia/tree/6aaedecc447e3d8226d5027fb13d0c3cbfbfea2a/base/int.jl#L87\" target=\"_blank\">int.jl:87</a></li> <li> +(c::<b>Union{UInt16, UInt32, UInt8}</b>, x::<b>BigInt</b>) in Base.GMP at <a href=\"https://github.com/JuliaLang/julia/tree/6aaedecc447e3d8226d5027fb13d0c3cbfbfea2a/base/gmp.jl#L528\" target=\"_blank\">gmp.jl:528</a></li> <li> +(c::<b>Union{Int16, Int32, Int8}</b>, x::<b>BigInt</b>) in Base.GMP at <a href=\"https://github.com/JuliaLang/julia/tree/6aaedecc447e3d8226d5027fb13d0c3cbfbfea2a/base/gmp.jl#L534\" target=\"_blank\">gmp.jl:534</a></li> <li> +(c::<b>Union{UInt16, UInt32, UInt8}</b>, x::<b>BigFloat</b>) in Base.MPFR at <a href=\"https://github.com/JuliaLang/julia/tree/6aaedecc447e3d8226d5027fb13d0c3cbfbfea2a/base/mpfr.jl#L376\" target=\"_blank\">mpfr.jl:376</a></li> <li> +(c::<b>Union{Int16, Int32, Int8}</b>, x::<b>BigFloat</b>) in Base.MPFR at <a href=\"https://github.com/JuliaLang/julia/tree/6aaedecc447e3d8226d5027fb13d0c3cbfbfea2a/base/mpfr.jl#L384\" target=\"_blank\">mpfr.jl:384</a></li> <li> +(c::<b>Union{Float16, Float32, Float64}</b>, x::<b>BigFloat</b>) in Base.MPFR at <a href=\"https://github.com/JuliaLang/julia/tree/6aaedecc447e3d8226d5027fb13d0c3cbfbfea2a/base/mpfr.jl#L392\" target=\"_blank\">mpfr.jl:392</a></li> <li> +(x::<b>Union{Dates.CompoundPeriod, Dates.Period}</b>) in Dates at <a href=\"file://C:/buildbot/worker/package_win64/build/usr/share/julia/stdlib/v1.6/Dates/src/periods.jl\" target=\"_blank\">C:\\Users\\91863\\AppData\\Local\\Programs\\Julia-1.6.1\\share\\julia\\stdlib\\v1.6\\Dates\\src\\periods.jl:362</a></li> <li> +(A::<b>SparseArrays.AbstractSparseMatrix{Tv, Ti} where {Tv, Ti}</b>, B::<b>LinearAlgebra.Hermitian{var\"#s832\", var\"#s831\"} where {var\"#s832\", var\"#s831\"<:(SparseArrays.AbstractSparseMatrix{Tv, Ti} where {Tv, Ti})}</b>) in SparseArrays at <a href=\"file://C:/buildbot/worker/package_win64/build/usr/share/julia/stdlib/v1.6/SparseArrays/src/linalg.jl\" target=\"_blank\">C:\\Users\\91863\\AppData\\Local\\Programs\\Julia-1.6.1\\share\\julia\\stdlib\\v1.6\\SparseArrays\\src\\linalg.jl:14</a></li> <li> +(A::<b>SparseArrays.AbstractSparseMatrix{Tv, Ti} where {Tv, Ti}</b>, B::<b>LinearAlgebra.Hermitian</b>) in SparseArrays at <a href=\"file://C:/buildbot/worker/package_win64/build/usr/share/julia/stdlib/v1.6/SparseArrays/src/linalg.jl\" target=\"_blank\">C:\\Users\\91863\\AppData\\Local\\Programs\\Julia-1.6.1\\share\\julia\\stdlib\\v1.6\\SparseArrays\\src\\linalg.jl:17</a></li> <li> +(A::<b>SparseArrays.AbstractSparseMatrix{Tv, Ti} where {Tv, Ti}</b>, B::<b>LinearAlgebra.Symmetric{var\"#s832\", var\"#s831\"} where {var\"#s832\", var\"#s831\"<:(SparseArrays.AbstractSparseMatrix{Tv, Ti} where {Tv, Ti})}</b>) in SparseArrays at <a href=\"file://C:/buildbot/worker/package_win64/build/usr/share/julia/stdlib/v1.6/SparseArrays/src/linalg.jl\" target=\"_blank\">C:\\Users\\91863\\AppData\\Local\\Programs\\Julia-1.6.1\\share\\julia\\stdlib\\v1.6\\SparseArrays\\src\\linalg.jl:14</a></li> <li> +(A::<b>SparseArrays.AbstractSparseMatrix{Tv, Ti} where {Tv, Ti}</b>, B::<b>LinearAlgebra.Symmetric</b>) in SparseArrays at <a href=\"file://C:/buildbot/worker/package_win64/build/usr/share/julia/stdlib/v1.6/SparseArrays/src/linalg.jl\" target=\"_blank\">C:\\Users\\91863\\AppData\\Local\\Programs\\Julia-1.6.1\\share\\julia\\stdlib\\v1.6\\SparseArrays\\src\\linalg.jl:17</a></li> <li> +(A::<b>LinearAlgebra.UpperHessenberg</b>, B::<b>LinearAlgebra.UpperHessenberg</b>) in LinearAlgebra at <a href=\"file://C:/buildbot/worker/package_win64/build/usr/share/julia/stdlib/v1.6/LinearAlgebra/src/hessenberg.jl\" target=\"_blank\">C:\\Users\\91863\\AppData\\Local\\Programs\\Julia-1.6.1\\share\\julia\\stdlib\\v1.6\\LinearAlgebra\\src\\hessenberg.jl:101</a></li> <li> +(H::<b>LinearAlgebra.UpperHessenberg</b>, J::<b>LinearAlgebra.UniformScaling</b>) in LinearAlgebra at <a href=\"file://C:/buildbot/worker/package_win64/build/usr/share/julia/stdlib/v1.6/LinearAlgebra/src/hessenberg.jl\" target=\"_blank\">C:\\Users\\91863\\AppData\\Local\\Programs\\Julia-1.6.1\\share\\julia\\stdlib\\v1.6\\LinearAlgebra\\src\\hessenberg.jl:106</a></li> <li> +(J::<b>LinearAlgebra.UniformScaling</b>) in LinearAlgebra at <a href=\"file://C:/buildbot/worker/package_win64/build/usr/share/julia/stdlib/v1.6/LinearAlgebra/src/uniformscaling.jl\" target=\"_blank\">C:\\Users\\91863\\AppData\\Local\\Programs\\Julia-1.6.1\\share\\julia\\stdlib\\v1.6\\LinearAlgebra\\src\\uniformscaling.jl:150</a></li> <li> +(J::<b>LinearAlgebra.UniformScaling</b>, x::<b>Number</b>) in LinearAlgebra at <a href=\"file://C:/buildbot/worker/package_win64/build/usr/share/julia/stdlib/v1.6/LinearAlgebra/src/uniformscaling.jl\" target=\"_blank\">C:\\Users\\91863\\AppData\\Local\\Programs\\Julia-1.6.1\\share\\julia\\stdlib\\v1.6\\LinearAlgebra\\src\\uniformscaling.jl:145</a></li> <li> +(J1::<b>LinearAlgebra.UniformScaling</b>, J2::<b>LinearAlgebra.UniformScaling</b>) in LinearAlgebra at <a href=\"file://C:/buildbot/worker/package_win64/build/usr/share/julia/stdlib/v1.6/LinearAlgebra/src/uniformscaling.jl\" target=\"_blank\">C:\\Users\\91863\\AppData\\Local\\Programs\\Julia-1.6.1\\share\\julia\\stdlib\\v1.6\\LinearAlgebra\\src\\uniformscaling.jl:151</a></li> <li> +(J::<b>LinearAlgebra.UniformScaling</b>, B::<b>BitMatrix</b>) in LinearAlgebra at <a href=\"file://C:/buildbot/worker/package_win64/build/usr/share/julia/stdlib/v1.6/LinearAlgebra/src/uniformscaling.jl\" target=\"_blank\">C:\\Users\\91863\\AppData\\Local\\Programs\\Julia-1.6.1\\share\\julia\\stdlib\\v1.6\\LinearAlgebra\\src\\uniformscaling.jl:153</a></li> <li> +(J::<b>LinearAlgebra.UniformScaling</b>, F::<b>LinearAlgebra.Hessenberg</b>) in LinearAlgebra at <a href=\"file://C:/buildbot/worker/package_win64/build/usr/share/julia/stdlib/v1.6/LinearAlgebra/src/hessenberg.jl\" target=\"_blank\">C:\\Users\\91863\\AppData\\Local\\Programs\\Julia-1.6.1\\share\\julia\\stdlib\\v1.6\\LinearAlgebra\\src\\hessenberg.jl:560</a></li> <li> +(A::<b>LinearAlgebra.UniformScaling</b>, B::<b>LinearAlgebra.Tridiagonal{var\"#s832\", V} where {var\"#s832\"<:Number, V<:AbstractVector{var\"#s832\"}}</b>) in LinearAlgebra at <a href=\"file://C:/buildbot/worker/package_win64/build/usr/share/julia/stdlib/v1.6/LinearAlgebra/src/special.jl\" target=\"_blank\">C:\\Users\\91863\\AppData\\Local\\Programs\\Julia-1.6.1\\share\\julia\\stdlib\\v1.6\\LinearAlgebra\\src\\special.jl:245</a></li> <li> +(A::<b>LinearAlgebra.UniformScaling</b>, B::<b>LinearAlgebra.SymTridiagonal{var\"#s832\", V} where {var\"#s832\"<:Number, V<:AbstractVector{var\"#s832\"}}</b>) in LinearAlgebra at <a href=\"file://C:/buildbot/worker/package_win64/build/usr/share/julia/stdlib/v1.6/LinearAlgebra/src/special.jl\" target=\"_blank\">C:\\Users\\91863\\AppData\\Local\\Programs\\Julia-1.6.1\\share\\julia\\stdlib\\v1.6\\LinearAlgebra\\src\\special.jl:250</a></li> <li> +(A::<b>LinearAlgebra.UniformScaling</b>, B::<b>LinearAlgebra.Bidiagonal{var\"#s832\", V} where {var\"#s832\"<:Number, V<:AbstractVector{var\"#s832\"}}</b>) in LinearAlgebra at <a href=\"file://C:/buildbot/worker/package_win64/build/usr/share/julia/stdlib/v1.6/LinearAlgebra/src/special.jl\" target=\"_blank\">C:\\Users\\91863\\AppData\\Local\\Programs\\Julia-1.6.1\\share\\julia\\stdlib\\v1.6\\LinearAlgebra\\src\\special.jl:255</a></li> <li> +(A::<b>LinearAlgebra.UniformScaling</b>, B::<b>LinearAlgebra.Diagonal{var\"#s832\", V} where {var\"#s832\"<:Number, V<:AbstractVector{var\"#s832\"}}</b>) in LinearAlgebra at <a href=\"file://C:/buildbot/worker/package_win64/build/usr/share/julia/stdlib/v1.6/LinearAlgebra/src/special.jl\" target=\"_blank\">C:\\Users\\91863\\AppData\\Local\\Programs\\Julia-1.6.1\\share\\julia\\stdlib\\v1.6\\LinearAlgebra\\src\\special.jl:260</a></li> <li> +(a::<b>LinearAlgebra.UniformScaling</b>, b::<b>PDMats.AbstractPDMat</b>) in PDMats at <a href=\"file://C:/Users/91863/.julia/packages/PDMats/vgpB7/src/addition.jl\" target=\"_blank\">C:\\Users\\91863\\.julia\\packages\\PDMats\\vgpB7\\src\\addition.jl:43</a></li> <li> +(J::<b>LinearAlgebra.UniformScaling</b>, A::<b>AbstractMatrix{T} where T</b>) in LinearAlgebra at <a href=\"file://C:/buildbot/worker/package_win64/build/usr/share/julia/stdlib/v1.6/LinearAlgebra/src/uniformscaling.jl\" target=\"_blank\">C:\\Users\\91863\\AppData\\Local\\Programs\\Julia-1.6.1\\share\\julia\\stdlib\\v1.6\\LinearAlgebra\\src\\uniformscaling.jl:154</a></li> <li> +(A::<b>SparseArrays.AbstractSparseMatrixCSC</b>, B::<b>SparseArrays.AbstractSparseMatrixCSC</b>) in SparseArrays at <a href=\"file://C:/buildbot/worker/package_win64/build/usr/share/julia/stdlib/v1.6/SparseArrays/src/sparsematrix.jl\" target=\"_blank\">C:\\Users\\91863\\AppData\\Local\\Programs\\Julia-1.6.1\\share\\julia\\stdlib\\v1.6\\SparseArrays\\src\\sparsematrix.jl:1741</a></li> <li> +(x::<b>SparseArrays.AbstractSparseVector{Tv, Ti} where {Tv, Ti}</b>, y::<b>SparseArrays.AbstractSparseVector{Tv, Ti} where {Tv, Ti}</b>) in SparseArrays at <a href=\"file://C:/buildbot/worker/package_win64/build/usr/share/julia/stdlib/v1.6/SparseArrays/src/sparsevector.jl\" target=\"_blank\">C:\\Users\\91863\\AppData\\Local\\Programs\\Julia-1.6.1\\share\\julia\\stdlib\\v1.6\\SparseArrays\\src\\sparsevector.jl:1345</a></li> <li> +(A::<b>SparseArrays.AbstractSparseMatrixCSC</b>, B::<b>Array</b>) in SparseArrays at <a href=\"file://C:/buildbot/worker/package_win64/build/usr/share/julia/stdlib/v1.6/SparseArrays/src/sparsematrix.jl\" target=\"_blank\">C:\\Users\\91863\\AppData\\Local\\Programs\\Julia-1.6.1\\share\\julia\\stdlib\\v1.6\\SparseArrays\\src\\sparsematrix.jl:1744</a></li> <li> +(A::<b>SparseArrays.AbstractSparseMatrixCSC</b>, J::<b>LinearAlgebra.UniformScaling</b>) in SparseArrays at <a href=\"file://C:/buildbot/worker/package_win64/build/usr/share/julia/stdlib/v1.6/SparseArrays/src/sparsematrix.jl\" target=\"_blank\">C:\\Users\\91863\\AppData\\Local\\Programs\\Julia-1.6.1\\share\\julia\\stdlib\\v1.6\\SparseArrays\\src\\sparsematrix.jl:3797</a></li> <li> +(A::<b>LinearAlgebra.UnitLowerTriangular</b>, B::<b>LinearAlgebra.LowerTriangular</b>) in LinearAlgebra at <a href=\"file://C:/buildbot/worker/package_win64/build/usr/share/julia/stdlib/v1.6/LinearAlgebra/src/triangular.jl\" target=\"_blank\">C:\\Users\\91863\\AppData\\Local\\Programs\\Julia-1.6.1\\share\\julia\\stdlib\\v1.6\\LinearAlgebra\\src\\triangular.jl:653</a></li> <li> +(A::<b>LinearAlgebra.UnitLowerTriangular</b>, B::<b>LinearAlgebra.UnitLowerTriangular</b>) in LinearAlgebra at <a href=\"file://C:/buildbot/worker/package_win64/build/usr/share/julia/stdlib/v1.6/LinearAlgebra/src/triangular.jl\" target=\"_blank\">C:\\Users\\91863\\AppData\\Local\\Programs\\Julia-1.6.1\\share\\julia\\stdlib\\v1.6\\LinearAlgebra\\src\\triangular.jl:655</a></li> <li> +(UL::<b>LinearAlgebra.UnitLowerTriangular</b>, J::<b>LinearAlgebra.UniformScaling</b>) in LinearAlgebra at <a href=\"file://C:/buildbot/worker/package_win64/build/usr/share/julia/stdlib/v1.6/LinearAlgebra/src/uniformscaling.jl\" target=\"_blank\">C:\\Users\\91863\\AppData\\Local\\Programs\\Julia-1.6.1\\share\\julia\\stdlib\\v1.6\\LinearAlgebra\\src\\uniformscaling.jl:182</a></li> <li> +(A::<b>LinearAlgebra.UnitLowerTriangular</b>, B::<b>LinearAlgebra.Bidiagonal</b>) in LinearAlgebra at <a href=\"file://C:/buildbot/worker/package_win64/build/usr/share/julia/stdlib/v1.6/LinearAlgebra/src/special.jl\" target=\"_blank\">C:\\Users\\91863\\AppData\\Local\\Programs\\Julia-1.6.1\\share\\julia\\stdlib\\v1.6\\LinearAlgebra\\src\\special.jl:86</a></li> <li> +(F::<b>LinearAlgebra.Hessenberg</b>, J::<b>LinearAlgebra.UniformScaling</b>) in LinearAlgebra at <a href=\"file://C:/buildbot/worker/package_win64/build/usr/share/julia/stdlib/v1.6/LinearAlgebra/src/hessenberg.jl\" target=\"_blank\">C:\\Users\\91863\\AppData\\Local\\Programs\\Julia-1.6.1\\share\\julia\\stdlib\\v1.6\\LinearAlgebra\\src\\hessenberg.jl:559</a></li> <li> +(a::<b>FillArrays.Fill{T, 1, Axes} where Axes</b>, b::<b>UnitRange</b>)<i> where T</i> in FillArrays at <a href=\"file://C:/Users/91863/.julia/packages/FillArrays/VLeUk/src/FillArrays.jl\" target=\"_blank\">C:\\Users\\91863\\.julia\\packages\\FillArrays\\VLeUk\\src\\FillArrays.jl:205</a></li> <li> +(a::<b>FillArrays.Fill{T, 1, Axes} where Axes</b>, b::<b>AbstractRange</b>)<i> where T</i> in FillArrays at <a href=\"file://C:/Users/91863/.julia/packages/FillArrays/VLeUk/src/FillArrays.jl\" target=\"_blank\">C:\\Users\\91863\\.julia\\packages\\FillArrays\\VLeUk\\src\\FillArrays.jl:200</a></li> <li> +(r::<b>AbstractRange{var\"#s832\"} where var\"#s832\"<:Dates.TimeType</b>, x::<b>Dates.Period</b>) in Dates at <a href=\"file://C:/buildbot/worker/package_win64/build/usr/share/julia/stdlib/v1.6/Dates/src/ranges.jl\" target=\"_blank\">C:\\Users\\91863\\AppData\\Local\\Programs\\Julia-1.6.1\\share\\julia\\stdlib\\v1.6\\Dates\\src\\ranges.jl:63</a></li> <li> +(a::<b>AbstractRange</b>, b::<b>FillArrays.Zeros</b>) in FillArrays at <a href=\"file://C:/Users/91863/.julia/packages/FillArrays/VLeUk/src/fillalgebra.jl\" target=\"_blank\">C:\\Users\\91863\\.julia\\packages\\FillArrays\\VLeUk\\src\\fillalgebra.jl:196</a></li> <li> +(a::<b>AbstractRange</b>, b::<b>FillArrays.AbstractFill</b>) in FillArrays at <a href=\"file://C:/Users/91863/.julia/packages/FillArrays/VLeUk/src/FillArrays.jl\" target=\"_blank\">C:\\Users\\91863\\.julia\\packages\\FillArrays\\VLeUk\\src\\FillArrays.jl:210</a></li> <li> +(r1::<b>OrdinalRange</b>, r2::<b>OrdinalRange</b>) in Base at <a href=\"https://github.com/JuliaLang/julia/tree/6aaedecc447e3d8226d5027fb13d0c3cbfbfea2a/base/range.jl#L1101\" target=\"_blank\">range.jl:1101</a></li> <li> +(y::<b>Dates.TimeType</b>, x::<b>StridedArray{var\"#s832\", N} where {var\"#s832\"<:Union{Dates.CompoundPeriod, Dates.Period}, N}</b>) in Dates at <a href=\"file://C:/buildbot/worker/package_win64/build/usr/share/julia/stdlib/v1.6/Dates/src/deprecated.jl\" target=\"_blank\">C:\\Users\\91863\\AppData\\Local\\Programs\\Julia-1.6.1\\share\\julia\\stdlib\\v1.6\\Dates\\src\\deprecated.jl:18</a></li> <li> +(z::<b>Complex</b>, w::<b>Complex</b>) in Base at <a href=\"https://github.com/JuliaLang/julia/tree/6aaedecc447e3d8226d5027fb13d0c3cbfbfea2a/base/complex.jl#L275\" target=\"_blank\">complex.jl:275</a></li> <li> +(p::<b>SpecialFunctions.SimplePoly{S}</b>, q::<b>SpecialFunctions.SimplePoly{T}</b>)<i> where {S, T}</i> in SpecialFunctions at <a href=\"file://C:/Users/91863/.julia/packages/SpecialFunctions/f769j/src/expint.jl\" target=\"_blank\">C:\\Users\\91863\\.julia\\packages\\SpecialFunctions\\f769j\\src\\expint.jl:11</a></li> <li> +(d::<b>MvNormal</b>, c::<b>AbstractVector{T} where T</b>) in Distributions at <a href=\"file://C:/Users/91863/.julia/packages/Distributions/fXTVC/src/multivariate/mvnormal.jl\" target=\"_blank\">C:\\Users\\91863\\.julia\\packages\\Distributions\\fXTVC\\src\\multivariate\\mvnormal.jl:271</a></li> <li> +(d::<b>UnivariateDistribution{S} where S<:ValueSupport</b>, x::<b>Real</b>) in Distributions at <a href=\"file://C:/Users/91863/.julia/packages/Distributions/fXTVC/src/univariate/locationscale.jl\" target=\"_blank\">C:\\Users\\91863\\.julia\\packages\\Distributions\\fXTVC\\src\\univariate\\locationscale.jl:124</a></li> <li> +(a::<b>PDMats.PDiagMat</b>, b::<b>PDMats.PDSparseMat</b>) in PDMats at <a href=\"file://C:/Users/91863/.julia/packages/PDMats/vgpB7/src/addition.jl\" target=\"_blank\">C:\\Users\\91863\\.julia\\packages\\PDMats\\vgpB7\\src\\addition.jl:22</a></li> <li> +(a::<b>PDMats.PDiagMat</b>, b::<b>PDMats.ScalMat</b>) in PDMats at <a href=\"file://C:/Users/91863/.julia/packages/PDMats/vgpB7/src/addition.jl\" target=\"_blank\">C:\\Users\\91863\\.julia\\packages\\PDMats\\vgpB7\\src\\addition.jl:20</a></li> <li> +(a::<b>PDMats.PDiagMat</b>, b::<b>PDMats.PDiagMat</b>) in PDMats at <a href=\"file://C:/Users/91863/.julia/packages/PDMats/vgpB7/src/addition.jl\" target=\"_blank\">C:\\Users\\91863\\.julia\\packages\\PDMats\\vgpB7\\src\\addition.jl:19</a></li> <li> +(a::<b>PDMats.PDiagMat</b>, b::<b>PDMats.PDMat</b>) in PDMats at <a href=\"file://C:/Users/91863/.julia/packages/PDMats/vgpB7/src/addition.jl\" target=\"_blank\">C:\\Users\\91863\\.julia\\packages\\PDMats\\vgpB7\\src\\addition.jl:18</a></li> <li> +(a::<b>PDMats.PDiagMat</b>, b::<b>PDMats.AbstractPDMat</b>) in PDMats at <a href=\"file://C:/Users/91863/.julia/packages/PDMats/vgpB7/src/addition.jl\" target=\"_blank\">C:\\Users\\91863\\.julia\\packages\\PDMats\\vgpB7\\src\\addition.jl:5</a></li> <li> +(A::<b>LinearAlgebra.Hermitian</b>, B::<b>LinearAlgebra.Hermitian</b>) in LinearAlgebra at <a href=\"file://C:/buildbot/worker/package_win64/build/usr/share/julia/stdlib/v1.6/LinearAlgebra/src/symmetric.jl\" target=\"_blank\">C:\\Users\\91863\\AppData\\Local\\Programs\\Julia-1.6.1\\share\\julia\\stdlib\\v1.6\\LinearAlgebra\\src\\symmetric.jl:469</a></li> <li> +(H::<b>LinearAlgebra.Hermitian</b>, D::<b>LinearAlgebra.Diagonal{var\"#s832\", V} where {var\"#s832\"<:Real, V<:AbstractVector{var\"#s832\"}}</b>) in LinearAlgebra at <a href=\"file://C:/buildbot/worker/package_win64/build/usr/share/julia/stdlib/v1.6/LinearAlgebra/src/diagonal.jl\" target=\"_blank\">C:\\Users\\91863\\AppData\\Local\\Programs\\Julia-1.6.1\\share\\julia\\stdlib\\v1.6\\LinearAlgebra\\src\\diagonal.jl:169</a></li> <li> +(A::<b>LinearAlgebra.Hermitian</b>, J::<b>LinearAlgebra.UniformScaling{var\"#s832\"} where var\"#s832\"<:Complex</b>) in LinearAlgebra at <a href=\"file://C:/buildbot/worker/package_win64/build/usr/share/julia/stdlib/v1.6/LinearAlgebra/src/uniformscaling.jl\" target=\"_blank\">C:\\Users\\91863\\AppData\\Local\\Programs\\Julia-1.6.1\\share\\julia\\stdlib\\v1.6\\LinearAlgebra\\src\\uniformscaling.jl:196</a></li> <li> +(A::<b>LinearAlgebra.Hermitian{var\"#s830\", var\"#s829\"} where {var\"#s830\", var\"#s829\"<:(SparseArrays.AbstractSparseMatrix{Tv, Ti} where {Tv, Ti})}</b>, B::<b>SparseArrays.AbstractSparseMatrix{Tv, Ti} where {Tv, Ti}</b>) in SparseArrays at <a href=\"file://C:/buildbot/worker/package_win64/build/usr/share/julia/stdlib/v1.6/SparseArrays/src/linalg.jl\" target=\"_blank\">C:\\Users\\91863\\AppData\\Local\\Programs\\Julia-1.6.1\\share\\julia\\stdlib\\v1.6\\SparseArrays\\src\\linalg.jl:15</a></li> <li> +(A::<b>LinearAlgebra.Hermitian</b>, B::<b>SparseArrays.AbstractSparseMatrix{Tv, Ti} where {Tv, Ti}</b>) in SparseArrays at <a href=\"file://C:/buildbot/worker/package_win64/build/usr/share/julia/stdlib/v1.6/SparseArrays/src/linalg.jl\" target=\"_blank\">C:\\Users\\91863\\AppData\\Local\\Programs\\Julia-1.6.1\\share\\julia\\stdlib\\v1.6\\SparseArrays\\src\\linalg.jl:18</a></li> <li> +(A::<b>LinearAlgebra.Hermitian{var\"#s820\", var\"#s819\"} where {var\"#s820\", var\"#s819\"<:(SparseArrays.AbstractSparseMatrix{Tv, Ti} where {Tv, Ti})}</b>, B::<b>LinearAlgebra.Symmetric{var\"#s818\", var\"#s817\"} where {var\"#s818\"<:Real, var\"#s817\"<:(SparseArrays.AbstractSparseMatrix{Tv, Ti} where {Tv, Ti})}</b>) in SparseArrays at <a href=\"file://C:/buildbot/worker/package_win64/build/usr/share/julia/stdlib/v1.6/SparseArrays/src/linalg.jl\" target=\"_blank\">C:\\Users\\91863\\AppData\\Local\\Programs\\Julia-1.6.1\\share\\julia\\stdlib\\v1.6\\SparseArrays\\src\\linalg.jl:26</a></li> <li> +(A::<b>LinearAlgebra.Hermitian</b>, B::<b>LinearAlgebra.Symmetric{var\"#s832\", S} where {var\"#s832\"<:Real, S<:(AbstractMatrix{var\"#s832\"} where var\"#s832\"<:var\"#s832\")}</b>) in LinearAlgebra at <a href=\"file://C:/buildbot/worker/package_win64/build/usr/share/julia/stdlib/v1.6/LinearAlgebra/src/symmetric.jl\" target=\"_blank\">C:\\Users\\91863\\AppData\\Local\\Programs\\Julia-1.6.1\\share\\julia\\stdlib\\v1.6\\LinearAlgebra\\src\\symmetric.jl:483</a></li> <li> +(A::<b>LinearAlgebra.Hermitian{var\"#s828\", var\"#s827\"} where {var\"#s828\", var\"#s827\"<:(SparseArrays.AbstractSparseMatrix{Tv, Ti} where {Tv, Ti})}</b>, B::<b>LinearAlgebra.Symmetric{var\"#s826\", var\"#s825\"} where {var\"#s826\", var\"#s825\"<:(SparseArrays.AbstractSparseMatrix{Tv, Ti} where {Tv, Ti})}</b>) in SparseArrays at <a href=\"file://C:/buildbot/worker/package_win64/build/usr/share/julia/stdlib/v1.6/SparseArrays/src/linalg.jl\" target=\"_blank\">C:\\Users\\91863\\AppData\\Local\\Programs\\Julia-1.6.1\\share\\julia\\stdlib\\v1.6\\SparseArrays\\src\\linalg.jl:24</a></li> <li> +(A::<b>LinearAlgebra.Tridiagonal</b>, B::<b>LinearAlgebra.Tridiagonal</b>) in LinearAlgebra at <a href=\"file://C:/buildbot/worker/package_win64/build/usr/share/julia/stdlib/v1.6/LinearAlgebra/src/tridiag.jl\" target=\"_blank\">C:\\Users\\91863\\AppData\\Local\\Programs\\Julia-1.6.1\\share\\julia\\stdlib\\v1.6\\LinearAlgebra\\src\\tridiag.jl:733</a></li> <li> +(A::<b>LinearAlgebra.Tridiagonal</b>, B::<b>LinearAlgebra.SymTridiagonal</b>) in LinearAlgebra at <a href=\"file://C:/buildbot/worker/package_win64/build/usr/share/julia/stdlib/v1.6/LinearAlgebra/src/special.jl\" target=\"_blank\">C:\\Users\\91863\\AppData\\Local\\Programs\\Julia-1.6.1\\share\\julia\\stdlib\\v1.6\\LinearAlgebra\\src\\special.jl:157</a></li> <li> +(A::<b>LinearAlgebra.Tridiagonal</b>, B::<b>LinearAlgebra.Diagonal</b>) in LinearAlgebra at <a href=\"file://C:/buildbot/worker/package_win64/build/usr/share/julia/stdlib/v1.6/LinearAlgebra/src/special.jl\" target=\"_blank\">C:\\Users\\91863\\AppData\\Local\\Programs\\Julia-1.6.1\\share\\julia\\stdlib\\v1.6\\LinearAlgebra\\src\\special.jl:173</a></li> <li> +(A::<b>LinearAlgebra.Tridiagonal</b>, B::<b>LinearAlgebra.Bidiagonal</b>) in LinearAlgebra at <a href=\"file://C:/buildbot/worker/package_win64/build/usr/share/julia/stdlib/v1.6/LinearAlgebra/src/special.jl\" target=\"_blank\">C:\\Users\\91863\\AppData\\Local\\Programs\\Julia-1.6.1\\share\\julia\\stdlib\\v1.6\\LinearAlgebra\\src\\special.jl:193</a></li> <li> +(A::<b>LinearAlgebra.Tridiagonal{var\"#s832\", V} where {var\"#s832\"<:Number, V<:AbstractVector{var\"#s832\"}}</b>, B::<b>LinearAlgebra.UniformScaling</b>) in LinearAlgebra at <a href=\"file://C:/buildbot/worker/package_win64/build/usr/share/julia/stdlib/v1.6/LinearAlgebra/src/special.jl\" target=\"_blank\">C:\\Users\\91863\\AppData\\Local\\Programs\\Julia-1.6.1\\share\\julia\\stdlib\\v1.6\\LinearAlgebra\\src\\special.jl:226</a></li> <li> +(y::<b>AbstractFloat</b>, x::<b>Bool</b>) in Base at <a href=\"https://github.com/JuliaLang/julia/tree/6aaedecc447e3d8226d5027fb13d0c3cbfbfea2a/base/bool.jl#L102\" target=\"_blank\">bool.jl:102</a></li> <li> +(A::<b>LinearAlgebra.SymTridiagonal</b>, B::<b>LinearAlgebra.SymTridiagonal</b>) in LinearAlgebra at <a href=\"file://C:/buildbot/worker/package_win64/build/usr/share/julia/stdlib/v1.6/LinearAlgebra/src/tridiag.jl\" target=\"_blank\">C:\\Users\\91863\\AppData\\Local\\Programs\\Julia-1.6.1\\share\\julia\\stdlib\\v1.6\\LinearAlgebra\\src\\tridiag.jl:205</a></li> <li> +(A::<b>LinearAlgebra.SymTridiagonal</b>, B::<b>LinearAlgebra.Diagonal</b>) in LinearAlgebra at <a href=\"file://C:/buildbot/worker/package_win64/build/usr/share/julia/stdlib/v1.6/LinearAlgebra/src/special.jl\" target=\"_blank\">C:\\Users\\91863\\AppData\\Local\\Programs\\Julia-1.6.1\\share\\julia\\stdlib\\v1.6\\LinearAlgebra\\src\\special.jl:145</a></li> <li> +(A::<b>LinearAlgebra.SymTridiagonal</b>, B::<b>LinearAlgebra.Tridiagonal</b>) in LinearAlgebra at <a href=\"file://C:/buildbot/worker/package_win64/build/usr/share/julia/stdlib/v1.6/LinearAlgebra/src/special.jl\" target=\"_blank\">C:\\Users\\91863\\AppData\\Local\\Programs\\Julia-1.6.1\\share\\julia\\stdlib\\v1.6\\LinearAlgebra\\src\\special.jl:159</a></li> <li> +(A::<b>LinearAlgebra.SymTridiagonal</b>, B::<b>LinearAlgebra.Bidiagonal</b>) in LinearAlgebra at <a href=\"file://C:/buildbot/worker/package_win64/build/usr/share/julia/stdlib/v1.6/LinearAlgebra/src/special.jl\" target=\"_blank\">C:\\Users\\91863\\AppData\\Local\\Programs\\Julia-1.6.1\\share\\julia\\stdlib\\v1.6\\LinearAlgebra\\src\\special.jl:213</a></li> <li> +(A::<b>LinearAlgebra.SymTridiagonal{var\"#s832\", V} where {var\"#s832\"<:Number, V<:AbstractVector{var\"#s832\"}}</b>, B::<b>LinearAlgebra.UniformScaling</b>) in LinearAlgebra at <a href=\"file://C:/buildbot/worker/package_win64/build/usr/share/julia/stdlib/v1.6/LinearAlgebra/src/special.jl\" target=\"_blank\">C:\\Users\\91863\\AppData\\Local\\Programs\\Julia-1.6.1\\share\\julia\\stdlib\\v1.6\\LinearAlgebra\\src\\special.jl:231</a></li> <li> +(index1::<b>CartesianIndex{N}</b>, index2::<b>CartesianIndex{N}</b>)<i> where N</i> in Base.IteratorsMD at <a href=\"https://github.com/JuliaLang/julia/tree/6aaedecc447e3d8226d5027fb13d0c3cbfbfea2a/base/multidimensional.jl#L114\" target=\"_blank\">multidimensional.jl:114</a></li> <li> +(A::<b>Array</b>, Bs::<b>Array...</b>) in Base at <a href=\"https://github.com/JuliaLang/julia/tree/6aaedecc447e3d8226d5027fb13d0c3cbfbfea2a/base/arraymath.jl#L43\" target=\"_blank\">arraymath.jl:43</a></li> <li> +(X::<b>StridedArray{var\"#s832\", N} where {var\"#s832\"<:Union{Dates.CompoundPeriod, Dates.Period}, N}</b>, Y::<b>StridedArray{var\"#s831\", N} where {var\"#s831\"<:Union{Dates.CompoundPeriod, Dates.Period}, N}</b>) in Dates at <a href=\"file://C:/buildbot/worker/package_win64/build/usr/share/julia/stdlib/v1.6/Dates/src/deprecated.jl\" target=\"_blank\">C:\\Users\\91863\\AppData\\Local\\Programs\\Julia-1.6.1\\share\\julia\\stdlib\\v1.6\\Dates\\src\\deprecated.jl:62</a></li> <li> +(A::<b>Array</b>, B::<b>SparseArrays.AbstractSparseMatrixCSC</b>) in SparseArrays at <a href=\"file://C:/buildbot/worker/package_win64/build/usr/share/julia/stdlib/v1.6/SparseArrays/src/sparsematrix.jl\" target=\"_blank\">C:\\Users\\91863\\AppData\\Local\\Programs\\Julia-1.6.1\\share\\julia\\stdlib\\v1.6\\SparseArrays\\src\\sparsematrix.jl:1745</a></li> <li> +(a::<b>Array{T, N}</b>, b::<b>FillArrays.Zeros{V, N, Axes} where Axes</b>)<i> where {T, V, N}</i> in FillArrays at <a href=\"file://C:/Users/91863/.julia/packages/FillArrays/VLeUk/src/fillalgebra.jl\" target=\"_blank\">C:\\Users\\91863\\.julia\\packages\\FillArrays\\VLeUk\\src\\fillalgebra.jl:184</a></li> <li> +(a::<b>Matrix{T} where T</b>, b::<b>PDMats.AbstractPDMat</b>) in PDMats at <a href=\"file://C:/Users/91863/.julia/packages/PDMats/vgpB7/src/generics.jl\" target=\"_blank\">C:\\Users\\91863\\.julia\\packages\\PDMats\\vgpB7\\src\\generics.jl:22</a></li> <li> +(x::<b>StridedArray{var\"#s832\", N} where {var\"#s832\"<:Union{Dates.CompoundPeriod, Dates.Period}, N}</b>) in Dates at <a href=\"file://C:/buildbot/worker/package_win64/build/usr/share/julia/stdlib/v1.6/Dates/src/deprecated.jl\" target=\"_blank\">C:\\Users\\91863\\AppData\\Local\\Programs\\Julia-1.6.1\\share\\julia\\stdlib\\v1.6\\Dates\\src\\deprecated.jl:55</a></li> <li> +(x::<b>StridedArray{var\"#s832\", N} where {var\"#s832\"<:Union{Dates.CompoundPeriod, Dates.Period}, N}</b>, y::<b>Dates.TimeType</b>) in Dates at <a href=\"file://C:/buildbot/worker/package_win64/build/usr/share/julia/stdlib/v1.6/Dates/src/deprecated.jl\" target=\"_blank\">C:\\Users\\91863\\AppData\\Local\\Programs\\Julia-1.6.1\\share\\julia\\stdlib\\v1.6\\Dates\\src\\deprecated.jl:10</a></li> <li> +(r1::<b>LinRange{T}</b>, r2::<b>LinRange{T}</b>)<i> where T</i> in Base at <a href=\"https://github.com/JuliaLang/julia/tree/6aaedecc447e3d8226d5027fb13d0c3cbfbfea2a/base/range.jl#L1108\" target=\"_blank\">range.jl:1108</a></li> <li> +(x::<b>Rational</b>, y::<b>Integer</b>) in Base at <a href=\"https://github.com/JuliaLang/julia/tree/6aaedecc447e3d8226d5027fb13d0c3cbfbfea2a/base/rational.jl#L288\" target=\"_blank\">rational.jl:288</a></li> <li> +(r1::<b>StepRangeLen{T, R, S} where S</b>, r2::<b>StepRangeLen{T, R, S} where S</b>)<i> where {R<:Base.TwicePrecision, T}</i> in Base at <a href=\"https://github.com/JuliaLang/julia/tree/6aaedecc447e3d8226d5027fb13d0c3cbfbfea2a/base/twiceprecision.jl#L574\" target=\"_blank\">twiceprecision.jl:574</a></li> <li> +(r1::<b>StepRangeLen{T, S, S1} where S1</b>, r2::<b>StepRangeLen{T, S, S1} where S1</b>)<i> where {T, S}</i> in Base at <a href=\"https://github.com/JuliaLang/julia/tree/6aaedecc447e3d8226d5027fb13d0c3cbfbfea2a/base/range.jl#L1124\" target=\"_blank\">range.jl:1124</a></li> <li> +(r1::<b>Union{LinRange, OrdinalRange, StepRangeLen}</b>, r2::<b>Union{LinRange, OrdinalRange, StepRangeLen}</b>) in Base at <a href=\"https://github.com/JuliaLang/julia/tree/6aaedecc447e3d8226d5027fb13d0c3cbfbfea2a/base/range.jl#L1117\" target=\"_blank\">range.jl:1117</a></li> <li> +(a::<b>PDMats.PDSparseMat</b>, b::<b>PDMats.PDSparseMat</b>) in PDMats at <a href=\"file://C:/Users/91863/.julia/packages/PDMats/vgpB7/src/addition.jl\" target=\"_blank\">C:\\Users\\91863\\.julia\\packages\\PDMats\\vgpB7\\src\\addition.jl:36</a></li> <li> +(a::<b>PDMats.PDSparseMat</b>, b::<b>PDMats.ScalMat</b>) in PDMats at <a href=\"file://C:/Users/91863/.julia/packages/PDMats/vgpB7/src/addition.jl\" target=\"_blank\">C:\\Users\\91863\\.julia\\packages\\PDMats\\vgpB7\\src\\addition.jl:35</a></li> <li> +(a::<b>PDMats.PDSparseMat</b>, b::<b>PDMats.PDiagMat</b>) in PDMats at <a href=\"file://C:/Users/91863/.julia/packages/PDMats/vgpB7/src/addition.jl\" target=\"_blank\">C:\\Users\\91863\\.julia\\packages\\PDMats\\vgpB7\\src\\addition.jl:34</a></li> <li> +(a::<b>PDMats.PDSparseMat</b>, b::<b>PDMats.PDMat</b>) in PDMats at <a href=\"file://C:/Users/91863/.julia/packages/PDMats/vgpB7/src/addition.jl\" target=\"_blank\">C:\\Users\\91863\\.julia\\packages\\PDMats\\vgpB7\\src\\addition.jl:33</a></li> <li> +(a::<b>PDMats.PDSparseMat</b>, b::<b>PDMats.AbstractPDMat</b>) in PDMats at <a href=\"file://C:/Users/91863/.julia/packages/PDMats/vgpB7/src/addition.jl\" target=\"_blank\">C:\\Users\\91863\\.julia\\packages\\PDMats\\vgpB7\\src\\addition.jl:8</a></li> <li> +(a::<b>FillArrays.Zeros{T, 1, Axes} where Axes</b>, b::<b>UnitRange</b>)<i> where T</i> in FillArrays at <a href=\"file://C:/Users/91863/.julia/packages/FillArrays/VLeUk/src/fillalgebra.jl\" target=\"_blank\">C:\\Users\\91863\\.julia\\packages\\FillArrays\\VLeUk\\src\\fillalgebra.jl:203</a></li> <li> +(a::<b>FillArrays.Zeros{T, 1, Axes} where Axes</b>, b::<b>AbstractRange</b>)<i> where T</i> in FillArrays at <a href=\"file://C:/Users/91863/.julia/packages/FillArrays/VLeUk/src/fillalgebra.jl\" target=\"_blank\">C:\\Users\\91863\\.julia\\packages\\FillArrays\\VLeUk\\src\\fillalgebra.jl:198</a></li> <li> +(a::<b>FillArrays.Zeros</b>) in FillArrays at <a href=\"file://C:/Users/91863/.julia/packages/FillArrays/VLeUk/src/fillalgebra.jl\" target=\"_blank\">C:\\Users\\91863\\.julia\\packages\\FillArrays\\VLeUk\\src\\fillalgebra.jl:159</a></li> <li> +(a::<b>FillArrays.Zeros{T, N, Axes} where {N, Axes}</b>, b::<b>FillArrays.Zeros{V, N, Axes} where {N, Axes}</b>)<i> where {T, V}</i> in FillArrays at <a href=\"file://C:/Users/91863/.julia/packages/FillArrays/VLeUk/src/fillalgebra.jl\" target=\"_blank\">C:\\Users\\91863\\.julia\\packages\\FillArrays\\VLeUk\\src\\fillalgebra.jl:163</a></li> <li> +(a::<b>FillArrays.Zeros</b>, b::<b>FillArrays.AbstractFill</b>) in FillArrays at <a href=\"file://C:/Users/91863/.julia/packages/FillArrays/VLeUk/src/fillalgebra.jl\" target=\"_blank\">C:\\Users\\91863\\.julia\\packages\\FillArrays\\VLeUk\\src\\fillalgebra.jl:175</a></li> <li> +(a::<b>FillArrays.Zeros{T, N, Axes} where Axes</b>, b::<b>AbstractArray{V, N}</b>)<i> where {T, V, N}</i> in FillArrays at <a href=\"file://C:/Users/91863/.julia/packages/FillArrays/VLeUk/src/fillalgebra.jl\" target=\"_blank\">C:\\Users\\91863\\.julia\\packages\\FillArrays\\VLeUk\\src\\fillalgebra.jl:180</a></li> <li> +(A::<b>LinearAlgebra.UnitUpperTriangular</b>, B::<b>LinearAlgebra.UpperTriangular</b>) in LinearAlgebra at <a href=\"file://C:/buildbot/worker/package_win64/build/usr/share/julia/stdlib/v1.6/LinearAlgebra/src/triangular.jl\" target=\"_blank\">C:\\Users\\91863\\AppData\\Local\\Programs\\Julia-1.6.1\\share\\julia\\stdlib\\v1.6\\LinearAlgebra\\src\\triangular.jl:652</a></li> <li> +(A::<b>LinearAlgebra.UnitUpperTriangular</b>, B::<b>LinearAlgebra.UnitUpperTriangular</b>) in LinearAlgebra at <a href=\"file://C:/buildbot/worker/package_win64/build/usr/share/julia/stdlib/v1.6/LinearAlgebra/src/triangular.jl\" target=\"_blank\">C:\\Users\\91863\\AppData\\Local\\Programs\\Julia-1.6.1\\share\\julia\\stdlib\\v1.6\\LinearAlgebra\\src\\triangular.jl:654</a></li> <li> +(UL::<b>LinearAlgebra.UnitUpperTriangular</b>, J::<b>LinearAlgebra.UniformScaling</b>) in LinearAlgebra at <a href=\"file://C:/buildbot/worker/package_win64/build/usr/share/julia/stdlib/v1.6/LinearAlgebra/src/uniformscaling.jl\" target=\"_blank\">C:\\Users\\91863\\AppData\\Local\\Programs\\Julia-1.6.1\\share\\julia\\stdlib\\v1.6\\LinearAlgebra\\src\\uniformscaling.jl:182</a></li> <li> +(A::<b>LinearAlgebra.UnitUpperTriangular</b>, B::<b>LinearAlgebra.Bidiagonal</b>) in LinearAlgebra at <a href=\"file://C:/buildbot/worker/package_win64/build/usr/share/julia/stdlib/v1.6/LinearAlgebra/src/special.jl\" target=\"_blank\">C:\\Users\\91863\\AppData\\Local\\Programs\\Julia-1.6.1\\share\\julia\\stdlib\\v1.6\\LinearAlgebra\\src\\special.jl:86</a></li> <li> +(x::<b>Dates.Instant</b>) in Dates at <a href=\"file://C:/buildbot/worker/package_win64/build/usr/share/julia/stdlib/v1.6/Dates/src/arithmetic.jl\" target=\"_blank\">C:\\Users\\91863\\AppData\\Local\\Programs\\Julia-1.6.1\\share\\julia\\stdlib\\v1.6\\Dates\\src\\arithmetic.jl:4</a></li> <li> +(a::<b>ChainRulesCore.AbstractThunk</b>, b::<b>ChainRulesCore.Tangent</b>) in ChainRulesCore at <a href=\"file://C:/Users/91863/.julia/packages/ChainRulesCore/BYuIz/src/differential_arithmetic.jl\" target=\"_blank\">C:\\Users\\91863\\.julia\\packages\\ChainRulesCore\\BYuIz\\src\\differential_arithmetic.jl:138</a></li> <li> +(a::<b>ChainRulesCore.AbstractThunk</b>, b::<b>ChainRulesCore.AbstractThunk</b>) in ChainRulesCore at <a href=\"file://C:/Users/91863/.julia/packages/ChainRulesCore/BYuIz/src/differential_arithmetic.jl\" target=\"_blank\">C:\\Users\\91863\\.julia\\packages\\ChainRulesCore\\BYuIz\\src\\differential_arithmetic.jl:135</a></li> <li> +(a::<b>ChainRulesCore.AbstractThunk</b>, ::<b>ChainRulesCore.ZeroTangent</b>) in ChainRulesCore at <a href=\"file://C:/Users/91863/.julia/packages/ChainRulesCore/BYuIz/src/differential_arithmetic.jl\" target=\"_blank\">C:\\Users\\91863\\.julia\\packages\\ChainRulesCore\\BYuIz\\src\\differential_arithmetic.jl:116</a></li> <li> +(a::<b>ChainRulesCore.AbstractThunk</b>, ::<b>ChainRulesCore.NoTangent</b>) in ChainRulesCore at <a href=\"file://C:/Users/91863/.julia/packages/ChainRulesCore/BYuIz/src/differential_arithmetic.jl\" target=\"_blank\">C:\\Users\\91863\\.julia\\packages\\ChainRulesCore\\BYuIz\\src\\differential_arithmetic.jl:76</a></li> <li> +(::<b>ChainRulesCore.AbstractThunk</b>, x::<b>ChainRulesCore.NotImplemented</b>) in ChainRulesCore at <a href=\"file://C:/Users/91863/.julia/packages/ChainRulesCore/BYuIz/src/differential_arithmetic.jl\" target=\"_blank\">C:\\Users\\91863\\.julia\\packages\\ChainRulesCore\\BYuIz\\src\\differential_arithmetic.jl:26</a></li> <li> +(a::<b>ChainRulesCore.AbstractThunk</b>, b) in ChainRulesCore at <a href=\"file://C:/Users/91863/.julia/packages/ChainRulesCore/BYuIz/src/differential_arithmetic.jl\" target=\"_blank\">C:\\Users\\91863\\.julia\\packages\\ChainRulesCore\\BYuIz\\src\\differential_arithmetic.jl:138</a></li> <li> +(x::<b>Ptr</b>, y::<b>Integer</b>) in Base at <a href=\"https://github.com/JuliaLang/julia/tree/6aaedecc447e3d8226d5027fb13d0c3cbfbfea2a/base/pointer.jl#L159\" target=\"_blank\">pointer.jl:159</a></li> <li> +(a::<b>PDMats.ScalMat</b>, b::<b>PDMats.PDSparseMat</b>) in PDMats at <a href=\"file://C:/Users/91863/.julia/packages/PDMats/vgpB7/src/addition.jl\" target=\"_blank\">C:\\Users\\91863\\.julia\\packages\\PDMats\\vgpB7\\src\\addition.jl:29</a></li> <li> +(a::<b>PDMats.ScalMat</b>, b::<b>PDMats.ScalMat</b>) in PDMats at <a href=\"file://C:/Users/91863/.julia/packages/PDMats/vgpB7/src/addition.jl\" target=\"_blank\">C:\\Users\\91863\\.julia\\packages\\PDMats\\vgpB7\\src\\addition.jl:27</a></li> <li> +(a::<b>PDMats.ScalMat</b>, b::<b>PDMats.PDiagMat</b>) in PDMats at <a href=\"file://C:/Users/91863/.julia/packages/PDMats/vgpB7/src/addition.jl\" target=\"_blank\">C:\\Users\\91863\\.julia\\packages\\PDMats\\vgpB7\\src\\addition.jl:26</a></li> <li> +(a::<b>PDMats.ScalMat</b>, b::<b>PDMats.PDMat</b>) in PDMats at <a href=\"file://C:/Users/91863/.julia/packages/PDMats/vgpB7/src/addition.jl\" target=\"_blank\">C:\\Users\\91863\\.julia\\packages\\PDMats\\vgpB7\\src\\addition.jl:25</a></li> <li> +(a::<b>PDMats.ScalMat</b>, b::<b>PDMats.AbstractPDMat</b>) in PDMats at <a href=\"file://C:/Users/91863/.julia/packages/PDMats/vgpB7/src/addition.jl\" target=\"_blank\">C:\\Users\\91863\\.julia\\packages\\PDMats\\vgpB7\\src\\addition.jl:6</a></li> <li> +(A::<b>LinearAlgebra.LowerTriangular</b>, B::<b>LinearAlgebra.LowerTriangular</b>) in LinearAlgebra at <a href=\"file://C:/buildbot/worker/package_win64/build/usr/share/julia/stdlib/v1.6/LinearAlgebra/src/triangular.jl\" target=\"_blank\">C:\\Users\\91863\\AppData\\Local\\Programs\\Julia-1.6.1\\share\\julia\\stdlib\\v1.6\\LinearAlgebra\\src\\triangular.jl:649</a></li> <li> +(A::<b>LinearAlgebra.LowerTriangular</b>, B::<b>LinearAlgebra.UnitLowerTriangular</b>) in LinearAlgebra at <a href=\"file://C:/buildbot/worker/package_win64/build/usr/share/julia/stdlib/v1.6/LinearAlgebra/src/triangular.jl\" target=\"_blank\">C:\\Users\\91863\\AppData\\Local\\Programs\\Julia-1.6.1\\share\\julia\\stdlib\\v1.6\\LinearAlgebra\\src\\triangular.jl:651</a></li> <li> +(A::<b>LinearAlgebra.LowerTriangular</b>, B::<b>LinearAlgebra.Bidiagonal</b>) in LinearAlgebra at <a href=\"file://C:/buildbot/worker/package_win64/build/usr/share/julia/stdlib/v1.6/LinearAlgebra/src/special.jl\" target=\"_blank\">C:\\Users\\91863\\AppData\\Local\\Programs\\Julia-1.6.1\\share\\julia\\stdlib\\v1.6\\LinearAlgebra\\src\\special.jl:86</a></li> <li> +(a::<b>PDMats.PDMat</b>, b::<b>PDMats.PDSparseMat</b>) in PDMats at <a href=\"file://C:/Users/91863/.julia/packages/PDMats/vgpB7/src/addition.jl\" target=\"_blank\">C:\\Users\\91863\\.julia\\packages\\PDMats\\vgpB7\\src\\addition.jl:15</a></li> <li> +(a::<b>PDMats.PDMat</b>, b::<b>PDMats.ScalMat</b>) in PDMats at <a href=\"file://C:/Users/91863/.julia/packages/PDMats/vgpB7/src/addition.jl\" target=\"_blank\">C:\\Users\\91863\\.julia\\packages\\PDMats\\vgpB7\\src\\addition.jl:13</a></li> <li> +(a::<b>PDMats.PDMat</b>, b::<b>PDMats.PDiagMat</b>) in PDMats at <a href=\"file://C:/Users/91863/.julia/packages/PDMats/vgpB7/src/addition.jl\" target=\"_blank\">C:\\Users\\91863\\.julia\\packages\\PDMats\\vgpB7\\src\\addition.jl:12</a></li> <li> +(a::<b>PDMats.PDMat</b>, b::<b>PDMats.PDMat</b>) in PDMats at <a href=\"file://C:/Users/91863/.julia/packages/PDMats/vgpB7/src/addition.jl\" target=\"_blank\">C:\\Users\\91863\\.julia\\packages\\PDMats\\vgpB7\\src\\addition.jl:11</a></li> <li> +(a::<b>PDMats.PDMat</b>, b::<b>PDMats.AbstractPDMat</b>) in PDMats at <a href=\"file://C:/Users/91863/.julia/packages/PDMats/vgpB7/src/addition.jl\" target=\"_blank\">C:\\Users\\91863\\.julia\\packages\\PDMats\\vgpB7\\src\\addition.jl:4</a></li> <li> +(a::<b>FillArrays.AbstractFill</b>) in FillArrays at <a href=\"file://C:/Users/91863/.julia/packages/FillArrays/VLeUk/src/FillArrays.jl\" target=\"_blank\">C:\\Users\\91863\\.julia\\packages\\FillArrays\\VLeUk\\src\\FillArrays.jl:190</a></li> <li> +(a::<b>FillArrays.AbstractFill{T, N, Axes} where {N, Axes}</b>, b::<b>FillArrays.Zeros{V, N, Axes} where {N, Axes}</b>)<i> where {T, V}</i> in FillArrays at <a href=\"file://C:/Users/91863/.julia/packages/FillArrays/VLeUk/src/fillalgebra.jl\" target=\"_blank\">C:\\Users\\91863\\.julia\\packages\\FillArrays\\VLeUk\\src\\fillalgebra.jl:171</a></li> <li> +(a::<b>FillArrays.AbstractFill{T, N, Axes} where Axes</b>, b::<b>FillArrays.AbstractFill{V, N, Axes} where Axes</b>)<i> where {T, V, N}</i> in FillArrays at <a href=\"file://C:/Users/91863/.julia/packages/FillArrays/VLeUk/src/FillArrays.jl\" target=\"_blank\">C:\\Users\\91863\\.julia\\packages\\FillArrays\\VLeUk\\src\\FillArrays.jl:194</a></li> <li> +(a::<b>Dict</b>, d::<b>ChainRulesCore.Tangent{P, T} where T</b>)<i> where P</i> in ChainRulesCore at <a href=\"file://C:/Users/91863/.julia/packages/ChainRulesCore/BYuIz/src/differential_arithmetic.jl\" target=\"_blank\">C:\\Users\\91863\\.julia\\packages\\ChainRulesCore\\BYuIz\\src\\differential_arithmetic.jl:161</a></li> <li> +(a::<b>ChainRulesCore.Tangent{P, T} where T</b>, b::<b>ChainRulesCore.Tangent{P, T} where T</b>)<i> where P</i> in ChainRulesCore at <a href=\"file://C:/Users/91863/.julia/packages/ChainRulesCore/BYuIz/src/differential_arithmetic.jl\" target=\"_blank\">C:\\Users\\91863\\.julia\\packages\\ChainRulesCore\\BYuIz\\src\\differential_arithmetic.jl:145</a></li> <li> +(a::<b>ChainRulesCore.Tangent</b>, b::<b>ChainRulesCore.AbstractThunk</b>) in ChainRulesCore at <a href=\"file://C:/Users/91863/.julia/packages/ChainRulesCore/BYuIz/src/differential_arithmetic.jl\" target=\"_blank\">C:\\Users\\91863\\.julia\\packages\\ChainRulesCore\\BYuIz\\src\\differential_arithmetic.jl:139</a></li> <li> +(a::<b>ChainRulesCore.Tangent</b>, ::<b>ChainRulesCore.ZeroTangent</b>) in ChainRulesCore at <a href=\"file://C:/Users/91863/.julia/packages/ChainRulesCore/BYuIz/src/differential_arithmetic.jl\" target=\"_blank\">C:\\Users\\91863\\.julia\\packages\\ChainRulesCore\\BYuIz\\src\\differential_arithmetic.jl:116</a></li> <li> +(a::<b>ChainRulesCore.Tangent</b>, ::<b>ChainRulesCore.NoTangent</b>) in ChainRulesCore at <a href=\"file://C:/Users/91863/.julia/packages/ChainRulesCore/BYuIz/src/differential_arithmetic.jl\" target=\"_blank\">C:\\Users\\91863\\.julia\\packages\\ChainRulesCore\\BYuIz\\src\\differential_arithmetic.jl:76</a></li> <li> +(::<b>ChainRulesCore.Tangent</b>, x::<b>ChainRulesCore.NotImplemented</b>) in ChainRulesCore at <a href=\"file://C:/Users/91863/.julia/packages/ChainRulesCore/BYuIz/src/differential_arithmetic.jl\" target=\"_blank\">C:\\Users\\91863\\.julia\\packages\\ChainRulesCore\\BYuIz\\src\\differential_arithmetic.jl:26</a></li> <li> +(a::<b>ChainRulesCore.Tangent{P, T} where T</b>, b::<b>P</b>)<i> where P</i> in ChainRulesCore at <a href=\"file://C:/Users/91863/.julia/packages/ChainRulesCore/BYuIz/src/differential_arithmetic.jl\" target=\"_blank\">C:\\Users\\91863\\.julia\\packages\\ChainRulesCore\\BYuIz\\src\\differential_arithmetic.jl:162</a></li> <li> +(A::<b>LinearAlgebra.Bidiagonal</b>, B::<b>LinearAlgebra.Bidiagonal</b>) in LinearAlgebra at <a href=\"file://C:/buildbot/worker/package_win64/build/usr/share/julia/stdlib/v1.6/LinearAlgebra/src/bidiag.jl\" target=\"_blank\">C:\\Users\\91863\\AppData\\Local\\Programs\\Julia-1.6.1\\share\\julia\\stdlib\\v1.6\\LinearAlgebra\\src\\bidiag.jl:354</a></li> <li> +(A::<b>LinearAlgebra.Bidiagonal</b>, B::<b>LinearAlgebra.UpperTriangular</b>) in LinearAlgebra at <a href=\"file://C:/buildbot/worker/package_win64/build/usr/share/julia/stdlib/v1.6/LinearAlgebra/src/special.jl\" target=\"_blank\">C:\\Users\\91863\\AppData\\Local\\Programs\\Julia-1.6.1\\share\\julia\\stdlib\\v1.6\\LinearAlgebra\\src\\special.jl:94</a></li> <li> +(A::<b>LinearAlgebra.Bidiagonal</b>, B::<b>LinearAlgebra.UnitUpperTriangular</b>) in LinearAlgebra at <a href=\"file://C:/buildbot/worker/package_win64/build/usr/share/julia/stdlib/v1.6/LinearAlgebra/src/special.jl\" target=\"_blank\">C:\\Users\\91863\\AppData\\Local\\Programs\\Julia-1.6.1\\share\\julia\\stdlib\\v1.6\\LinearAlgebra\\src\\special.jl:94</a></li> <li> +(A::<b>LinearAlgebra.Bidiagonal</b>, B::<b>LinearAlgebra.LowerTriangular</b>) in LinearAlgebra at <a href=\"file://C:/buildbot/worker/package_win64/build/usr/share/julia/stdlib/v1.6/LinearAlgebra/src/special.jl\" target=\"_blank\">C:\\Users\\91863\\AppData\\Local\\Programs\\Julia-1.6.1\\share\\julia\\stdlib\\v1.6\\LinearAlgebra\\src\\special.jl:94</a></li> <li> +(A::<b>LinearAlgebra.Bidiagonal</b>, B::<b>LinearAlgebra.UnitLowerTriangular</b>) in LinearAlgebra at <a href=\"file://C:/buildbot/worker/package_win64/build/usr/share/julia/stdlib/v1.6/LinearAlgebra/src/special.jl\" target=\"_blank\">C:\\Users\\91863\\AppData\\Local\\Programs\\Julia-1.6.1\\share\\julia\\stdlib\\v1.6\\LinearAlgebra\\src\\special.jl:94</a></li> <li> +(A::<b>LinearAlgebra.Bidiagonal</b>, B::<b>LinearAlgebra.Diagonal</b>) in LinearAlgebra at <a href=\"file://C:/buildbot/worker/package_win64/build/usr/share/julia/stdlib/v1.6/LinearAlgebra/src/special.jl\" target=\"_blank\">C:\\Users\\91863\\AppData\\Local\\Programs\\Julia-1.6.1\\share\\julia\\stdlib\\v1.6\\LinearAlgebra\\src\\special.jl:115</a></li> <li> +(A::<b>LinearAlgebra.Bidiagonal</b>, B::<b>LinearAlgebra.Tridiagonal</b>) in LinearAlgebra at <a href=\"file://C:/buildbot/worker/package_win64/build/usr/share/julia/stdlib/v1.6/LinearAlgebra/src/special.jl\" target=\"_blank\">C:\\Users\\91863\\AppData\\Local\\Programs\\Julia-1.6.1\\share\\julia\\stdlib\\v1.6\\LinearAlgebra\\src\\special.jl:183</a></li> <li> +(A::<b>LinearAlgebra.Bidiagonal</b>, B::<b>LinearAlgebra.SymTridiagonal</b>) in LinearAlgebra at <a href=\"file://C:/buildbot/worker/package_win64/build/usr/share/julia/stdlib/v1.6/LinearAlgebra/src/special.jl\" target=\"_blank\">C:\\Users\\91863\\AppData\\Local\\Programs\\Julia-1.6.1\\share\\julia\\stdlib\\v1.6\\LinearAlgebra\\src\\special.jl:203</a></li> <li> +(A::<b>LinearAlgebra.Bidiagonal{var\"#s832\", V} where {var\"#s832\"<:Number, V<:AbstractVector{var\"#s832\"}}</b>, B::<b>LinearAlgebra.UniformScaling</b>) in LinearAlgebra at <a href=\"file://C:/buildbot/worker/package_win64/build/usr/share/julia/stdlib/v1.6/LinearAlgebra/src/special.jl\" target=\"_blank\">C:\\Users\\91863\\AppData\\Local\\Programs\\Julia-1.6.1\\share\\julia\\stdlib\\v1.6\\LinearAlgebra\\src\\special.jl:236</a></li> <li> +(x::<b>AbstractIrrational</b>, y::<b>AbstractIrrational</b>) in Base at <a href=\"https://github.com/JuliaLang/julia/tree/6aaedecc447e3d8226d5027fb13d0c3cbfbfea2a/base/irrationals.jl#L156\" target=\"_blank\">irrationals.jl:156</a></li> <li> +(x::<b>Base.TwicePrecision</b>, y::<b>Number</b>) in Base at <a href=\"https://github.com/JuliaLang/julia/tree/6aaedecc447e3d8226d5027fb13d0c3cbfbfea2a/base/twiceprecision.jl#L267\" target=\"_blank\">twiceprecision.jl:267</a></li> <li> +(x::<b>Base.TwicePrecision{T}</b>, y::<b>Base.TwicePrecision{T}</b>)<i> where T</i> in Base at <a href=\"https://github.com/JuliaLang/julia/tree/6aaedecc447e3d8226d5027fb13d0c3cbfbfea2a/base/twiceprecision.jl#L273\" target=\"_blank\">twiceprecision.jl:273</a></li> <li> +(x::<b>Base.TwicePrecision</b>, y::<b>Base.TwicePrecision</b>) in Base at <a href=\"https://github.com/JuliaLang/julia/tree/6aaedecc447e3d8226d5027fb13d0c3cbfbfea2a/base/twiceprecision.jl#L278\" target=\"_blank\">twiceprecision.jl:278</a></li> <li> +(A::<b>LinearAlgebra.Symmetric</b>, B::<b>LinearAlgebra.Symmetric</b>) in LinearAlgebra at <a href=\"file://C:/buildbot/worker/package_win64/build/usr/share/julia/stdlib/v1.6/LinearAlgebra/src/symmetric.jl\" target=\"_blank\">C:\\Users\\91863\\AppData\\Local\\Programs\\Julia-1.6.1\\share\\julia\\stdlib\\v1.6\\LinearAlgebra\\src\\symmetric.jl:469</a></li> <li> +(S::<b>LinearAlgebra.Symmetric</b>, D::<b>LinearAlgebra.Diagonal</b>) in LinearAlgebra at <a href=\"file://C:/buildbot/worker/package_win64/build/usr/share/julia/stdlib/v1.6/LinearAlgebra/src/diagonal.jl\" target=\"_blank\">C:\\Users\\91863\\AppData\\Local\\Programs\\Julia-1.6.1\\share\\julia\\stdlib\\v1.6\\LinearAlgebra\\src\\diagonal.jl:163</a></li> <li> +(A::<b>LinearAlgebra.Symmetric{var\"#s830\", var\"#s829\"} where {var\"#s830\", var\"#s829\"<:(SparseArrays.AbstractSparseMatrix{Tv, Ti} where {Tv, Ti})}</b>, B::<b>SparseArrays.AbstractSparseMatrix{Tv, Ti} where {Tv, Ti}</b>) in SparseArrays at <a href=\"file://C:/buildbot/worker/package_win64/build/usr/share/julia/stdlib/v1.6/SparseArrays/src/linalg.jl\" target=\"_blank\">C:\\Users\\91863\\AppData\\Local\\Programs\\Julia-1.6.1\\share\\julia\\stdlib\\v1.6\\SparseArrays\\src\\linalg.jl:15</a></li> <li> +(A::<b>LinearAlgebra.Symmetric</b>, B::<b>SparseArrays.AbstractSparseMatrix{Tv, Ti} where {Tv, Ti}</b>) in SparseArrays at <a href=\"file://C:/buildbot/worker/package_win64/build/usr/share/julia/stdlib/v1.6/SparseArrays/src/linalg.jl\" target=\"_blank\">C:\\Users\\91863\\AppData\\Local\\Programs\\Julia-1.6.1\\share\\julia\\stdlib\\v1.6\\SparseArrays\\src\\linalg.jl:18</a></li> <li> +(A::<b>LinearAlgebra.Symmetric{var\"#s824\", var\"#s823\"} where {var\"#s824\"<:Real, var\"#s823\"<:(SparseArrays.AbstractSparseMatrix{Tv, Ti} where {Tv, Ti})}</b>, B::<b>LinearAlgebra.Hermitian{var\"#s822\", var\"#s821\"} where {var\"#s822\", var\"#s821\"<:(SparseArrays.AbstractSparseMatrix{Tv, Ti} where {Tv, Ti})}</b>) in SparseArrays at <a href=\"file://C:/buildbot/worker/package_win64/build/usr/share/julia/stdlib/v1.6/SparseArrays/src/linalg.jl\" target=\"_blank\">C:\\Users\\91863\\AppData\\Local\\Programs\\Julia-1.6.1\\share\\julia\\stdlib\\v1.6\\SparseArrays\\src\\linalg.jl:25</a></li> <li> +(A::<b>LinearAlgebra.Symmetric{var\"#s831\", S} where {var\"#s831\"<:Real, S<:(AbstractMatrix{var\"#s832\"} where var\"#s832\"<:var\"#s831\")}</b>, B::<b>LinearAlgebra.Hermitian</b>) in LinearAlgebra at <a href=\"file://C:/buildbot/worker/package_win64/build/usr/share/julia/stdlib/v1.6/LinearAlgebra/src/symmetric.jl\" target=\"_blank\">C:\\Users\\91863\\AppData\\Local\\Programs\\Julia-1.6.1\\share\\julia\\stdlib\\v1.6\\LinearAlgebra\\src\\symmetric.jl:484</a></li> <li> +(A::<b>LinearAlgebra.Symmetric{var\"#s832\", var\"#s831\"} where {var\"#s832\", var\"#s831\"<:(SparseArrays.AbstractSparseMatrix{Tv, Ti} where {Tv, Ti})}</b>, B::<b>LinearAlgebra.Hermitian{var\"#s830\", var\"#s829\"} where {var\"#s830\", var\"#s829\"<:(SparseArrays.AbstractSparseMatrix{Tv, Ti} where {Tv, Ti})}</b>) in SparseArrays at <a href=\"file://C:/buildbot/worker/package_win64/build/usr/share/julia/stdlib/v1.6/SparseArrays/src/linalg.jl\" target=\"_blank\">C:\\Users\\91863\\AppData\\Local\\Programs\\Julia-1.6.1\\share\\julia\\stdlib\\v1.6\\SparseArrays\\src\\linalg.jl:23</a></li> <li> +(A::<b>BitArray</b>, B::<b>BitArray</b>) in Base at <a href=\"https://github.com/JuliaLang/julia/tree/6aaedecc447e3d8226d5027fb13d0c3cbfbfea2a/base/bitarray.jl#L1127\" target=\"_blank\">bitarray.jl:1127</a></li> <li> +(A::<b>LinearAlgebra.UpperTriangular</b>, B::<b>LinearAlgebra.UpperTriangular</b>) in LinearAlgebra at <a href=\"file://C:/buildbot/worker/package_win64/build/usr/share/julia/stdlib/v1.6/LinearAlgebra/src/triangular.jl\" target=\"_blank\">C:\\Users\\91863\\AppData\\Local\\Programs\\Julia-1.6.1\\share\\julia\\stdlib\\v1.6\\LinearAlgebra\\src\\triangular.jl:648</a></li> <li> +(A::<b>LinearAlgebra.UpperTriangular</b>, B::<b>LinearAlgebra.UnitUpperTriangular</b>) in LinearAlgebra at <a href=\"file://C:/buildbot/worker/package_win64/build/usr/share/julia/stdlib/v1.6/LinearAlgebra/src/triangular.jl\" target=\"_blank\">C:\\Users\\91863\\AppData\\Local\\Programs\\Julia-1.6.1\\share\\julia\\stdlib\\v1.6\\LinearAlgebra\\src\\triangular.jl:650</a></li> <li> +(A::<b>LinearAlgebra.AbstractTriangular</b>, B::<b>LinearAlgebra.AbstractTriangular</b>) in LinearAlgebra at <a href=\"file://C:/buildbot/worker/package_win64/build/usr/share/julia/stdlib/v1.6/LinearAlgebra/src/triangular.jl\" target=\"_blank\">C:\\Users\\91863\\AppData\\Local\\Programs\\Julia-1.6.1\\share\\julia\\stdlib\\v1.6\\LinearAlgebra\\src\\triangular.jl:656</a></li> <li> +(A::<b>LinearAlgebra.UpperTriangular</b>, B::<b>LinearAlgebra.Bidiagonal</b>) in LinearAlgebra at <a href=\"file://C:/buildbot/worker/package_win64/build/usr/share/julia/stdlib/v1.6/LinearAlgebra/src/special.jl\" target=\"_blank\">C:\\Users\\91863\\AppData\\Local\\Programs\\Julia-1.6.1\\share\\julia\\stdlib\\v1.6\\LinearAlgebra\\src\\special.jl:86</a></li> <li> +(Da::<b>LinearAlgebra.Diagonal</b>, Db::<b>LinearAlgebra.Diagonal</b>) in LinearAlgebra at <a href=\"file://C:/buildbot/worker/package_win64/build/usr/share/julia/stdlib/v1.6/LinearAlgebra/src/diagonal.jl\" target=\"_blank\">C:\\Users\\91863\\AppData\\Local\\Programs\\Julia-1.6.1\\share\\julia\\stdlib\\v1.6\\LinearAlgebra\\src\\diagonal.jl:156</a></li> <li> +(D::<b>LinearAlgebra.Diagonal</b>, S::<b>LinearAlgebra.Symmetric</b>) in LinearAlgebra at <a href=\"file://C:/buildbot/worker/package_win64/build/usr/share/julia/stdlib/v1.6/LinearAlgebra/src/diagonal.jl\" target=\"_blank\">C:\\Users\\91863\\AppData\\Local\\Programs\\Julia-1.6.1\\share\\julia\\stdlib\\v1.6\\LinearAlgebra\\src\\diagonal.jl:160</a></li> <li> +(D::<b>LinearAlgebra.Diagonal{var\"#s832\", V} where {var\"#s832\"<:Real, V<:AbstractVector{var\"#s832\"}}</b>, H::<b>LinearAlgebra.Hermitian</b>) in LinearAlgebra at <a href=\"file://C:/buildbot/worker/package_win64/build/usr/share/julia/stdlib/v1.6/LinearAlgebra/src/diagonal.jl\" target=\"_blank\">C:\\Users\\91863\\AppData\\Local\\Programs\\Julia-1.6.1\\share\\julia\\stdlib\\v1.6\\LinearAlgebra\\src\\diagonal.jl:166</a></li> <li> +(A::<b>LinearAlgebra.Diagonal</b>, B::<b>LinearAlgebra.Bidiagonal</b>) in LinearAlgebra at <a href=\"file://C:/buildbot/worker/package_win64/build/usr/share/julia/stdlib/v1.6/LinearAlgebra/src/special.jl\" target=\"_blank\">C:\\Users\\91863\\AppData\\Local\\Programs\\Julia-1.6.1\\share\\julia\\stdlib\\v1.6\\LinearAlgebra\\src\\special.jl:125</a></li> <li> +(A::<b>LinearAlgebra.Diagonal</b>, B::<b>LinearAlgebra.SymTridiagonal</b>) in LinearAlgebra at <a href=\"file://C:/buildbot/worker/package_win64/build/usr/share/julia/stdlib/v1.6/LinearAlgebra/src/special.jl\" target=\"_blank\">C:\\Users\\91863\\AppData\\Local\\Programs\\Julia-1.6.1\\share\\julia\\stdlib\\v1.6\\LinearAlgebra\\src\\special.jl:135</a></li> <li> +(A::<b>LinearAlgebra.Diagonal</b>, B::<b>LinearAlgebra.Tridiagonal</b>) in LinearAlgebra at <a href=\"file://C:/buildbot/worker/package_win64/build/usr/share/julia/stdlib/v1.6/LinearAlgebra/src/special.jl\" target=\"_blank\">C:\\Users\\91863\\AppData\\Local\\Programs\\Julia-1.6.1\\share\\julia\\stdlib\\v1.6\\LinearAlgebra\\src\\special.jl:163</a></li> <li> +(A::<b>LinearAlgebra.Diagonal{var\"#s832\", V} where {var\"#s832\"<:Number, V<:AbstractVector{var\"#s832\"}}</b>, B::<b>LinearAlgebra.UniformScaling</b>) in LinearAlgebra at <a href=\"file://C:/buildbot/worker/package_win64/build/usr/share/julia/stdlib/v1.6/LinearAlgebra/src/special.jl\" target=\"_blank\">C:\\Users\\91863\\AppData\\Local\\Programs\\Julia-1.6.1\\share\\julia\\stdlib\\v1.6\\LinearAlgebra\\src\\special.jl:241</a></li> <li> +(x::<b>AbstractArray{var\"#s832\", N} where {var\"#s832\"<:Dates.TimeType, N}</b>, y::<b>Union{Dates.CompoundPeriod, Dates.Period}</b>) in Dates at <a href=\"file://C:/buildbot/worker/package_win64/build/usr/share/julia/stdlib/v1.6/Dates/src/deprecated.jl\" target=\"_blank\">C:\\Users\\91863\\AppData\\Local\\Programs\\Julia-1.6.1\\share\\julia\\stdlib\\v1.6\\Dates\\src\\deprecated.jl:6</a></li> <li> +(c::<b>AbstractVector{T} where T</b>, d::<b>MvNormal</b>) in Distributions at <a href=\"file://C:/Users/91863/.julia/packages/Distributions/fXTVC/src/multivariate/mvnormal.jl\" target=\"_blank\">C:\\Users\\91863\\.julia\\packages\\Distributions\\fXTVC\\src\\multivariate\\mvnormal.jl:273</a></li> <li> +(a::<b>PDMats.AbstractPDMat</b>, b::<b>LinearAlgebra.UniformScaling</b>) in PDMats at <a href=\"file://C:/Users/91863/.julia/packages/PDMats/vgpB7/src/addition.jl\" target=\"_blank\">C:\\Users\\91863\\.julia\\packages\\PDMats\\vgpB7\\src\\addition.jl:42</a></li> <li> +(a::<b>PDMats.AbstractPDMat</b>, b::<b>Matrix{T} where T</b>) in PDMats at <a href=\"file://C:/Users/91863/.julia/packages/PDMats/vgpB7/src/generics.jl\" target=\"_blank\">C:\\Users\\91863\\.julia\\packages\\PDMats\\vgpB7\\src\\generics.jl:23</a></li> <li> +(A::<b>AbstractArray</b>, B::<b>AbstractArray</b>) in Base at <a href=\"https://github.com/JuliaLang/julia/tree/6aaedecc447e3d8226d5027fb13d0c3cbfbfea2a/base/arraymath.jl#L37\" target=\"_blank\">arraymath.jl:37</a></li> <li> +(x::<b>P</b>, y::<b>P</b>)<i> where P<:Dates.Period</i> in Dates at <a href=\"file://C:/buildbot/worker/package_win64/build/usr/share/julia/stdlib/v1.6/Dates/src/periods.jl\" target=\"_blank\">C:\\Users\\91863\\AppData\\Local\\Programs\\Julia-1.6.1\\share\\julia\\stdlib\\v1.6\\Dates\\src\\periods.jl:79</a></li> <li> +(x::<b>Dates.Period</b>, y::<b>Dates.Period</b>) in Dates at <a href=\"file://C:/buildbot/worker/package_win64/build/usr/share/julia/stdlib/v1.6/Dates/src/periods.jl\" target=\"_blank\">C:\\Users\\91863\\AppData\\Local\\Programs\\Julia-1.6.1\\share\\julia\\stdlib\\v1.6\\Dates\\src\\periods.jl:351</a></li> <li> +(y::<b>Dates.Period</b>, x::<b>Dates.CompoundPeriod</b>) in Dates at <a href=\"file://C:/buildbot/worker/package_win64/build/usr/share/julia/stdlib/v1.6/Dates/src/periods.jl\" target=\"_blank\">C:\\Users\\91863\\AppData\\Local\\Programs\\Julia-1.6.1\\share\\julia\\stdlib\\v1.6\\Dates\\src\\periods.jl:353</a></li> <li> +(y::<b>Dates.Period</b>, x::<b>Dates.TimeType</b>) in Dates at <a href=\"file://C:/buildbot/worker/package_win64/build/usr/share/julia/stdlib/v1.6/Dates/src/arithmetic.jl\" target=\"_blank\">C:\\Users\\91863\\AppData\\Local\\Programs\\Julia-1.6.1\\share\\julia\\stdlib\\v1.6\\Dates\\src\\arithmetic.jl:85</a></li> <li> +(x::<b>Dates.Period</b>, r::<b>AbstractRange{var\"#s832\"} where var\"#s832\"<:Dates.TimeType</b>) in Dates at <a href=\"file://C:/buildbot/worker/package_win64/build/usr/share/julia/stdlib/v1.6/Dates/src/ranges.jl\" target=\"_blank\">C:\\Users\\91863\\AppData\\Local\\Programs\\Julia-1.6.1\\share\\julia\\stdlib\\v1.6\\Dates\\src\\ranges.jl:62</a></li> <li> +(y::<b>Union{Dates.CompoundPeriod, Dates.Period}</b>, x::<b>AbstractArray{var\"#s832\", N} where {var\"#s832\"<:Dates.TimeType, N}</b>) in Dates at <a href=\"file://C:/buildbot/worker/package_win64/build/usr/share/julia/stdlib/v1.6/Dates/src/deprecated.jl\" target=\"_blank\">C:\\Users\\91863\\AppData\\Local\\Programs\\Julia-1.6.1\\share\\julia\\stdlib\\v1.6\\Dates\\src\\deprecated.jl:14</a></li> <li> +(x::<b>T</b>, y::<b>Integer</b>)<i> where T<:AbstractChar</i> in Base at <a href=\"https://github.com/JuliaLang/julia/tree/6aaedecc447e3d8226d5027fb13d0c3cbfbfea2a/base/char.jl#L223\" target=\"_blank\">char.jl:223</a></li> <li> +(x::<b>Dates.AbstractTime</b>, y::<b>Missing</b>) in Dates at <a href=\"file://C:/buildbot/worker/package_win64/build/usr/share/julia/stdlib/v1.6/Dates/src/arithmetic.jl\" target=\"_blank\">C:\\Users\\91863\\AppData\\Local\\Programs\\Julia-1.6.1\\share\\julia\\stdlib\\v1.6\\Dates\\src\\arithmetic.jl:88</a></li> <li> +(t::<b>Dates.Time</b>, dt::<b>Dates.Date</b>) in Dates at <a href=\"file://C:/buildbot/worker/package_win64/build/usr/share/julia/stdlib/v1.6/Dates/src/arithmetic.jl\" target=\"_blank\">C:\\Users\\91863\\AppData\\Local\\Programs\\Julia-1.6.1\\share\\julia\\stdlib\\v1.6\\Dates\\src\\arithmetic.jl:20</a></li> <li> +(x::<b>Dates.Time</b>, y::<b>Dates.TimePeriod</b>) in Dates at <a href=\"file://C:/buildbot/worker/package_win64/build/usr/share/julia/stdlib/v1.6/Dates/src/arithmetic.jl\" target=\"_blank\">C:\\Users\\91863\\AppData\\Local\\Programs\\Julia-1.6.1\\share\\julia\\stdlib\\v1.6\\Dates\\src\\arithmetic.jl:83</a></li> <li> +(dt::<b>Dates.DateTime</b>, y::<b>Dates.Year</b>) in Dates at <a href=\"file://C:/buildbot/worker/package_win64/build/usr/share/julia/stdlib/v1.6/Dates/src/arithmetic.jl\" target=\"_blank\">C:\\Users\\91863\\AppData\\Local\\Programs\\Julia-1.6.1\\share\\julia\\stdlib\\v1.6\\Dates\\src\\arithmetic.jl:23</a></li> <li> +(dt::<b>Dates.DateTime</b>, z::<b>Dates.Month</b>) in Dates at <a href=\"file://C:/buildbot/worker/package_win64/build/usr/share/julia/stdlib/v1.6/Dates/src/arithmetic.jl\" target=\"_blank\">C:\\Users\\91863\\AppData\\Local\\Programs\\Julia-1.6.1\\share\\julia\\stdlib\\v1.6\\Dates\\src\\arithmetic.jl:47</a></li> <li> +(x::<b>Dates.DateTime</b>, y::<b>Dates.Quarter</b>) in Dates at <a href=\"file://C:/buildbot/worker/package_win64/build/usr/share/julia/stdlib/v1.6/Dates/src/arithmetic.jl\" target=\"_blank\">C:\\Users\\91863\\AppData\\Local\\Programs\\Julia-1.6.1\\share\\julia\\stdlib\\v1.6\\Dates\\src\\arithmetic.jl:75</a></li> <li> +(x::<b>Dates.DateTime</b>, y::<b>Dates.Period</b>) in Dates at <a href=\"file://C:/buildbot/worker/package_win64/build/usr/share/julia/stdlib/v1.6/Dates/src/arithmetic.jl\" target=\"_blank\">C:\\Users\\91863\\AppData\\Local\\Programs\\Julia-1.6.1\\share\\julia\\stdlib\\v1.6\\Dates\\src\\arithmetic.jl:81</a></li> <li> +(dt::<b>Dates.Date</b>, t::<b>Dates.Time</b>) in Dates at <a href=\"file://C:/buildbot/worker/package_win64/build/usr/share/julia/stdlib/v1.6/Dates/src/arithmetic.jl\" target=\"_blank\">C:\\Users\\91863\\AppData\\Local\\Programs\\Julia-1.6.1\\share\\julia\\stdlib\\v1.6\\Dates\\src\\arithmetic.jl:19</a></li> <li> +(dt::<b>Dates.Date</b>, y::<b>Dates.Year</b>) in Dates at <a href=\"file://C:/buildbot/worker/package_win64/build/usr/share/julia/stdlib/v1.6/Dates/src/arithmetic.jl\" target=\"_blank\">C:\\Users\\91863\\AppData\\Local\\Programs\\Julia-1.6.1\\share\\julia\\stdlib\\v1.6\\Dates\\src\\arithmetic.jl:27</a></li> <li> +(dt::<b>Dates.Date</b>, z::<b>Dates.Month</b>) in Dates at <a href=\"file://C:/buildbot/worker/package_win64/build/usr/share/julia/stdlib/v1.6/Dates/src/arithmetic.jl\" target=\"_blank\">C:\\Users\\91863\\AppData\\Local\\Programs\\Julia-1.6.1\\share\\julia\\stdlib\\v1.6\\Dates\\src\\arithmetic.jl:54</a></li> <li> +(x::<b>Dates.Date</b>, y::<b>Dates.Quarter</b>) in Dates at <a href=\"file://C:/buildbot/worker/package_win64/build/usr/share/julia/stdlib/v1.6/Dates/src/arithmetic.jl\" target=\"_blank\">C:\\Users\\91863\\AppData\\Local\\Programs\\Julia-1.6.1\\share\\julia\\stdlib\\v1.6\\Dates\\src\\arithmetic.jl:73</a></li> <li> +(x::<b>Dates.Date</b>, y::<b>Dates.Week</b>) in Dates at <a href=\"file://C:/buildbot/worker/package_win64/build/usr/share/julia/stdlib/v1.6/Dates/src/arithmetic.jl\" target=\"_blank\">C:\\Users\\91863\\AppData\\Local\\Programs\\Julia-1.6.1\\share\\julia\\stdlib\\v1.6\\Dates\\src\\arithmetic.jl:77</a></li> <li> +(x::<b>Dates.Date</b>, y::<b>Dates.Day</b>) in Dates at <a href=\"file://C:/buildbot/worker/package_win64/build/usr/share/julia/stdlib/v1.6/Dates/src/arithmetic.jl\" target=\"_blank\">C:\\Users\\91863\\AppData\\Local\\Programs\\Julia-1.6.1\\share\\julia\\stdlib\\v1.6\\Dates\\src\\arithmetic.jl:79</a></li> <li> +(x::<b>Dates.TimeType</b>) in Dates at <a href=\"file://C:/buildbot/worker/package_win64/build/usr/share/julia/stdlib/v1.6/Dates/src/arithmetic.jl\" target=\"_blank\">C:\\Users\\91863\\AppData\\Local\\Programs\\Julia-1.6.1\\share\\julia\\stdlib\\v1.6\\Dates\\src\\arithmetic.jl:8</a></li> <li> +(a::<b>Dates.TimeType</b>, b::<b>Dates.Period</b>, c::<b>Dates.Period</b>) in Dates at <a href=\"file://C:/buildbot/worker/package_win64/build/usr/share/julia/stdlib/v1.6/Dates/src/periods.jl\" target=\"_blank\">C:\\Users\\91863\\AppData\\Local\\Programs\\Julia-1.6.1\\share\\julia\\stdlib\\v1.6\\Dates\\src\\periods.jl:373</a></li> <li> +(a::<b>Dates.TimeType</b>, b::<b>Dates.Period</b>, c::<b>Dates.Period</b>, d::<b>Dates.Period...</b>) in Dates at <a href=\"file://C:/buildbot/worker/package_win64/build/usr/share/julia/stdlib/v1.6/Dates/src/periods.jl\" target=\"_blank\">C:\\Users\\91863\\AppData\\Local\\Programs\\Julia-1.6.1\\share\\julia\\stdlib\\v1.6\\Dates\\src\\periods.jl:374</a></li> <li> +(x::<b>Dates.TimeType</b>, y::<b>Dates.CompoundPeriod</b>) in Dates at <a href=\"file://C:/buildbot/worker/package_win64/build/usr/share/julia/stdlib/v1.6/Dates/src/periods.jl\" target=\"_blank\">C:\\Users\\91863\\AppData\\Local\\Programs\\Julia-1.6.1\\share\\julia\\stdlib\\v1.6\\Dates\\src\\periods.jl:376</a></li> <li> +(x::<b>Rational{BigInt}</b>, y::<b>Rational{BigInt}</b>) in Base.GMP.MPQ at <a href=\"https://github.com/JuliaLang/julia/tree/6aaedecc447e3d8226d5027fb13d0c3cbfbfea2a/base/gmp.jl#L886\" target=\"_blank\">gmp.jl:886</a></li> <li> +(x::<b>Rational</b>) in Base at <a href=\"https://github.com/JuliaLang/julia/tree/6aaedecc447e3d8226d5027fb13d0c3cbfbfea2a/base/rational.jl#L267\" target=\"_blank\">rational.jl:267</a></li> <li> +(x::<b>Rational</b>, y::<b>Rational</b>) in Base at <a href=\"https://github.com/JuliaLang/julia/tree/6aaedecc447e3d8226d5027fb13d0c3cbfbfea2a/base/rational.jl#L283\" target=\"_blank\">rational.jl:283</a></li> <li> +(x::<b>Float32</b>, y::<b>Float32</b>) in Base at <a href=\"https://github.com/JuliaLang/julia/tree/6aaedecc447e3d8226d5027fb13d0c3cbfbfea2a/base/float.jl#L325\" target=\"_blank\">float.jl:325</a></li> <li> +(a::<b>Pkg.Resolve.VersionWeight</b>, b::<b>Pkg.Resolve.VersionWeight</b>) in Pkg.Resolve at <a href=\"file://C:/buildbot/worker/package_win64/build/usr/share/julia/stdlib/v1.6/Pkg/src/Resolve/versionweights.jl\" target=\"_blank\">C:\\Users\\91863\\AppData\\Local\\Programs\\Julia-1.6.1\\share\\julia\\stdlib\\v1.6\\Pkg\\src\\Resolve\\versionweights.jl:22</a></li> <li> +(x::<b>BigFloat</b>, y::<b>BigFloat</b>) in Base.MPFR at <a href=\"https://github.com/JuliaLang/julia/tree/6aaedecc447e3d8226d5027fb13d0c3cbfbfea2a/base/mpfr.jl#L364\" target=\"_blank\">mpfr.jl:364</a></li> <li> +(x::<b>BigFloat</b>, c::<b>Union{UInt16, UInt32, UInt8}</b>) in Base.MPFR at <a href=\"https://github.com/JuliaLang/julia/tree/6aaedecc447e3d8226d5027fb13d0c3cbfbfea2a/base/mpfr.jl#L371\" target=\"_blank\">mpfr.jl:371</a></li> <li> +(x::<b>BigFloat</b>, c::<b>Union{Int16, Int32, Int8}</b>) in Base.MPFR at <a href=\"https://github.com/JuliaLang/julia/tree/6aaedecc447e3d8226d5027fb13d0c3cbfbfea2a/base/mpfr.jl#L379\" target=\"_blank\">mpfr.jl:379</a></li> <li> +(x::<b>BigFloat</b>, c::<b>Union{Float16, Float32, Float64}</b>) in Base.MPFR at <a href=\"https://github.com/JuliaLang/julia/tree/6aaedecc447e3d8226d5027fb13d0c3cbfbfea2a/base/mpfr.jl#L387\" target=\"_blank\">mpfr.jl:387</a></li> <li> +(x::<b>BigFloat</b>, c::<b>BigInt</b>) in Base.MPFR at <a href=\"https://github.com/JuliaLang/julia/tree/6aaedecc447e3d8226d5027fb13d0c3cbfbfea2a/base/mpfr.jl#L395\" target=\"_blank\">mpfr.jl:395</a></li> <li> +(a::<b>BigFloat</b>, b::<b>BigFloat</b>, c::<b>BigFloat</b>) in Base.MPFR at <a href=\"https://github.com/JuliaLang/julia/tree/6aaedecc447e3d8226d5027fb13d0c3cbfbfea2a/base/mpfr.jl#L536\" target=\"_blank\">mpfr.jl:536</a></li> <li> +(a::<b>BigFloat</b>, b::<b>BigFloat</b>, c::<b>BigFloat</b>, d::<b>BigFloat</b>) in Base.MPFR at <a href=\"https://github.com/JuliaLang/julia/tree/6aaedecc447e3d8226d5027fb13d0c3cbfbfea2a/base/mpfr.jl#L542\" target=\"_blank\">mpfr.jl:542</a></li> <li> +(a::<b>BigFloat</b>, b::<b>BigFloat</b>, c::<b>BigFloat</b>, d::<b>BigFloat</b>, e::<b>BigFloat</b>) in Base.MPFR at <a href=\"https://github.com/JuliaLang/julia/tree/6aaedecc447e3d8226d5027fb13d0c3cbfbfea2a/base/mpfr.jl#L549\" target=\"_blank\">mpfr.jl:549</a></li> <li> +(::<b>Missing</b>) in Base at <a href=\"https://github.com/JuliaLang/julia/tree/6aaedecc447e3d8226d5027fb13d0c3cbfbfea2a/base/missing.jl#L101\" target=\"_blank\">missing.jl:101</a></li> <li> +(::<b>Missing</b>, ::<b>Missing</b>) in Base at <a href=\"https://github.com/JuliaLang/julia/tree/6aaedecc447e3d8226d5027fb13d0c3cbfbfea2a/base/missing.jl#L115\" target=\"_blank\">missing.jl:115</a></li> <li> +(::<b>Missing</b>, ::<b>Number</b>) in Base at <a href=\"https://github.com/JuliaLang/julia/tree/6aaedecc447e3d8226d5027fb13d0c3cbfbfea2a/base/missing.jl#L116\" target=\"_blank\">missing.jl:116</a></li> <li> +(x::<b>Missing</b>, y::<b>Dates.AbstractTime</b>) in Dates at <a href=\"file://C:/buildbot/worker/package_win64/build/usr/share/julia/stdlib/v1.6/Dates/src/arithmetic.jl\" target=\"_blank\">C:\\Users\\91863\\AppData\\Local\\Programs\\Julia-1.6.1\\share\\julia\\stdlib\\v1.6\\Dates\\src\\arithmetic.jl:89</a></li> <li> +(x::<b>BigInt</b>, y::<b>BigInt</b>) in Base.GMP at <a href=\"https://github.com/JuliaLang/julia/tree/6aaedecc447e3d8226d5027fb13d0c3cbfbfea2a/base/gmp.jl#L479\" target=\"_blank\">gmp.jl:479</a></li> <li> +(a::<b>BigInt</b>, b::<b>BigInt</b>, c::<b>BigInt</b>) in Base.GMP at <a href=\"https://github.com/JuliaLang/julia/tree/6aaedecc447e3d8226d5027fb13d0c3cbfbfea2a/base/gmp.jl#L519\" target=\"_blank\">gmp.jl:519</a></li> <li> +(a::<b>BigInt</b>, b::<b>BigInt</b>, c::<b>BigInt</b>, d::<b>BigInt</b>) in Base.GMP at <a href=\"https://github.com/JuliaLang/julia/tree/6aaedecc447e3d8226d5027fb13d0c3cbfbfea2a/base/gmp.jl#L520\" target=\"_blank\">gmp.jl:520</a></li> <li> +(a::<b>BigInt</b>, b::<b>BigInt</b>, c::<b>BigInt</b>, d::<b>BigInt</b>, e::<b>BigInt</b>) in Base.GMP at <a href=\"https://github.com/JuliaLang/julia/tree/6aaedecc447e3d8226d5027fb13d0c3cbfbfea2a/base/gmp.jl#L521\" target=\"_blank\">gmp.jl:521</a></li> <li> +(x::<b>BigInt</b>, c::<b>Union{UInt16, UInt32, UInt8}</b>) in Base.GMP at <a href=\"https://github.com/JuliaLang/julia/tree/6aaedecc447e3d8226d5027fb13d0c3cbfbfea2a/base/gmp.jl#L527\" target=\"_blank\">gmp.jl:527</a></li> <li> +(x::<b>BigInt</b>, c::<b>Union{Int16, Int32, Int8}</b>) in Base.GMP at <a href=\"https://github.com/JuliaLang/julia/tree/6aaedecc447e3d8226d5027fb13d0c3cbfbfea2a/base/gmp.jl#L533\" target=\"_blank\">gmp.jl:533</a></li> <li> +(c::<b>BigInt</b>, x::<b>BigFloat</b>) in Base.MPFR at <a href=\"https://github.com/JuliaLang/julia/tree/6aaedecc447e3d8226d5027fb13d0c3cbfbfea2a/base/mpfr.jl#L400\" target=\"_blank\">mpfr.jl:400</a></li> <li> +(::<b>ChainRulesCore.NoTangent</b>, ::<b>ChainRulesCore.ZeroTangent</b>) in ChainRulesCore at <a href=\"file://C:/Users/91863/.julia/packages/ChainRulesCore/BYuIz/src/differential_arithmetic.jl\" target=\"_blank\">C:\\Users\\91863\\.julia\\packages\\ChainRulesCore\\BYuIz\\src\\differential_arithmetic.jl:89</a></li> <li> +(::<b>ChainRulesCore.NoTangent</b>, b::<b>ChainRulesCore.Tangent</b>) in ChainRulesCore at <a href=\"file://C:/Users/91863/.julia/packages/ChainRulesCore/BYuIz/src/differential_arithmetic.jl\" target=\"_blank\">C:\\Users\\91863\\.julia\\packages\\ChainRulesCore\\BYuIz\\src\\differential_arithmetic.jl:75</a></li> <li> +(::<b>ChainRulesCore.NoTangent</b>, b::<b>ChainRulesCore.AbstractThunk</b>) in ChainRulesCore at <a href=\"file://C:/Users/91863/.julia/packages/ChainRulesCore/BYuIz/src/differential_arithmetic.jl\" target=\"_blank\">C:\\Users\\91863\\.julia\\packages\\ChainRulesCore\\BYuIz\\src\\differential_arithmetic.jl:75</a></li> <li> +(::<b>ChainRulesCore.NoTangent</b>, ::<b>ChainRulesCore.NoTangent</b>) in ChainRulesCore at <a href=\"file://C:/Users/91863/.julia/packages/ChainRulesCore/BYuIz/src/differential_arithmetic.jl\" target=\"_blank\">C:\\Users\\91863\\.julia\\packages\\ChainRulesCore\\BYuIz\\src\\differential_arithmetic.jl:69</a></li> <li> +(::<b>ChainRulesCore.NoTangent</b>, x::<b>ChainRulesCore.NotImplemented</b>) in ChainRulesCore at <a href=\"file://C:/Users/91863/.julia/packages/ChainRulesCore/BYuIz/src/differential_arithmetic.jl\" target=\"_blank\">C:\\Users\\91863\\.julia\\packages\\ChainRulesCore\\BYuIz\\src\\differential_arithmetic.jl:26</a></li> <li> +(::<b>ChainRulesCore.NoTangent</b>, b) in ChainRulesCore at <a href=\"file://C:/Users/91863/.julia/packages/ChainRulesCore/BYuIz/src/differential_arithmetic.jl\" target=\"_blank\">C:\\Users\\91863\\.julia\\packages\\ChainRulesCore\\BYuIz\\src\\differential_arithmetic.jl:75</a></li> <li> +(x::<b>Dates.CompoundPeriod</b>, y::<b>Dates.Period</b>) in Dates at <a href=\"file://C:/buildbot/worker/package_win64/build/usr/share/julia/stdlib/v1.6/Dates/src/periods.jl\" target=\"_blank\">C:\\Users\\91863\\AppData\\Local\\Programs\\Julia-1.6.1\\share\\julia\\stdlib\\v1.6\\Dates\\src\\periods.jl:352</a></li> <li> +(x::<b>Dates.CompoundPeriod</b>, y::<b>Dates.CompoundPeriod</b>) in Dates at <a href=\"file://C:/buildbot/worker/package_win64/build/usr/share/julia/stdlib/v1.6/Dates/src/periods.jl\" target=\"_blank\">C:\\Users\\91863\\AppData\\Local\\Programs\\Julia-1.6.1\\share\\julia\\stdlib\\v1.6\\Dates\\src\\periods.jl:354</a></li> <li> +(x::<b>Dates.CompoundPeriod</b>, y::<b>Dates.TimeType</b>) in Dates at <a href=\"file://C:/buildbot/worker/package_win64/build/usr/share/julia/stdlib/v1.6/Dates/src/periods.jl\" target=\"_blank\">C:\\Users\\91863\\AppData\\Local\\Programs\\Julia-1.6.1\\share\\julia\\stdlib\\v1.6\\Dates\\src\\periods.jl:382</a></li> <li> +(a::<b>Pkg.Resolve.FieldValue</b>, b::<b>Pkg.Resolve.FieldValue</b>) in Pkg.Resolve at <a href=\"file://C:/buildbot/worker/package_win64/build/usr/share/julia/stdlib/v1.6/Pkg/src/Resolve/fieldvalues.jl\" target=\"_blank\">C:\\Users\\91863\\AppData\\Local\\Programs\\Julia-1.6.1\\share\\julia\\stdlib\\v1.6\\Pkg\\src\\Resolve\\fieldvalues.jl:43</a></li> <li> +(level::<b>Base.CoreLogging.LogLevel</b>, inc::<b>Integer</b>) in Base.CoreLogging at <a href=\"https://github.com/JuliaLang/julia/tree/6aaedecc447e3d8226d5027fb13d0c3cbfbfea2a/base/logging.jl#L131\" target=\"_blank\">logging.jl:131</a></li> <li> +(x::<b>ChainRulesCore.NotImplemented</b>) in ChainRulesCore at <a href=\"file://C:/Users/91863/.julia/packages/ChainRulesCore/BYuIz/src/differential_arithmetic.jl\" target=\"_blank\">C:\\Users\\91863\\.julia\\packages\\ChainRulesCore\\BYuIz\\src\\differential_arithmetic.jl:52</a></li> <li> +(x::<b>ChainRulesCore.NotImplemented</b>, ::<b>ChainRulesCore.Tangent</b>) in ChainRulesCore at <a href=\"file://C:/Users/91863/.julia/packages/ChainRulesCore/BYuIz/src/differential_arithmetic.jl\" target=\"_blank\">C:\\Users\\91863\\.julia\\packages\\ChainRulesCore\\BYuIz\\src\\differential_arithmetic.jl:25</a></li> <li> +(x::<b>ChainRulesCore.NotImplemented</b>, ::<b>ChainRulesCore.AbstractThunk</b>) in ChainRulesCore at <a href=\"file://C:/Users/91863/.julia/packages/ChainRulesCore/BYuIz/src/differential_arithmetic.jl\" target=\"_blank\">C:\\Users\\91863\\.julia\\packages\\ChainRulesCore\\BYuIz\\src\\differential_arithmetic.jl:25</a></li> <li> +(x::<b>ChainRulesCore.NotImplemented</b>, ::<b>ChainRulesCore.NoTangent</b>) in ChainRulesCore at <a href=\"file://C:/Users/91863/.julia/packages/ChainRulesCore/BYuIz/src/differential_arithmetic.jl\" target=\"_blank\">C:\\Users\\91863\\.julia\\packages\\ChainRulesCore\\BYuIz\\src\\differential_arithmetic.jl:25</a></li> <li> +(x::<b>ChainRulesCore.NotImplemented</b>, ::<b>ChainRulesCore.NotImplemented</b>) in ChainRulesCore at <a href=\"file://C:/Users/91863/.julia/packages/ChainRulesCore/BYuIz/src/differential_arithmetic.jl\" target=\"_blank\">C:\\Users\\91863\\.julia\\packages\\ChainRulesCore\\BYuIz\\src\\differential_arithmetic.jl:21</a></li> <li> +(x::<b>ChainRulesCore.NotImplemented</b>, ::<b>ChainRulesCore.ZeroTangent</b>) in ChainRulesCore at <a href=\"file://C:/Users/91863/.julia/packages/ChainRulesCore/BYuIz/src/differential_arithmetic.jl\" target=\"_blank\">C:\\Users\\91863\\.julia\\packages\\ChainRulesCore\\BYuIz\\src\\differential_arithmetic.jl:19</a></li> <li> +(x::<b>ChainRulesCore.NotImplemented</b>, ::<b>Any</b>) in ChainRulesCore at <a href=\"file://C:/Users/91863/.julia/packages/ChainRulesCore/BYuIz/src/differential_arithmetic.jl\" target=\"_blank\">C:\\Users\\91863\\.julia\\packages\\ChainRulesCore\\BYuIz\\src\\differential_arithmetic.jl:25</a></li> <li> +(x::<b>Float64</b>, y::<b>Float64</b>) in Base at <a href=\"https://github.com/JuliaLang/julia/tree/6aaedecc447e3d8226d5027fb13d0c3cbfbfea2a/base/float.jl#L326\" target=\"_blank\">float.jl:326</a></li> <li> +(x::<b>Bool</b>) in Base at <a href=\"https://github.com/JuliaLang/julia/tree/6aaedecc447e3d8226d5027fb13d0c3cbfbfea2a/base/bool.jl#L89\" target=\"_blank\">bool.jl:89</a></li> <li> +(x::<b>Number</b>, y::<b>Base.TwicePrecision</b>) in Base at <a href=\"https://github.com/JuliaLang/julia/tree/6aaedecc447e3d8226d5027fb13d0c3cbfbfea2a/base/twiceprecision.jl#L271\" target=\"_blank\">twiceprecision.jl:271</a></li> <li> +(::<b>Number</b>, ::<b>Missing</b>) in Base at <a href=\"https://github.com/JuliaLang/julia/tree/6aaedecc447e3d8226d5027fb13d0c3cbfbfea2a/base/missing.jl#L117\" target=\"_blank\">missing.jl:117</a></li> <li> +(x::<b>Number</b>, J::<b>LinearAlgebra.UniformScaling</b>) in LinearAlgebra at <a href=\"file://C:/buildbot/worker/package_win64/build/usr/share/julia/stdlib/v1.6/LinearAlgebra/src/uniformscaling.jl\" target=\"_blank\">C:\\Users\\91863\\AppData\\Local\\Programs\\Julia-1.6.1\\share\\julia\\stdlib\\v1.6\\LinearAlgebra\\src\\uniformscaling.jl:146</a></li> <li> +(x::<b>Integer</b>, y::<b>Ptr</b>) in Base at <a href=\"https://github.com/JuliaLang/julia/tree/6aaedecc447e3d8226d5027fb13d0c3cbfbfea2a/base/pointer.jl#L161\" target=\"_blank\">pointer.jl:161</a></li> <li> +(y::<b>Integer</b>, x::<b>Rational</b>) in Base at <a href=\"https://github.com/JuliaLang/julia/tree/6aaedecc447e3d8226d5027fb13d0c3cbfbfea2a/base/rational.jl#L295\" target=\"_blank\">rational.jl:295</a></li> <li> +(x::<b>Integer</b>, y::<b>AbstractChar</b>) in Base at <a href=\"https://github.com/JuliaLang/julia/tree/6aaedecc447e3d8226d5027fb13d0c3cbfbfea2a/base/char.jl#L224\" target=\"_blank\">char.jl:224</a></li> <li> +(x::<b>Real</b>, d::<b>UnivariateDistribution{S} where S<:ValueSupport</b>) in Distributions at <a href=\"file://C:/Users/91863/.julia/packages/Distributions/fXTVC/src/univariate/locationscale.jl\" target=\"_blank\">C:\\Users\\91863\\.julia\\packages\\Distributions\\fXTVC\\src\\univariate\\locationscale.jl:125</a></li> <li> +(x::<b>Bool</b>, y::<b>Bool</b>) in Base at <a href=\"https://github.com/JuliaLang/julia/tree/6aaedecc447e3d8226d5027fb13d0c3cbfbfea2a/base/bool.jl#L92\" target=\"_blank\">bool.jl:92</a></li> <li> +(a::<b>Integer</b>, b::<b>Integer</b>) in Base at <a href=\"https://github.com/JuliaLang/julia/tree/6aaedecc447e3d8226d5027fb13d0c3cbfbfea2a/base/int.jl#L919\" target=\"_blank\">int.jl:919</a></li> <li> +(x::<b>Bool</b>, y::<b>T</b>)<i> where T<:AbstractFloat</i> in Base at <a href=\"https://github.com/JuliaLang/julia/tree/6aaedecc447e3d8226d5027fb13d0c3cbfbfea2a/base/bool.jl#L99\" target=\"_blank\">bool.jl:99</a></li> <li> +(x::<b>Bool</b>, z::<b>Complex{Bool}</b>) in Base at <a href=\"https://github.com/JuliaLang/julia/tree/6aaedecc447e3d8226d5027fb13d0c3cbfbfea2a/base/complex.jl#L286\" target=\"_blank\">complex.jl:286</a></li> <li> +(x::<b>Real</b>, z::<b>Complex{Bool}</b>) in Base at <a href=\"https://github.com/JuliaLang/julia/tree/6aaedecc447e3d8226d5027fb13d0c3cbfbfea2a/base/complex.jl#L300\" target=\"_blank\">complex.jl:300</a></li> <li> +(x::<b>Bool</b>, z::<b>Complex</b>) in Base at <a href=\"https://github.com/JuliaLang/julia/tree/6aaedecc447e3d8226d5027fb13d0c3cbfbfea2a/base/complex.jl#L293\" target=\"_blank\">complex.jl:293</a></li> <li> +(x::<b>Real</b>, z::<b>Complex</b>) in Base at <a href=\"https://github.com/JuliaLang/julia/tree/6aaedecc447e3d8226d5027fb13d0c3cbfbfea2a/base/complex.jl#L312\" target=\"_blank\">complex.jl:312</a></li> <li> +(z::<b>Complex{Bool}</b>, x::<b>Bool</b>) in Base at <a href=\"https://github.com/JuliaLang/julia/tree/6aaedecc447e3d8226d5027fb13d0c3cbfbfea2a/base/complex.jl#L287\" target=\"_blank\">complex.jl:287</a></li> <li> +(z::<b>Complex</b>, x::<b>Bool</b>) in Base at <a href=\"https://github.com/JuliaLang/julia/tree/6aaedecc447e3d8226d5027fb13d0c3cbfbfea2a/base/complex.jl#L294\" target=\"_blank\">complex.jl:294</a></li> <li> +(z::<b>Complex{Bool}</b>, x::<b>Real</b>) in Base at <a href=\"https://github.com/JuliaLang/julia/tree/6aaedecc447e3d8226d5027fb13d0c3cbfbfea2a/base/complex.jl#L301\" target=\"_blank\">complex.jl:301</a></li> <li> +(z::<b>Complex</b>) in Base at <a href=\"https://github.com/JuliaLang/julia/tree/6aaedecc447e3d8226d5027fb13d0c3cbfbfea2a/base/complex.jl#L273\" target=\"_blank\">complex.jl:273</a></li> <li> +(z::<b>Complex</b>, x::<b>Real</b>) in Base at <a href=\"https://github.com/JuliaLang/julia/tree/6aaedecc447e3d8226d5027fb13d0c3cbfbfea2a/base/complex.jl#L313\" target=\"_blank\">complex.jl:313</a></li> <li> +(x::<b>Float16</b>, y::<b>Float16</b>) in Base at <a href=\"https://github.com/JuliaLang/julia/tree/6aaedecc447e3d8226d5027fb13d0c3cbfbfea2a/base/float.jl#L324\" target=\"_blank\">float.jl:324</a></li> <li> +(x::<b>Number</b>) in Base at <a href=\"https://github.com/JuliaLang/julia/tree/6aaedecc447e3d8226d5027fb13d0c3cbfbfea2a/base/operators.jl#L515\" target=\"_blank\">operators.jl:515</a></li> <li> +(x::<b>T</b>, y::<b>T</b>)<i> where T<:Number</i> in Base at <a href=\"https://github.com/JuliaLang/julia/tree/6aaedecc447e3d8226d5027fb13d0c3cbfbfea2a/base/promotion.jl#L396\" target=\"_blank\">promotion.jl:396</a></li> <li> +(x::<b>Number</b>, y::<b>Number</b>) in Base at <a href=\"https://github.com/JuliaLang/julia/tree/6aaedecc447e3d8226d5027fb13d0c3cbfbfea2a/base/promotion.jl#L321\" target=\"_blank\">promotion.jl:321</a></li> <li> +(::<b>ChainRulesCore.ZeroTangent</b>, b::<b>ChainRulesCore.Tangent</b>) in ChainRulesCore at <a href=\"file://C:/Users/91863/.julia/packages/ChainRulesCore/BYuIz/src/differential_arithmetic.jl\" target=\"_blank\">C:\\Users\\91863\\.julia\\packages\\ChainRulesCore\\BYuIz\\src\\differential_arithmetic.jl:115</a></li> <li> +(::<b>ChainRulesCore.ZeroTangent</b>, b::<b>ChainRulesCore.AbstractThunk</b>) in ChainRulesCore at <a href=\"file://C:/Users/91863/.julia/packages/ChainRulesCore/BYuIz/src/differential_arithmetic.jl\" target=\"_blank\">C:\\Users\\91863\\.julia\\packages\\ChainRulesCore\\BYuIz\\src\\differential_arithmetic.jl:115</a></li> <li> +(::<b>ChainRulesCore.ZeroTangent</b>, ::<b>ChainRulesCore.ZeroTangent</b>) in ChainRulesCore at <a href=\"file://C:/Users/91863/.julia/packages/ChainRulesCore/BYuIz/src/differential_arithmetic.jl\" target=\"_blank\">C:\\Users\\91863\\.julia\\packages\\ChainRulesCore\\BYuIz\\src\\differential_arithmetic.jl:109</a></li> <li> +(::<b>ChainRulesCore.ZeroTangent</b>, ::<b>ChainRulesCore.NoTangent</b>) in ChainRulesCore at <a href=\"file://C:/Users/91863/.julia/packages/ChainRulesCore/BYuIz/src/differential_arithmetic.jl\" target=\"_blank\">C:\\Users\\91863\\.julia\\packages\\ChainRulesCore\\BYuIz\\src\\differential_arithmetic.jl:90</a></li> <li> +(::<b>ChainRulesCore.ZeroTangent</b>, x::<b>ChainRulesCore.NotImplemented</b>) in ChainRulesCore at <a href=\"file://C:/Users/91863/.julia/packages/ChainRulesCore/BYuIz/src/differential_arithmetic.jl\" target=\"_blank\">C:\\Users\\91863\\.julia\\packages\\ChainRulesCore\\BYuIz\\src\\differential_arithmetic.jl:20</a></li> <li> +(::<b>ChainRulesCore.ZeroTangent</b>, b) in ChainRulesCore at <a href=\"file://C:/Users/91863/.julia/packages/ChainRulesCore/BYuIz/src/differential_arithmetic.jl\" target=\"_blank\">C:\\Users\\91863\\.julia\\packages\\ChainRulesCore\\BYuIz\\src\\differential_arithmetic.jl:115</a></li> <li> +(x::<b>ChainRulesCore.AbstractTangent</b>) in ChainRulesCore at <a href=\"file://C:/Users/91863/.julia/packages/ChainRulesCore/BYuIz/src/differentials/abstract_differential.jl\" target=\"_blank\">C:\\Users\\91863\\.julia\\packages\\ChainRulesCore\\BYuIz\\src\\differentials\\abstract_differential.jl:38</a></li> <li> +(B::<b>BitMatrix</b>, J::<b>LinearAlgebra.UniformScaling</b>) in LinearAlgebra at <a href=\"file://C:/buildbot/worker/package_win64/build/usr/share/julia/stdlib/v1.6/LinearAlgebra/src/uniformscaling.jl\" target=\"_blank\">C:\\Users\\91863\\AppData\\Local\\Programs\\Julia-1.6.1\\share\\julia\\stdlib\\v1.6\\LinearAlgebra\\src\\uniformscaling.jl:152</a></li> <li> +(A::<b>AbstractMatrix{T} where T</b>, J::<b>LinearAlgebra.UniformScaling</b>) in LinearAlgebra at <a href=\"file://C:/buildbot/worker/package_win64/build/usr/share/julia/stdlib/v1.6/LinearAlgebra/src/uniformscaling.jl\" target=\"_blank\">C:\\Users\\91863\\AppData\\Local\\Programs\\Julia-1.6.1\\share\\julia\\stdlib\\v1.6\\LinearAlgebra\\src\\uniformscaling.jl:215</a></li> <li> +(x::<b>AbstractArray{var\"#s79\", N} where {var\"#s79\"<:Number, N}</b>) in Base at <a href=\"https://github.com/JuliaLang/julia/tree/6aaedecc447e3d8226d5027fb13d0c3cbfbfea2a/base/abstractarraymath.jl#L97\" target=\"_blank\">abstractarraymath.jl:97</a></li> <li> +(a::<b>P</b>, d::<b>ChainRulesCore.Tangent{P, T} where T</b>)<i> where P</i> in ChainRulesCore at <a href=\"file://C:/Users/91863/.julia/packages/ChainRulesCore/BYuIz/src/differential_arithmetic.jl\" target=\"_blank\">C:\\Users\\91863\\.julia\\packages\\ChainRulesCore\\BYuIz\\src\\differential_arithmetic.jl:149</a></li> <li> +(a, b::<b>ChainRulesCore.AbstractThunk</b>) in ChainRulesCore at <a href=\"file://C:/Users/91863/.julia/packages/ChainRulesCore/BYuIz/src/differential_arithmetic.jl\" target=\"_blank\">C:\\Users\\91863\\.julia\\packages\\ChainRulesCore\\BYuIz\\src\\differential_arithmetic.jl:139</a></li> <li> +(a, ::<b>ChainRulesCore.ZeroTangent</b>) in ChainRulesCore at <a href=\"file://C:/Users/91863/.julia/packages/ChainRulesCore/BYuIz/src/differential_arithmetic.jl\" target=\"_blank\">C:\\Users\\91863\\.julia\\packages\\ChainRulesCore\\BYuIz\\src\\differential_arithmetic.jl:116</a></li> <li> +(a, ::<b>ChainRulesCore.NoTangent</b>) in ChainRulesCore at <a href=\"file://C:/Users/91863/.julia/packages/ChainRulesCore/BYuIz/src/differential_arithmetic.jl\" target=\"_blank\">C:\\Users\\91863\\.julia\\packages\\ChainRulesCore\\BYuIz\\src\\differential_arithmetic.jl:76</a></li> <li> +(::<b>Any</b>, x::<b>ChainRulesCore.NotImplemented</b>) in ChainRulesCore at <a href=\"file://C:/Users/91863/.julia/packages/ChainRulesCore/BYuIz/src/differential_arithmetic.jl\" target=\"_blank\">C:\\Users\\91863\\.julia\\packages\\ChainRulesCore\\BYuIz\\src\\differential_arithmetic.jl:26</a></li> <li> +(a, b, c, xs...) in Base at <a href=\"https://github.com/JuliaLang/julia/tree/6aaedecc447e3d8226d5027fb13d0c3cbfbfea2a/base/operators.jl#L560\" target=\"_blank\">operators.jl:560</a></li> </ul>"
      ],
      "text/plain": [
       "# 271 methods for generic function \"+\":\n",
       "[1] +(x::T, y::T) where T<:Union{Int128, Int16, Int32, Int64, Int8, UInt128, UInt16, UInt32, UInt64, UInt8} in Base at int.jl:87\n",
       "[2] +(c::Union{UInt16, UInt32, UInt8}, x::BigInt) in Base.GMP at gmp.jl:528\n",
       "[3] +(c::Union{Int16, Int32, Int8}, x::BigInt) in Base.GMP at gmp.jl:534\n",
       "[4] +(c::Union{UInt16, UInt32, UInt8}, x::BigFloat) in Base.MPFR at mpfr.jl:376\n",
       "[5] +(c::Union{Int16, Int32, Int8}, x::BigFloat) in Base.MPFR at mpfr.jl:384\n",
       "[6] +(c::Union{Float16, Float32, Float64}, x::BigFloat) in Base.MPFR at mpfr.jl:392\n",
       "[7] +(x::Union{Dates.CompoundPeriod, Dates.Period}) in Dates at C:\\Users\\91863\\AppData\\Local\\Programs\\Julia-1.6.1\\share\\julia\\stdlib\\v1.6\\Dates\\src\\periods.jl:362\n",
       "[8] +(A::SparseArrays.AbstractSparseMatrix{Tv, Ti} where {Tv, Ti}, B::LinearAlgebra.Hermitian{var\"#s832\", var\"#s831\"} where {var\"#s832\", var\"#s831\"<:(SparseArrays.AbstractSparseMatrix{Tv, Ti} where {Tv, Ti})}) in SparseArrays at C:\\Users\\91863\\AppData\\Local\\Programs\\Julia-1.6.1\\share\\julia\\stdlib\\v1.6\\SparseArrays\\src\\linalg.jl:14\n",
       "[9] +(A::SparseArrays.AbstractSparseMatrix{Tv, Ti} where {Tv, Ti}, B::LinearAlgebra.Hermitian) in SparseArrays at C:\\Users\\91863\\AppData\\Local\\Programs\\Julia-1.6.1\\share\\julia\\stdlib\\v1.6\\SparseArrays\\src\\linalg.jl:17\n",
       "[10] +(A::SparseArrays.AbstractSparseMatrix{Tv, Ti} where {Tv, Ti}, B::LinearAlgebra.Symmetric{var\"#s832\", var\"#s831\"} where {var\"#s832\", var\"#s831\"<:(SparseArrays.AbstractSparseMatrix{Tv, Ti} where {Tv, Ti})}) in SparseArrays at C:\\Users\\91863\\AppData\\Local\\Programs\\Julia-1.6.1\\share\\julia\\stdlib\\v1.6\\SparseArrays\\src\\linalg.jl:14\n",
       "[11] +(A::SparseArrays.AbstractSparseMatrix{Tv, Ti} where {Tv, Ti}, B::LinearAlgebra.Symmetric) in SparseArrays at C:\\Users\\91863\\AppData\\Local\\Programs\\Julia-1.6.1\\share\\julia\\stdlib\\v1.6\\SparseArrays\\src\\linalg.jl:17\n",
       "[12] +(A::LinearAlgebra.UpperHessenberg, B::LinearAlgebra.UpperHessenberg) in LinearAlgebra at C:\\Users\\91863\\AppData\\Local\\Programs\\Julia-1.6.1\\share\\julia\\stdlib\\v1.6\\LinearAlgebra\\src\\hessenberg.jl:101\n",
       "[13] +(H::LinearAlgebra.UpperHessenberg, J::LinearAlgebra.UniformScaling) in LinearAlgebra at C:\\Users\\91863\\AppData\\Local\\Programs\\Julia-1.6.1\\share\\julia\\stdlib\\v1.6\\LinearAlgebra\\src\\hessenberg.jl:106\n",
       "[14] +(J::LinearAlgebra.UniformScaling) in LinearAlgebra at C:\\Users\\91863\\AppData\\Local\\Programs\\Julia-1.6.1\\share\\julia\\stdlib\\v1.6\\LinearAlgebra\\src\\uniformscaling.jl:150\n",
       "[15] +(J::LinearAlgebra.UniformScaling, x::Number) in LinearAlgebra at C:\\Users\\91863\\AppData\\Local\\Programs\\Julia-1.6.1\\share\\julia\\stdlib\\v1.6\\LinearAlgebra\\src\\uniformscaling.jl:145\n",
       "[16] +(J1::LinearAlgebra.UniformScaling, J2::LinearAlgebra.UniformScaling) in LinearAlgebra at C:\\Users\\91863\\AppData\\Local\\Programs\\Julia-1.6.1\\share\\julia\\stdlib\\v1.6\\LinearAlgebra\\src\\uniformscaling.jl:151\n",
       "[17] +(J::LinearAlgebra.UniformScaling, B::BitMatrix) in LinearAlgebra at C:\\Users\\91863\\AppData\\Local\\Programs\\Julia-1.6.1\\share\\julia\\stdlib\\v1.6\\LinearAlgebra\\src\\uniformscaling.jl:153\n",
       "[18] +(J::LinearAlgebra.UniformScaling, F::LinearAlgebra.Hessenberg) in LinearAlgebra at C:\\Users\\91863\\AppData\\Local\\Programs\\Julia-1.6.1\\share\\julia\\stdlib\\v1.6\\LinearAlgebra\\src\\hessenberg.jl:560\n",
       "[19] +(A::LinearAlgebra.UniformScaling, B::LinearAlgebra.Tridiagonal{var\"#s832\", V} where {var\"#s832\"<:Number, V<:AbstractVector{var\"#s832\"}}) in LinearAlgebra at C:\\Users\\91863\\AppData\\Local\\Programs\\Julia-1.6.1\\share\\julia\\stdlib\\v1.6\\LinearAlgebra\\src\\special.jl:245\n",
       "[20] +(A::LinearAlgebra.UniformScaling, B::LinearAlgebra.SymTridiagonal{var\"#s832\", V} where {var\"#s832\"<:Number, V<:AbstractVector{var\"#s832\"}}) in LinearAlgebra at C:\\Users\\91863\\AppData\\Local\\Programs\\Julia-1.6.1\\share\\julia\\stdlib\\v1.6\\LinearAlgebra\\src\\special.jl:250\n",
       "[21] +(A::LinearAlgebra.UniformScaling, B::LinearAlgebra.Bidiagonal{var\"#s832\", V} where {var\"#s832\"<:Number, V<:AbstractVector{var\"#s832\"}}) in LinearAlgebra at C:\\Users\\91863\\AppData\\Local\\Programs\\Julia-1.6.1\\share\\julia\\stdlib\\v1.6\\LinearAlgebra\\src\\special.jl:255\n",
       "[22] +(A::LinearAlgebra.UniformScaling, B::LinearAlgebra.Diagonal{var\"#s832\", V} where {var\"#s832\"<:Number, V<:AbstractVector{var\"#s832\"}}) in LinearAlgebra at C:\\Users\\91863\\AppData\\Local\\Programs\\Julia-1.6.1\\share\\julia\\stdlib\\v1.6\\LinearAlgebra\\src\\special.jl:260\n",
       "[23] +(a::LinearAlgebra.UniformScaling, b::PDMats.AbstractPDMat) in PDMats at C:\\Users\\91863\\.julia\\packages\\PDMats\\vgpB7\\src\\addition.jl:43\n",
       "[24] +(J::LinearAlgebra.UniformScaling, A::AbstractMatrix{T} where T) in LinearAlgebra at C:\\Users\\91863\\AppData\\Local\\Programs\\Julia-1.6.1\\share\\julia\\stdlib\\v1.6\\LinearAlgebra\\src\\uniformscaling.jl:154\n",
       "[25] +(A::SparseArrays.AbstractSparseMatrixCSC, B::SparseArrays.AbstractSparseMatrixCSC) in SparseArrays at C:\\Users\\91863\\AppData\\Local\\Programs\\Julia-1.6.1\\share\\julia\\stdlib\\v1.6\\SparseArrays\\src\\sparsematrix.jl:1741\n",
       "[26] +(x::SparseArrays.AbstractSparseVector{Tv, Ti} where {Tv, Ti}, y::SparseArrays.AbstractSparseVector{Tv, Ti} where {Tv, Ti}) in SparseArrays at C:\\Users\\91863\\AppData\\Local\\Programs\\Julia-1.6.1\\share\\julia\\stdlib\\v1.6\\SparseArrays\\src\\sparsevector.jl:1345\n",
       "[27] +(A::SparseArrays.AbstractSparseMatrixCSC, B::Array) in SparseArrays at C:\\Users\\91863\\AppData\\Local\\Programs\\Julia-1.6.1\\share\\julia\\stdlib\\v1.6\\SparseArrays\\src\\sparsematrix.jl:1744\n",
       "[28] +(A::SparseArrays.AbstractSparseMatrixCSC, J::LinearAlgebra.UniformScaling) in SparseArrays at C:\\Users\\91863\\AppData\\Local\\Programs\\Julia-1.6.1\\share\\julia\\stdlib\\v1.6\\SparseArrays\\src\\sparsematrix.jl:3797\n",
       "[29] +(A::LinearAlgebra.UnitLowerTriangular, B::LinearAlgebra.LowerTriangular) in LinearAlgebra at C:\\Users\\91863\\AppData\\Local\\Programs\\Julia-1.6.1\\share\\julia\\stdlib\\v1.6\\LinearAlgebra\\src\\triangular.jl:653\n",
       "[30] +(A::LinearAlgebra.UnitLowerTriangular, B::LinearAlgebra.UnitLowerTriangular) in LinearAlgebra at C:\\Users\\91863\\AppData\\Local\\Programs\\Julia-1.6.1\\share\\julia\\stdlib\\v1.6\\LinearAlgebra\\src\\triangular.jl:655\n",
       "[31] +(UL::LinearAlgebra.UnitLowerTriangular, J::LinearAlgebra.UniformScaling) in LinearAlgebra at C:\\Users\\91863\\AppData\\Local\\Programs\\Julia-1.6.1\\share\\julia\\stdlib\\v1.6\\LinearAlgebra\\src\\uniformscaling.jl:182\n",
       "[32] +(A::LinearAlgebra.UnitLowerTriangular, B::LinearAlgebra.Bidiagonal) in LinearAlgebra at C:\\Users\\91863\\AppData\\Local\\Programs\\Julia-1.6.1\\share\\julia\\stdlib\\v1.6\\LinearAlgebra\\src\\special.jl:86\n",
       "[33] +(F::LinearAlgebra.Hessenberg, J::LinearAlgebra.UniformScaling) in LinearAlgebra at C:\\Users\\91863\\AppData\\Local\\Programs\\Julia-1.6.1\\share\\julia\\stdlib\\v1.6\\LinearAlgebra\\src\\hessenberg.jl:559\n",
       "[34] +(a::FillArrays.Fill{T, 1, Axes} where Axes, b::UnitRange) where T in FillArrays at C:\\Users\\91863\\.julia\\packages\\FillArrays\\VLeUk\\src\\FillArrays.jl:205\n",
       "[35] +(a::FillArrays.Fill{T, 1, Axes} where Axes, b::AbstractRange) where T in FillArrays at C:\\Users\\91863\\.julia\\packages\\FillArrays\\VLeUk\\src\\FillArrays.jl:200\n",
       "[36] +(r::AbstractRange{var\"#s832\"} where var\"#s832\"<:Dates.TimeType, x::Dates.Period) in Dates at C:\\Users\\91863\\AppData\\Local\\Programs\\Julia-1.6.1\\share\\julia\\stdlib\\v1.6\\Dates\\src\\ranges.jl:63\n",
       "[37] +(a::AbstractRange, b::FillArrays.Zeros) in FillArrays at C:\\Users\\91863\\.julia\\packages\\FillArrays\\VLeUk\\src\\fillalgebra.jl:196\n",
       "[38] +(a::AbstractRange, b::FillArrays.AbstractFill) in FillArrays at C:\\Users\\91863\\.julia\\packages\\FillArrays\\VLeUk\\src\\FillArrays.jl:210\n",
       "[39] +(r1::OrdinalRange, r2::OrdinalRange) in Base at range.jl:1101\n",
       "[40] +(y::Dates.TimeType, x::StridedArray{var\"#s832\", N} where {var\"#s832\"<:Union{Dates.CompoundPeriod, Dates.Period}, N}) in Dates at C:\\Users\\91863\\AppData\\Local\\Programs\\Julia-1.6.1\\share\\julia\\stdlib\\v1.6\\Dates\\src\\deprecated.jl:18\n",
       "[41] +(z::Complex, w::Complex) in Base at complex.jl:275\n",
       "[42] +(p::SpecialFunctions.SimplePoly{S}, q::SpecialFunctions.SimplePoly{T}) where {S, T} in SpecialFunctions at C:\\Users\\91863\\.julia\\packages\\SpecialFunctions\\f769j\\src\\expint.jl:11\n",
       "[43] +(d::MvNormal, c::AbstractVector{T} where T) in Distributions at C:\\Users\\91863\\.julia\\packages\\Distributions\\fXTVC\\src\\multivariate\\mvnormal.jl:271\n",
       "[44] +(d::UnivariateDistribution{S} where S<:ValueSupport, x::Real) in Distributions at C:\\Users\\91863\\.julia\\packages\\Distributions\\fXTVC\\src\\univariate\\locationscale.jl:124\n",
       "[45] +(a::PDMats.PDiagMat, b::PDMats.PDSparseMat) in PDMats at C:\\Users\\91863\\.julia\\packages\\PDMats\\vgpB7\\src\\addition.jl:22\n",
       "[46] +(a::PDMats.PDiagMat, b::PDMats.ScalMat) in PDMats at C:\\Users\\91863\\.julia\\packages\\PDMats\\vgpB7\\src\\addition.jl:20\n",
       "[47] +(a::PDMats.PDiagMat, b::PDMats.PDiagMat) in PDMats at C:\\Users\\91863\\.julia\\packages\\PDMats\\vgpB7\\src\\addition.jl:19\n",
       "[48] +(a::PDMats.PDiagMat, b::PDMats.PDMat) in PDMats at C:\\Users\\91863\\.julia\\packages\\PDMats\\vgpB7\\src\\addition.jl:18\n",
       "[49] +(a::PDMats.PDiagMat, b::PDMats.AbstractPDMat) in PDMats at C:\\Users\\91863\\.julia\\packages\\PDMats\\vgpB7\\src\\addition.jl:5\n",
       "[50] +(A::LinearAlgebra.Hermitian, B::LinearAlgebra.Hermitian) in LinearAlgebra at C:\\Users\\91863\\AppData\\Local\\Programs\\Julia-1.6.1\\share\\julia\\stdlib\\v1.6\\LinearAlgebra\\src\\symmetric.jl:469\n",
       "[51] +(H::LinearAlgebra.Hermitian, D::LinearAlgebra.Diagonal{var\"#s832\", V} where {var\"#s832\"<:Real, V<:AbstractVector{var\"#s832\"}}) in LinearAlgebra at C:\\Users\\91863\\AppData\\Local\\Programs\\Julia-1.6.1\\share\\julia\\stdlib\\v1.6\\LinearAlgebra\\src\\diagonal.jl:169\n",
       "[52] +(A::LinearAlgebra.Hermitian, J::LinearAlgebra.UniformScaling{var\"#s832\"} where var\"#s832\"<:Complex) in LinearAlgebra at C:\\Users\\91863\\AppData\\Local\\Programs\\Julia-1.6.1\\share\\julia\\stdlib\\v1.6\\LinearAlgebra\\src\\uniformscaling.jl:196\n",
       "[53] +(A::LinearAlgebra.Hermitian{var\"#s830\", var\"#s829\"} where {var\"#s830\", var\"#s829\"<:(SparseArrays.AbstractSparseMatrix{Tv, Ti} where {Tv, Ti})}, B::SparseArrays.AbstractSparseMatrix{Tv, Ti} where {Tv, Ti}) in SparseArrays at C:\\Users\\91863\\AppData\\Local\\Programs\\Julia-1.6.1\\share\\julia\\stdlib\\v1.6\\SparseArrays\\src\\linalg.jl:15\n",
       "[54] +(A::LinearAlgebra.Hermitian, B::SparseArrays.AbstractSparseMatrix{Tv, Ti} where {Tv, Ti}) in SparseArrays at C:\\Users\\91863\\AppData\\Local\\Programs\\Julia-1.6.1\\share\\julia\\stdlib\\v1.6\\SparseArrays\\src\\linalg.jl:18\n",
       "[55] +(A::LinearAlgebra.Hermitian{var\"#s820\", var\"#s819\"} where {var\"#s820\", var\"#s819\"<:(SparseArrays.AbstractSparseMatrix{Tv, Ti} where {Tv, Ti})}, B::LinearAlgebra.Symmetric{var\"#s818\", var\"#s817\"} where {var\"#s818\"<:Real, var\"#s817\"<:(SparseArrays.AbstractSparseMatrix{Tv, Ti} where {Tv, Ti})}) in SparseArrays at C:\\Users\\91863\\AppData\\Local\\Programs\\Julia-1.6.1\\share\\julia\\stdlib\\v1.6\\SparseArrays\\src\\linalg.jl:26\n",
       "[56] +(A::LinearAlgebra.Hermitian, B::LinearAlgebra.Symmetric{var\"#s832\", S} where {var\"#s832\"<:Real, S<:(AbstractMatrix{var\"#s832\"} where var\"#s832\"<:var\"#s832\")}) in LinearAlgebra at C:\\Users\\91863\\AppData\\Local\\Programs\\Julia-1.6.1\\share\\julia\\stdlib\\v1.6\\LinearAlgebra\\src\\symmetric.jl:483\n",
       "[57] +(A::LinearAlgebra.Hermitian{var\"#s828\", var\"#s827\"} where {var\"#s828\", var\"#s827\"<:(SparseArrays.AbstractSparseMatrix{Tv, Ti} where {Tv, Ti})}, B::LinearAlgebra.Symmetric{var\"#s826\", var\"#s825\"} where {var\"#s826\", var\"#s825\"<:(SparseArrays.AbstractSparseMatrix{Tv, Ti} where {Tv, Ti})}) in SparseArrays at C:\\Users\\91863\\AppData\\Local\\Programs\\Julia-1.6.1\\share\\julia\\stdlib\\v1.6\\SparseArrays\\src\\linalg.jl:24\n",
       "[58] +(A::LinearAlgebra.Tridiagonal, B::LinearAlgebra.Tridiagonal) in LinearAlgebra at C:\\Users\\91863\\AppData\\Local\\Programs\\Julia-1.6.1\\share\\julia\\stdlib\\v1.6\\LinearAlgebra\\src\\tridiag.jl:733\n",
       "[59] +(A::LinearAlgebra.Tridiagonal, B::LinearAlgebra.SymTridiagonal) in LinearAlgebra at C:\\Users\\91863\\AppData\\Local\\Programs\\Julia-1.6.1\\share\\julia\\stdlib\\v1.6\\LinearAlgebra\\src\\special.jl:157\n",
       "[60] +(A::LinearAlgebra.Tridiagonal, B::LinearAlgebra.Diagonal) in LinearAlgebra at C:\\Users\\91863\\AppData\\Local\\Programs\\Julia-1.6.1\\share\\julia\\stdlib\\v1.6\\LinearAlgebra\\src\\special.jl:173\n",
       "[61] +(A::LinearAlgebra.Tridiagonal, B::LinearAlgebra.Bidiagonal) in LinearAlgebra at C:\\Users\\91863\\AppData\\Local\\Programs\\Julia-1.6.1\\share\\julia\\stdlib\\v1.6\\LinearAlgebra\\src\\special.jl:193\n",
       "[62] +(A::LinearAlgebra.Tridiagonal{var\"#s832\", V} where {var\"#s832\"<:Number, V<:AbstractVector{var\"#s832\"}}, B::LinearAlgebra.UniformScaling) in LinearAlgebra at C:\\Users\\91863\\AppData\\Local\\Programs\\Julia-1.6.1\\share\\julia\\stdlib\\v1.6\\LinearAlgebra\\src\\special.jl:226\n",
       "[63] +(y::AbstractFloat, x::Bool) in Base at bool.jl:102\n",
       "[64] +(A::LinearAlgebra.SymTridiagonal, B::LinearAlgebra.SymTridiagonal) in LinearAlgebra at C:\\Users\\91863\\AppData\\Local\\Programs\\Julia-1.6.1\\share\\julia\\stdlib\\v1.6\\LinearAlgebra\\src\\tridiag.jl:205\n",
       "[65] +(A::LinearAlgebra.SymTridiagonal, B::LinearAlgebra.Diagonal) in LinearAlgebra at C:\\Users\\91863\\AppData\\Local\\Programs\\Julia-1.6.1\\share\\julia\\stdlib\\v1.6\\LinearAlgebra\\src\\special.jl:145\n",
       "[66] +(A::LinearAlgebra.SymTridiagonal, B::LinearAlgebra.Tridiagonal) in LinearAlgebra at C:\\Users\\91863\\AppData\\Local\\Programs\\Julia-1.6.1\\share\\julia\\stdlib\\v1.6\\LinearAlgebra\\src\\special.jl:159\n",
       "[67] +(A::LinearAlgebra.SymTridiagonal, B::LinearAlgebra.Bidiagonal) in LinearAlgebra at C:\\Users\\91863\\AppData\\Local\\Programs\\Julia-1.6.1\\share\\julia\\stdlib\\v1.6\\LinearAlgebra\\src\\special.jl:213\n",
       "[68] +(A::LinearAlgebra.SymTridiagonal{var\"#s832\", V} where {var\"#s832\"<:Number, V<:AbstractVector{var\"#s832\"}}, B::LinearAlgebra.UniformScaling) in LinearAlgebra at C:\\Users\\91863\\AppData\\Local\\Programs\\Julia-1.6.1\\share\\julia\\stdlib\\v1.6\\LinearAlgebra\\src\\special.jl:231\n",
       "[69] +(index1::CartesianIndex{N}, index2::CartesianIndex{N}) where N in Base.IteratorsMD at multidimensional.jl:114\n",
       "[70] +(A::Array, Bs::Array...) in Base at arraymath.jl:43\n",
       "[71] +(X::StridedArray{var\"#s832\", N} where {var\"#s832\"<:Union{Dates.CompoundPeriod, Dates.Period}, N}, Y::StridedArray{var\"#s831\", N} where {var\"#s831\"<:Union{Dates.CompoundPeriod, Dates.Period}, N}) in Dates at C:\\Users\\91863\\AppData\\Local\\Programs\\Julia-1.6.1\\share\\julia\\stdlib\\v1.6\\Dates\\src\\deprecated.jl:62\n",
       "[72] +(A::Array, B::SparseArrays.AbstractSparseMatrixCSC) in SparseArrays at C:\\Users\\91863\\AppData\\Local\\Programs\\Julia-1.6.1\\share\\julia\\stdlib\\v1.6\\SparseArrays\\src\\sparsematrix.jl:1745\n",
       "[73] +(a::Array{T, N}, b::FillArrays.Zeros{V, N, Axes} where Axes) where {T, V, N} in FillArrays at C:\\Users\\91863\\.julia\\packages\\FillArrays\\VLeUk\\src\\fillalgebra.jl:184\n",
       "[74] +(a::Matrix{T} where T, b::PDMats.AbstractPDMat) in PDMats at C:\\Users\\91863\\.julia\\packages\\PDMats\\vgpB7\\src\\generics.jl:22\n",
       "[75] +(x::StridedArray{var\"#s832\", N} where {var\"#s832\"<:Union{Dates.CompoundPeriod, Dates.Period}, N}) in Dates at C:\\Users\\91863\\AppData\\Local\\Programs\\Julia-1.6.1\\share\\julia\\stdlib\\v1.6\\Dates\\src\\deprecated.jl:55\n",
       "[76] +(x::StridedArray{var\"#s832\", N} where {var\"#s832\"<:Union{Dates.CompoundPeriod, Dates.Period}, N}, y::Dates.TimeType) in Dates at C:\\Users\\91863\\AppData\\Local\\Programs\\Julia-1.6.1\\share\\julia\\stdlib\\v1.6\\Dates\\src\\deprecated.jl:10\n",
       "[77] +(r1::LinRange{T}, r2::LinRange{T}) where T in Base at range.jl:1108\n",
       "[78] +(x::Rational, y::Integer) in Base at rational.jl:288\n",
       "[79] +(r1::StepRangeLen{T, R, S} where S, r2::StepRangeLen{T, R, S} where S) where {R<:Base.TwicePrecision, T} in Base at twiceprecision.jl:574\n",
       "[80] +(r1::StepRangeLen{T, S, S1} where S1, r2::StepRangeLen{T, S, S1} where S1) where {T, S} in Base at range.jl:1124\n",
       "[81] +(r1::Union{LinRange, OrdinalRange, StepRangeLen}, r2::Union{LinRange, OrdinalRange, StepRangeLen}) in Base at range.jl:1117\n",
       "[82] +(a::PDMats.PDSparseMat, b::PDMats.PDSparseMat) in PDMats at C:\\Users\\91863\\.julia\\packages\\PDMats\\vgpB7\\src\\addition.jl:36\n",
       "[83] +(a::PDMats.PDSparseMat, b::PDMats.ScalMat) in PDMats at C:\\Users\\91863\\.julia\\packages\\PDMats\\vgpB7\\src\\addition.jl:35\n",
       "[84] +(a::PDMats.PDSparseMat, b::PDMats.PDiagMat) in PDMats at C:\\Users\\91863\\.julia\\packages\\PDMats\\vgpB7\\src\\addition.jl:34\n",
       "[85] +(a::PDMats.PDSparseMat, b::PDMats.PDMat) in PDMats at C:\\Users\\91863\\.julia\\packages\\PDMats\\vgpB7\\src\\addition.jl:33\n",
       "[86] +(a::PDMats.PDSparseMat, b::PDMats.AbstractPDMat) in PDMats at C:\\Users\\91863\\.julia\\packages\\PDMats\\vgpB7\\src\\addition.jl:8\n",
       "[87] +(a::FillArrays.Zeros{T, 1, Axes} where Axes, b::UnitRange) where T in FillArrays at C:\\Users\\91863\\.julia\\packages\\FillArrays\\VLeUk\\src\\fillalgebra.jl:203\n",
       "[88] +(a::FillArrays.Zeros{T, 1, Axes} where Axes, b::AbstractRange) where T in FillArrays at C:\\Users\\91863\\.julia\\packages\\FillArrays\\VLeUk\\src\\fillalgebra.jl:198\n",
       "[89] +(a::FillArrays.Zeros) in FillArrays at C:\\Users\\91863\\.julia\\packages\\FillArrays\\VLeUk\\src\\fillalgebra.jl:159\n",
       "[90] +(a::FillArrays.Zeros{T, N, Axes} where {N, Axes}, b::FillArrays.Zeros{V, N, Axes} where {N, Axes}) where {T, V} in FillArrays at C:\\Users\\91863\\.julia\\packages\\FillArrays\\VLeUk\\src\\fillalgebra.jl:163\n",
       "[91] +(a::FillArrays.Zeros, b::FillArrays.AbstractFill) in FillArrays at C:\\Users\\91863\\.julia\\packages\\FillArrays\\VLeUk\\src\\fillalgebra.jl:175\n",
       "[92] +(a::FillArrays.Zeros{T, N, Axes} where Axes, b::AbstractArray{V, N}) where {T, V, N} in FillArrays at C:\\Users\\91863\\.julia\\packages\\FillArrays\\VLeUk\\src\\fillalgebra.jl:180\n",
       "[93] +(A::LinearAlgebra.UnitUpperTriangular, B::LinearAlgebra.UpperTriangular) in LinearAlgebra at C:\\Users\\91863\\AppData\\Local\\Programs\\Julia-1.6.1\\share\\julia\\stdlib\\v1.6\\LinearAlgebra\\src\\triangular.jl:652\n",
       "[94] +(A::LinearAlgebra.UnitUpperTriangular, B::LinearAlgebra.UnitUpperTriangular) in LinearAlgebra at C:\\Users\\91863\\AppData\\Local\\Programs\\Julia-1.6.1\\share\\julia\\stdlib\\v1.6\\LinearAlgebra\\src\\triangular.jl:654\n",
       "[95] +(UL::LinearAlgebra.UnitUpperTriangular, J::LinearAlgebra.UniformScaling) in LinearAlgebra at C:\\Users\\91863\\AppData\\Local\\Programs\\Julia-1.6.1\\share\\julia\\stdlib\\v1.6\\LinearAlgebra\\src\\uniformscaling.jl:182\n",
       "[96] +(A::LinearAlgebra.UnitUpperTriangular, B::LinearAlgebra.Bidiagonal) in LinearAlgebra at C:\\Users\\91863\\AppData\\Local\\Programs\\Julia-1.6.1\\share\\julia\\stdlib\\v1.6\\LinearAlgebra\\src\\special.jl:86\n",
       "[97] +(x::Dates.Instant) in Dates at C:\\Users\\91863\\AppData\\Local\\Programs\\Julia-1.6.1\\share\\julia\\stdlib\\v1.6\\Dates\\src\\arithmetic.jl:4\n",
       "[98] +(a::ChainRulesCore.AbstractThunk, b::ChainRulesCore.Tangent) in ChainRulesCore at C:\\Users\\91863\\.julia\\packages\\ChainRulesCore\\BYuIz\\src\\differential_arithmetic.jl:138\n",
       "[99] +(a::ChainRulesCore.AbstractThunk, b::ChainRulesCore.AbstractThunk) in ChainRulesCore at C:\\Users\\91863\\.julia\\packages\\ChainRulesCore\\BYuIz\\src\\differential_arithmetic.jl:135\n",
       "[100] +(a::ChainRulesCore.AbstractThunk, ::ChainRulesCore.ZeroTangent) in ChainRulesCore at C:\\Users\\91863\\.julia\\packages\\ChainRulesCore\\BYuIz\\src\\differential_arithmetic.jl:116\n",
       "[101] +(a::ChainRulesCore.AbstractThunk, ::ChainRulesCore.NoTangent) in ChainRulesCore at C:\\Users\\91863\\.julia\\packages\\ChainRulesCore\\BYuIz\\src\\differential_arithmetic.jl:76\n",
       "[102] +(::ChainRulesCore.AbstractThunk, x::ChainRulesCore.NotImplemented) in ChainRulesCore at C:\\Users\\91863\\.julia\\packages\\ChainRulesCore\\BYuIz\\src\\differential_arithmetic.jl:26\n",
       "[103] +(a::ChainRulesCore.AbstractThunk, b) in ChainRulesCore at C:\\Users\\91863\\.julia\\packages\\ChainRulesCore\\BYuIz\\src\\differential_arithmetic.jl:138\n",
       "[104] +(x::Ptr, y::Integer) in Base at pointer.jl:159\n",
       "[105] +(a::PDMats.ScalMat, b::PDMats.PDSparseMat) in PDMats at C:\\Users\\91863\\.julia\\packages\\PDMats\\vgpB7\\src\\addition.jl:29\n",
       "[106] +(a::PDMats.ScalMat, b::PDMats.ScalMat) in PDMats at C:\\Users\\91863\\.julia\\packages\\PDMats\\vgpB7\\src\\addition.jl:27\n",
       "[107] +(a::PDMats.ScalMat, b::PDMats.PDiagMat) in PDMats at C:\\Users\\91863\\.julia\\packages\\PDMats\\vgpB7\\src\\addition.jl:26\n",
       "[108] +(a::PDMats.ScalMat, b::PDMats.PDMat) in PDMats at C:\\Users\\91863\\.julia\\packages\\PDMats\\vgpB7\\src\\addition.jl:25\n",
       "[109] +(a::PDMats.ScalMat, b::PDMats.AbstractPDMat) in PDMats at C:\\Users\\91863\\.julia\\packages\\PDMats\\vgpB7\\src\\addition.jl:6\n",
       "[110] +(A::LinearAlgebra.LowerTriangular, B::LinearAlgebra.LowerTriangular) in LinearAlgebra at C:\\Users\\91863\\AppData\\Local\\Programs\\Julia-1.6.1\\share\\julia\\stdlib\\v1.6\\LinearAlgebra\\src\\triangular.jl:649\n",
       "[111] +(A::LinearAlgebra.LowerTriangular, B::LinearAlgebra.UnitLowerTriangular) in LinearAlgebra at C:\\Users\\91863\\AppData\\Local\\Programs\\Julia-1.6.1\\share\\julia\\stdlib\\v1.6\\LinearAlgebra\\src\\triangular.jl:651\n",
       "[112] +(A::LinearAlgebra.LowerTriangular, B::LinearAlgebra.Bidiagonal) in LinearAlgebra at C:\\Users\\91863\\AppData\\Local\\Programs\\Julia-1.6.1\\share\\julia\\stdlib\\v1.6\\LinearAlgebra\\src\\special.jl:86\n",
       "[113] +(a::PDMats.PDMat, b::PDMats.PDSparseMat) in PDMats at C:\\Users\\91863\\.julia\\packages\\PDMats\\vgpB7\\src\\addition.jl:15\n",
       "[114] +(a::PDMats.PDMat, b::PDMats.ScalMat) in PDMats at C:\\Users\\91863\\.julia\\packages\\PDMats\\vgpB7\\src\\addition.jl:13\n",
       "[115] +(a::PDMats.PDMat, b::PDMats.PDiagMat) in PDMats at C:\\Users\\91863\\.julia\\packages\\PDMats\\vgpB7\\src\\addition.jl:12\n",
       "[116] +(a::PDMats.PDMat, b::PDMats.PDMat) in PDMats at C:\\Users\\91863\\.julia\\packages\\PDMats\\vgpB7\\src\\addition.jl:11\n",
       "[117] +(a::PDMats.PDMat, b::PDMats.AbstractPDMat) in PDMats at C:\\Users\\91863\\.julia\\packages\\PDMats\\vgpB7\\src\\addition.jl:4\n",
       "[118] +(a::FillArrays.AbstractFill) in FillArrays at C:\\Users\\91863\\.julia\\packages\\FillArrays\\VLeUk\\src\\FillArrays.jl:190\n",
       "[119] +(a::FillArrays.AbstractFill{T, N, Axes} where {N, Axes}, b::FillArrays.Zeros{V, N, Axes} where {N, Axes}) where {T, V} in FillArrays at C:\\Users\\91863\\.julia\\packages\\FillArrays\\VLeUk\\src\\fillalgebra.jl:171\n",
       "[120] +(a::FillArrays.AbstractFill{T, N, Axes} where Axes, b::FillArrays.AbstractFill{V, N, Axes} where Axes) where {T, V, N} in FillArrays at C:\\Users\\91863\\.julia\\packages\\FillArrays\\VLeUk\\src\\FillArrays.jl:194\n",
       "[121] +(a::Dict, d::ChainRulesCore.Tangent{P, T} where T) where P in ChainRulesCore at C:\\Users\\91863\\.julia\\packages\\ChainRulesCore\\BYuIz\\src\\differential_arithmetic.jl:161\n",
       "[122] +(a::ChainRulesCore.Tangent{P, T} where T, b::ChainRulesCore.Tangent{P, T} where T) where P in ChainRulesCore at C:\\Users\\91863\\.julia\\packages\\ChainRulesCore\\BYuIz\\src\\differential_arithmetic.jl:145\n",
       "[123] +(a::ChainRulesCore.Tangent, b::ChainRulesCore.AbstractThunk) in ChainRulesCore at C:\\Users\\91863\\.julia\\packages\\ChainRulesCore\\BYuIz\\src\\differential_arithmetic.jl:139\n",
       "[124] +(a::ChainRulesCore.Tangent, ::ChainRulesCore.ZeroTangent) in ChainRulesCore at C:\\Users\\91863\\.julia\\packages\\ChainRulesCore\\BYuIz\\src\\differential_arithmetic.jl:116\n",
       "[125] +(a::ChainRulesCore.Tangent, ::ChainRulesCore.NoTangent) in ChainRulesCore at C:\\Users\\91863\\.julia\\packages\\ChainRulesCore\\BYuIz\\src\\differential_arithmetic.jl:76\n",
       "[126] +(::ChainRulesCore.Tangent, x::ChainRulesCore.NotImplemented) in ChainRulesCore at C:\\Users\\91863\\.julia\\packages\\ChainRulesCore\\BYuIz\\src\\differential_arithmetic.jl:26\n",
       "[127] +(a::ChainRulesCore.Tangent{P, T} where T, b::P) where P in ChainRulesCore at C:\\Users\\91863\\.julia\\packages\\ChainRulesCore\\BYuIz\\src\\differential_arithmetic.jl:162\n",
       "[128] +(A::LinearAlgebra.Bidiagonal, B::LinearAlgebra.Bidiagonal) in LinearAlgebra at C:\\Users\\91863\\AppData\\Local\\Programs\\Julia-1.6.1\\share\\julia\\stdlib\\v1.6\\LinearAlgebra\\src\\bidiag.jl:354\n",
       "[129] +(A::LinearAlgebra.Bidiagonal, B::LinearAlgebra.UpperTriangular) in LinearAlgebra at C:\\Users\\91863\\AppData\\Local\\Programs\\Julia-1.6.1\\share\\julia\\stdlib\\v1.6\\LinearAlgebra\\src\\special.jl:94\n",
       "[130] +(A::LinearAlgebra.Bidiagonal, B::LinearAlgebra.UnitUpperTriangular) in LinearAlgebra at C:\\Users\\91863\\AppData\\Local\\Programs\\Julia-1.6.1\\share\\julia\\stdlib\\v1.6\\LinearAlgebra\\src\\special.jl:94\n",
       "[131] +(A::LinearAlgebra.Bidiagonal, B::LinearAlgebra.LowerTriangular) in LinearAlgebra at C:\\Users\\91863\\AppData\\Local\\Programs\\Julia-1.6.1\\share\\julia\\stdlib\\v1.6\\LinearAlgebra\\src\\special.jl:94\n",
       "[132] +(A::LinearAlgebra.Bidiagonal, B::LinearAlgebra.UnitLowerTriangular) in LinearAlgebra at C:\\Users\\91863\\AppData\\Local\\Programs\\Julia-1.6.1\\share\\julia\\stdlib\\v1.6\\LinearAlgebra\\src\\special.jl:94\n",
       "[133] +(A::LinearAlgebra.Bidiagonal, B::LinearAlgebra.Diagonal) in LinearAlgebra at C:\\Users\\91863\\AppData\\Local\\Programs\\Julia-1.6.1\\share\\julia\\stdlib\\v1.6\\LinearAlgebra\\src\\special.jl:115\n",
       "[134] +(A::LinearAlgebra.Bidiagonal, B::LinearAlgebra.Tridiagonal) in LinearAlgebra at C:\\Users\\91863\\AppData\\Local\\Programs\\Julia-1.6.1\\share\\julia\\stdlib\\v1.6\\LinearAlgebra\\src\\special.jl:183\n",
       "[135] +(A::LinearAlgebra.Bidiagonal, B::LinearAlgebra.SymTridiagonal) in LinearAlgebra at C:\\Users\\91863\\AppData\\Local\\Programs\\Julia-1.6.1\\share\\julia\\stdlib\\v1.6\\LinearAlgebra\\src\\special.jl:203\n",
       "[136] +(A::LinearAlgebra.Bidiagonal{var\"#s832\", V} where {var\"#s832\"<:Number, V<:AbstractVector{var\"#s832\"}}, B::LinearAlgebra.UniformScaling) in LinearAlgebra at C:\\Users\\91863\\AppData\\Local\\Programs\\Julia-1.6.1\\share\\julia\\stdlib\\v1.6\\LinearAlgebra\\src\\special.jl:236\n",
       "[137] +(x::AbstractIrrational, y::AbstractIrrational) in Base at irrationals.jl:156\n",
       "[138] +(x::Base.TwicePrecision, y::Number) in Base at twiceprecision.jl:267\n",
       "[139] +(x::Base.TwicePrecision{T}, y::Base.TwicePrecision{T}) where T in Base at twiceprecision.jl:273\n",
       "[140] +(x::Base.TwicePrecision, y::Base.TwicePrecision) in Base at twiceprecision.jl:278\n",
       "[141] +(A::LinearAlgebra.Symmetric, B::LinearAlgebra.Symmetric) in LinearAlgebra at C:\\Users\\91863\\AppData\\Local\\Programs\\Julia-1.6.1\\share\\julia\\stdlib\\v1.6\\LinearAlgebra\\src\\symmetric.jl:469\n",
       "[142] +(S::LinearAlgebra.Symmetric, D::LinearAlgebra.Diagonal) in LinearAlgebra at C:\\Users\\91863\\AppData\\Local\\Programs\\Julia-1.6.1\\share\\julia\\stdlib\\v1.6\\LinearAlgebra\\src\\diagonal.jl:163\n",
       "[143] +(A::LinearAlgebra.Symmetric{var\"#s830\", var\"#s829\"} where {var\"#s830\", var\"#s829\"<:(SparseArrays.AbstractSparseMatrix{Tv, Ti} where {Tv, Ti})}, B::SparseArrays.AbstractSparseMatrix{Tv, Ti} where {Tv, Ti}) in SparseArrays at C:\\Users\\91863\\AppData\\Local\\Programs\\Julia-1.6.1\\share\\julia\\stdlib\\v1.6\\SparseArrays\\src\\linalg.jl:15\n",
       "[144] +(A::LinearAlgebra.Symmetric, B::SparseArrays.AbstractSparseMatrix{Tv, Ti} where {Tv, Ti}) in SparseArrays at C:\\Users\\91863\\AppData\\Local\\Programs\\Julia-1.6.1\\share\\julia\\stdlib\\v1.6\\SparseArrays\\src\\linalg.jl:18\n",
       "[145] +(A::LinearAlgebra.Symmetric{var\"#s824\", var\"#s823\"} where {var\"#s824\"<:Real, var\"#s823\"<:(SparseArrays.AbstractSparseMatrix{Tv, Ti} where {Tv, Ti})}, B::LinearAlgebra.Hermitian{var\"#s822\", var\"#s821\"} where {var\"#s822\", var\"#s821\"<:(SparseArrays.AbstractSparseMatrix{Tv, Ti} where {Tv, Ti})}) in SparseArrays at C:\\Users\\91863\\AppData\\Local\\Programs\\Julia-1.6.1\\share\\julia\\stdlib\\v1.6\\SparseArrays\\src\\linalg.jl:25\n",
       "[146] +(A::LinearAlgebra.Symmetric{var\"#s831\", S} where {var\"#s831\"<:Real, S<:(AbstractMatrix{var\"#s832\"} where var\"#s832\"<:var\"#s831\")}, B::LinearAlgebra.Hermitian) in LinearAlgebra at C:\\Users\\91863\\AppData\\Local\\Programs\\Julia-1.6.1\\share\\julia\\stdlib\\v1.6\\LinearAlgebra\\src\\symmetric.jl:484\n",
       "[147] +(A::LinearAlgebra.Symmetric{var\"#s832\", var\"#s831\"} where {var\"#s832\", var\"#s831\"<:(SparseArrays.AbstractSparseMatrix{Tv, Ti} where {Tv, Ti})}, B::LinearAlgebra.Hermitian{var\"#s830\", var\"#s829\"} where {var\"#s830\", var\"#s829\"<:(SparseArrays.AbstractSparseMatrix{Tv, Ti} where {Tv, Ti})}) in SparseArrays at C:\\Users\\91863\\AppData\\Local\\Programs\\Julia-1.6.1\\share\\julia\\stdlib\\v1.6\\SparseArrays\\src\\linalg.jl:23\n",
       "[148] +(A::BitArray, B::BitArray) in Base at bitarray.jl:1127\n",
       "[149] +(A::LinearAlgebra.UpperTriangular, B::LinearAlgebra.UpperTriangular) in LinearAlgebra at C:\\Users\\91863\\AppData\\Local\\Programs\\Julia-1.6.1\\share\\julia\\stdlib\\v1.6\\LinearAlgebra\\src\\triangular.jl:648\n",
       "[150] +(A::LinearAlgebra.UpperTriangular, B::LinearAlgebra.UnitUpperTriangular) in LinearAlgebra at C:\\Users\\91863\\AppData\\Local\\Programs\\Julia-1.6.1\\share\\julia\\stdlib\\v1.6\\LinearAlgebra\\src\\triangular.jl:650\n",
       "[151] +(A::LinearAlgebra.AbstractTriangular, B::LinearAlgebra.AbstractTriangular) in LinearAlgebra at C:\\Users\\91863\\AppData\\Local\\Programs\\Julia-1.6.1\\share\\julia\\stdlib\\v1.6\\LinearAlgebra\\src\\triangular.jl:656\n",
       "[152] +(A::LinearAlgebra.UpperTriangular, B::LinearAlgebra.Bidiagonal) in LinearAlgebra at C:\\Users\\91863\\AppData\\Local\\Programs\\Julia-1.6.1\\share\\julia\\stdlib\\v1.6\\LinearAlgebra\\src\\special.jl:86\n",
       "[153] +(Da::LinearAlgebra.Diagonal, Db::LinearAlgebra.Diagonal) in LinearAlgebra at C:\\Users\\91863\\AppData\\Local\\Programs\\Julia-1.6.1\\share\\julia\\stdlib\\v1.6\\LinearAlgebra\\src\\diagonal.jl:156\n",
       "[154] +(D::LinearAlgebra.Diagonal, S::LinearAlgebra.Symmetric) in LinearAlgebra at C:\\Users\\91863\\AppData\\Local\\Programs\\Julia-1.6.1\\share\\julia\\stdlib\\v1.6\\LinearAlgebra\\src\\diagonal.jl:160\n",
       "[155] +(D::LinearAlgebra.Diagonal{var\"#s832\", V} where {var\"#s832\"<:Real, V<:AbstractVector{var\"#s832\"}}, H::LinearAlgebra.Hermitian) in LinearAlgebra at C:\\Users\\91863\\AppData\\Local\\Programs\\Julia-1.6.1\\share\\julia\\stdlib\\v1.6\\LinearAlgebra\\src\\diagonal.jl:166\n",
       "[156] +(A::LinearAlgebra.Diagonal, B::LinearAlgebra.Bidiagonal) in LinearAlgebra at C:\\Users\\91863\\AppData\\Local\\Programs\\Julia-1.6.1\\share\\julia\\stdlib\\v1.6\\LinearAlgebra\\src\\special.jl:125\n",
       "[157] +(A::LinearAlgebra.Diagonal, B::LinearAlgebra.SymTridiagonal) in LinearAlgebra at C:\\Users\\91863\\AppData\\Local\\Programs\\Julia-1.6.1\\share\\julia\\stdlib\\v1.6\\LinearAlgebra\\src\\special.jl:135\n",
       "[158] +(A::LinearAlgebra.Diagonal, B::LinearAlgebra.Tridiagonal) in LinearAlgebra at C:\\Users\\91863\\AppData\\Local\\Programs\\Julia-1.6.1\\share\\julia\\stdlib\\v1.6\\LinearAlgebra\\src\\special.jl:163\n",
       "[159] +(A::LinearAlgebra.Diagonal{var\"#s832\", V} where {var\"#s832\"<:Number, V<:AbstractVector{var\"#s832\"}}, B::LinearAlgebra.UniformScaling) in LinearAlgebra at C:\\Users\\91863\\AppData\\Local\\Programs\\Julia-1.6.1\\share\\julia\\stdlib\\v1.6\\LinearAlgebra\\src\\special.jl:241\n",
       "[160] +(x::AbstractArray{var\"#s832\", N} where {var\"#s832\"<:Dates.TimeType, N}, y::Union{Dates.CompoundPeriod, Dates.Period}) in Dates at C:\\Users\\91863\\AppData\\Local\\Programs\\Julia-1.6.1\\share\\julia\\stdlib\\v1.6\\Dates\\src\\deprecated.jl:6\n",
       "[161] +(c::AbstractVector{T} where T, d::MvNormal) in Distributions at C:\\Users\\91863\\.julia\\packages\\Distributions\\fXTVC\\src\\multivariate\\mvnormal.jl:273\n",
       "[162] +(a::PDMats.AbstractPDMat, b::LinearAlgebra.UniformScaling) in PDMats at C:\\Users\\91863\\.julia\\packages\\PDMats\\vgpB7\\src\\addition.jl:42\n",
       "[163] +(a::PDMats.AbstractPDMat, b::Matrix{T} where T) in PDMats at C:\\Users\\91863\\.julia\\packages\\PDMats\\vgpB7\\src\\generics.jl:23\n",
       "[164] +(A::AbstractArray, B::AbstractArray) in Base at arraymath.jl:37\n",
       "[165] +(x::P, y::P) where P<:Dates.Period in Dates at C:\\Users\\91863\\AppData\\Local\\Programs\\Julia-1.6.1\\share\\julia\\stdlib\\v1.6\\Dates\\src\\periods.jl:79\n",
       "[166] +(x::Dates.Period, y::Dates.Period) in Dates at C:\\Users\\91863\\AppData\\Local\\Programs\\Julia-1.6.1\\share\\julia\\stdlib\\v1.6\\Dates\\src\\periods.jl:351\n",
       "[167] +(y::Dates.Period, x::Dates.CompoundPeriod) in Dates at C:\\Users\\91863\\AppData\\Local\\Programs\\Julia-1.6.1\\share\\julia\\stdlib\\v1.6\\Dates\\src\\periods.jl:353\n",
       "[168] +(y::Dates.Period, x::Dates.TimeType) in Dates at C:\\Users\\91863\\AppData\\Local\\Programs\\Julia-1.6.1\\share\\julia\\stdlib\\v1.6\\Dates\\src\\arithmetic.jl:85\n",
       "[169] +(x::Dates.Period, r::AbstractRange{var\"#s832\"} where var\"#s832\"<:Dates.TimeType) in Dates at C:\\Users\\91863\\AppData\\Local\\Programs\\Julia-1.6.1\\share\\julia\\stdlib\\v1.6\\Dates\\src\\ranges.jl:62\n",
       "[170] +(y::Union{Dates.CompoundPeriod, Dates.Period}, x::AbstractArray{var\"#s832\", N} where {var\"#s832\"<:Dates.TimeType, N}) in Dates at C:\\Users\\91863\\AppData\\Local\\Programs\\Julia-1.6.1\\share\\julia\\stdlib\\v1.6\\Dates\\src\\deprecated.jl:14\n",
       "[171] +(x::T, y::Integer) where T<:AbstractChar in Base at char.jl:223\n",
       "[172] +(x::Dates.AbstractTime, y::Missing) in Dates at C:\\Users\\91863\\AppData\\Local\\Programs\\Julia-1.6.1\\share\\julia\\stdlib\\v1.6\\Dates\\src\\arithmetic.jl:88\n",
       "[173] +(t::Dates.Time, dt::Dates.Date) in Dates at C:\\Users\\91863\\AppData\\Local\\Programs\\Julia-1.6.1\\share\\julia\\stdlib\\v1.6\\Dates\\src\\arithmetic.jl:20\n",
       "[174] +(x::Dates.Time, y::Dates.TimePeriod) in Dates at C:\\Users\\91863\\AppData\\Local\\Programs\\Julia-1.6.1\\share\\julia\\stdlib\\v1.6\\Dates\\src\\arithmetic.jl:83\n",
       "[175] +(dt::Dates.DateTime, y::Dates.Year) in Dates at C:\\Users\\91863\\AppData\\Local\\Programs\\Julia-1.6.1\\share\\julia\\stdlib\\v1.6\\Dates\\src\\arithmetic.jl:23\n",
       "[176] +(dt::Dates.DateTime, z::Dates.Month) in Dates at C:\\Users\\91863\\AppData\\Local\\Programs\\Julia-1.6.1\\share\\julia\\stdlib\\v1.6\\Dates\\src\\arithmetic.jl:47\n",
       "[177] +(x::Dates.DateTime, y::Dates.Quarter) in Dates at C:\\Users\\91863\\AppData\\Local\\Programs\\Julia-1.6.1\\share\\julia\\stdlib\\v1.6\\Dates\\src\\arithmetic.jl:75\n",
       "[178] +(x::Dates.DateTime, y::Dates.Period) in Dates at C:\\Users\\91863\\AppData\\Local\\Programs\\Julia-1.6.1\\share\\julia\\stdlib\\v1.6\\Dates\\src\\arithmetic.jl:81\n",
       "[179] +(dt::Dates.Date, t::Dates.Time) in Dates at C:\\Users\\91863\\AppData\\Local\\Programs\\Julia-1.6.1\\share\\julia\\stdlib\\v1.6\\Dates\\src\\arithmetic.jl:19\n",
       "[180] +(dt::Dates.Date, y::Dates.Year) in Dates at C:\\Users\\91863\\AppData\\Local\\Programs\\Julia-1.6.1\\share\\julia\\stdlib\\v1.6\\Dates\\src\\arithmetic.jl:27\n",
       "[181] +(dt::Dates.Date, z::Dates.Month) in Dates at C:\\Users\\91863\\AppData\\Local\\Programs\\Julia-1.6.1\\share\\julia\\stdlib\\v1.6\\Dates\\src\\arithmetic.jl:54\n",
       "[182] +(x::Dates.Date, y::Dates.Quarter) in Dates at C:\\Users\\91863\\AppData\\Local\\Programs\\Julia-1.6.1\\share\\julia\\stdlib\\v1.6\\Dates\\src\\arithmetic.jl:73\n",
       "[183] +(x::Dates.Date, y::Dates.Week) in Dates at C:\\Users\\91863\\AppData\\Local\\Programs\\Julia-1.6.1\\share\\julia\\stdlib\\v1.6\\Dates\\src\\arithmetic.jl:77\n",
       "[184] +(x::Dates.Date, y::Dates.Day) in Dates at C:\\Users\\91863\\AppData\\Local\\Programs\\Julia-1.6.1\\share\\julia\\stdlib\\v1.6\\Dates\\src\\arithmetic.jl:79\n",
       "[185] +(x::Dates.TimeType) in Dates at C:\\Users\\91863\\AppData\\Local\\Programs\\Julia-1.6.1\\share\\julia\\stdlib\\v1.6\\Dates\\src\\arithmetic.jl:8\n",
       "[186] +(a::Dates.TimeType, b::Dates.Period, c::Dates.Period) in Dates at C:\\Users\\91863\\AppData\\Local\\Programs\\Julia-1.6.1\\share\\julia\\stdlib\\v1.6\\Dates\\src\\periods.jl:373\n",
       "[187] +(a::Dates.TimeType, b::Dates.Period, c::Dates.Period, d::Dates.Period...) in Dates at C:\\Users\\91863\\AppData\\Local\\Programs\\Julia-1.6.1\\share\\julia\\stdlib\\v1.6\\Dates\\src\\periods.jl:374\n",
       "[188] +(x::Dates.TimeType, y::Dates.CompoundPeriod) in Dates at C:\\Users\\91863\\AppData\\Local\\Programs\\Julia-1.6.1\\share\\julia\\stdlib\\v1.6\\Dates\\src\\periods.jl:376\n",
       "[189] +(x::Rational{BigInt}, y::Rational{BigInt}) in Base.GMP.MPQ at gmp.jl:886\n",
       "[190] +(x::Rational) in Base at rational.jl:267\n",
       "[191] +(x::Rational, y::Rational) in Base at rational.jl:283\n",
       "[192] +(x::Float32, y::Float32) in Base at float.jl:325\n",
       "[193] +(a::Pkg.Resolve.VersionWeight, b::Pkg.Resolve.VersionWeight) in Pkg.Resolve at C:\\Users\\91863\\AppData\\Local\\Programs\\Julia-1.6.1\\share\\julia\\stdlib\\v1.6\\Pkg\\src\\Resolve\\versionweights.jl:22\n",
       "[194] +(x::BigFloat, y::BigFloat) in Base.MPFR at mpfr.jl:364\n",
       "[195] +(x::BigFloat, c::Union{UInt16, UInt32, UInt8}) in Base.MPFR at mpfr.jl:371\n",
       "[196] +(x::BigFloat, c::Union{Int16, Int32, Int8}) in Base.MPFR at mpfr.jl:379\n",
       "[197] +(x::BigFloat, c::Union{Float16, Float32, Float64}) in Base.MPFR at mpfr.jl:387\n",
       "[198] +(x::BigFloat, c::BigInt) in Base.MPFR at mpfr.jl:395\n",
       "[199] +(a::BigFloat, b::BigFloat, c::BigFloat) in Base.MPFR at mpfr.jl:536\n",
       "[200] +(a::BigFloat, b::BigFloat, c::BigFloat, d::BigFloat) in Base.MPFR at mpfr.jl:542\n",
       "[201] +(a::BigFloat, b::BigFloat, c::BigFloat, d::BigFloat, e::BigFloat) in Base.MPFR at mpfr.jl:549\n",
       "[202] +(::Missing) in Base at missing.jl:101\n",
       "[203] +(::Missing, ::Missing) in Base at missing.jl:115\n",
       "[204] +(::Missing, ::Number) in Base at missing.jl:116\n",
       "[205] +(x::Missing, y::Dates.AbstractTime) in Dates at C:\\Users\\91863\\AppData\\Local\\Programs\\Julia-1.6.1\\share\\julia\\stdlib\\v1.6\\Dates\\src\\arithmetic.jl:89\n",
       "[206] +(x::BigInt, y::BigInt) in Base.GMP at gmp.jl:479\n",
       "[207] +(a::BigInt, b::BigInt, c::BigInt) in Base.GMP at gmp.jl:519\n",
       "[208] +(a::BigInt, b::BigInt, c::BigInt, d::BigInt) in Base.GMP at gmp.jl:520\n",
       "[209] +(a::BigInt, b::BigInt, c::BigInt, d::BigInt, e::BigInt) in Base.GMP at gmp.jl:521\n",
       "[210] +(x::BigInt, c::Union{UInt16, UInt32, UInt8}) in Base.GMP at gmp.jl:527\n",
       "[211] +(x::BigInt, c::Union{Int16, Int32, Int8}) in Base.GMP at gmp.jl:533\n",
       "[212] +(c::BigInt, x::BigFloat) in Base.MPFR at mpfr.jl:400\n",
       "[213] +(::ChainRulesCore.NoTangent, ::ChainRulesCore.ZeroTangent) in ChainRulesCore at C:\\Users\\91863\\.julia\\packages\\ChainRulesCore\\BYuIz\\src\\differential_arithmetic.jl:89\n",
       "[214] +(::ChainRulesCore.NoTangent, b::ChainRulesCore.Tangent) in ChainRulesCore at C:\\Users\\91863\\.julia\\packages\\ChainRulesCore\\BYuIz\\src\\differential_arithmetic.jl:75\n",
       "[215] +(::ChainRulesCore.NoTangent, b::ChainRulesCore.AbstractThunk) in ChainRulesCore at C:\\Users\\91863\\.julia\\packages\\ChainRulesCore\\BYuIz\\src\\differential_arithmetic.jl:75\n",
       "[216] +(::ChainRulesCore.NoTangent, ::ChainRulesCore.NoTangent) in ChainRulesCore at C:\\Users\\91863\\.julia\\packages\\ChainRulesCore\\BYuIz\\src\\differential_arithmetic.jl:69\n",
       "[217] +(::ChainRulesCore.NoTangent, x::ChainRulesCore.NotImplemented) in ChainRulesCore at C:\\Users\\91863\\.julia\\packages\\ChainRulesCore\\BYuIz\\src\\differential_arithmetic.jl:26\n",
       "[218] +(::ChainRulesCore.NoTangent, b) in ChainRulesCore at C:\\Users\\91863\\.julia\\packages\\ChainRulesCore\\BYuIz\\src\\differential_arithmetic.jl:75\n",
       "[219] +(x::Dates.CompoundPeriod, y::Dates.Period) in Dates at C:\\Users\\91863\\AppData\\Local\\Programs\\Julia-1.6.1\\share\\julia\\stdlib\\v1.6\\Dates\\src\\periods.jl:352\n",
       "[220] +(x::Dates.CompoundPeriod, y::Dates.CompoundPeriod) in Dates at C:\\Users\\91863\\AppData\\Local\\Programs\\Julia-1.6.1\\share\\julia\\stdlib\\v1.6\\Dates\\src\\periods.jl:354\n",
       "[221] +(x::Dates.CompoundPeriod, y::Dates.TimeType) in Dates at C:\\Users\\91863\\AppData\\Local\\Programs\\Julia-1.6.1\\share\\julia\\stdlib\\v1.6\\Dates\\src\\periods.jl:382\n",
       "[222] +(a::Pkg.Resolve.FieldValue, b::Pkg.Resolve.FieldValue) in Pkg.Resolve at C:\\Users\\91863\\AppData\\Local\\Programs\\Julia-1.6.1\\share\\julia\\stdlib\\v1.6\\Pkg\\src\\Resolve\\fieldvalues.jl:43\n",
       "[223] +(level::Base.CoreLogging.LogLevel, inc::Integer) in Base.CoreLogging at logging.jl:131\n",
       "[224] +(x::ChainRulesCore.NotImplemented) in ChainRulesCore at C:\\Users\\91863\\.julia\\packages\\ChainRulesCore\\BYuIz\\src\\differential_arithmetic.jl:52\n",
       "[225] +(x::ChainRulesCore.NotImplemented, ::ChainRulesCore.Tangent) in ChainRulesCore at C:\\Users\\91863\\.julia\\packages\\ChainRulesCore\\BYuIz\\src\\differential_arithmetic.jl:25\n",
       "[226] +(x::ChainRulesCore.NotImplemented, ::ChainRulesCore.AbstractThunk) in ChainRulesCore at C:\\Users\\91863\\.julia\\packages\\ChainRulesCore\\BYuIz\\src\\differential_arithmetic.jl:25\n",
       "[227] +(x::ChainRulesCore.NotImplemented, ::ChainRulesCore.NoTangent) in ChainRulesCore at C:\\Users\\91863\\.julia\\packages\\ChainRulesCore\\BYuIz\\src\\differential_arithmetic.jl:25\n",
       "[228] +(x::ChainRulesCore.NotImplemented, ::ChainRulesCore.NotImplemented) in ChainRulesCore at C:\\Users\\91863\\.julia\\packages\\ChainRulesCore\\BYuIz\\src\\differential_arithmetic.jl:21\n",
       "[229] +(x::ChainRulesCore.NotImplemented, ::ChainRulesCore.ZeroTangent) in ChainRulesCore at C:\\Users\\91863\\.julia\\packages\\ChainRulesCore\\BYuIz\\src\\differential_arithmetic.jl:19\n",
       "[230] +(x::ChainRulesCore.NotImplemented, ::Any) in ChainRulesCore at C:\\Users\\91863\\.julia\\packages\\ChainRulesCore\\BYuIz\\src\\differential_arithmetic.jl:25\n",
       "[231] +(x::Float64, y::Float64) in Base at float.jl:326\n",
       "[232] +(x::Bool) in Base at bool.jl:89\n",
       "[233] +(x::Number, y::Base.TwicePrecision) in Base at twiceprecision.jl:271\n",
       "[234] +(::Number, ::Missing) in Base at missing.jl:117\n",
       "[235] +(x::Number, J::LinearAlgebra.UniformScaling) in LinearAlgebra at C:\\Users\\91863\\AppData\\Local\\Programs\\Julia-1.6.1\\share\\julia\\stdlib\\v1.6\\LinearAlgebra\\src\\uniformscaling.jl:146\n",
       "[236] +(x::Integer, y::Ptr) in Base at pointer.jl:161\n",
       "[237] +(y::Integer, x::Rational) in Base at rational.jl:295\n",
       "[238] +(x::Integer, y::AbstractChar) in Base at char.jl:224\n",
       "[239] +(x::Real, d::UnivariateDistribution{S} where S<:ValueSupport) in Distributions at C:\\Users\\91863\\.julia\\packages\\Distributions\\fXTVC\\src\\univariate\\locationscale.jl:125\n",
       "[240] +(x::Bool, y::Bool) in Base at bool.jl:92\n",
       "[241] +(a::Integer, b::Integer) in Base at int.jl:919\n",
       "[242] +(x::Bool, y::T) where T<:AbstractFloat in Base at bool.jl:99\n",
       "[243] +(x::Bool, z::Complex{Bool}) in Base at complex.jl:286\n",
       "[244] +(x::Real, z::Complex{Bool}) in Base at complex.jl:300\n",
       "[245] +(x::Bool, z::Complex) in Base at complex.jl:293\n",
       "[246] +(x::Real, z::Complex) in Base at complex.jl:312\n",
       "[247] +(z::Complex{Bool}, x::Bool) in Base at complex.jl:287\n",
       "[248] +(z::Complex, x::Bool) in Base at complex.jl:294\n",
       "[249] +(z::Complex{Bool}, x::Real) in Base at complex.jl:301\n",
       "[250] +(z::Complex) in Base at complex.jl:273\n",
       "[251] +(z::Complex, x::Real) in Base at complex.jl:313\n",
       "[252] +(x::Float16, y::Float16) in Base at float.jl:324\n",
       "[253] +(x::Number) in Base at operators.jl:515\n",
       "[254] +(x::T, y::T) where T<:Number in Base at promotion.jl:396\n",
       "[255] +(x::Number, y::Number) in Base at promotion.jl:321\n",
       "[256] +(::ChainRulesCore.ZeroTangent, b::ChainRulesCore.Tangent) in ChainRulesCore at C:\\Users\\91863\\.julia\\packages\\ChainRulesCore\\BYuIz\\src\\differential_arithmetic.jl:115\n",
       "[257] +(::ChainRulesCore.ZeroTangent, b::ChainRulesCore.AbstractThunk) in ChainRulesCore at C:\\Users\\91863\\.julia\\packages\\ChainRulesCore\\BYuIz\\src\\differential_arithmetic.jl:115\n",
       "[258] +(::ChainRulesCore.ZeroTangent, ::ChainRulesCore.ZeroTangent) in ChainRulesCore at C:\\Users\\91863\\.julia\\packages\\ChainRulesCore\\BYuIz\\src\\differential_arithmetic.jl:109\n",
       "[259] +(::ChainRulesCore.ZeroTangent, ::ChainRulesCore.NoTangent) in ChainRulesCore at C:\\Users\\91863\\.julia\\packages\\ChainRulesCore\\BYuIz\\src\\differential_arithmetic.jl:90\n",
       "[260] +(::ChainRulesCore.ZeroTangent, x::ChainRulesCore.NotImplemented) in ChainRulesCore at C:\\Users\\91863\\.julia\\packages\\ChainRulesCore\\BYuIz\\src\\differential_arithmetic.jl:20\n",
       "[261] +(::ChainRulesCore.ZeroTangent, b) in ChainRulesCore at C:\\Users\\91863\\.julia\\packages\\ChainRulesCore\\BYuIz\\src\\differential_arithmetic.jl:115\n",
       "[262] +(x::ChainRulesCore.AbstractTangent) in ChainRulesCore at C:\\Users\\91863\\.julia\\packages\\ChainRulesCore\\BYuIz\\src\\differentials\\abstract_differential.jl:38\n",
       "[263] +(B::BitMatrix, J::LinearAlgebra.UniformScaling) in LinearAlgebra at C:\\Users\\91863\\AppData\\Local\\Programs\\Julia-1.6.1\\share\\julia\\stdlib\\v1.6\\LinearAlgebra\\src\\uniformscaling.jl:152\n",
       "[264] +(A::AbstractMatrix{T} where T, J::LinearAlgebra.UniformScaling) in LinearAlgebra at C:\\Users\\91863\\AppData\\Local\\Programs\\Julia-1.6.1\\share\\julia\\stdlib\\v1.6\\LinearAlgebra\\src\\uniformscaling.jl:215\n",
       "[265] +(x::AbstractArray{var\"#s79\", N} where {var\"#s79\"<:Number, N}) in Base at abstractarraymath.jl:97\n",
       "[266] +(a::P, d::ChainRulesCore.Tangent{P, T} where T) where P in ChainRulesCore at C:\\Users\\91863\\.julia\\packages\\ChainRulesCore\\BYuIz\\src\\differential_arithmetic.jl:149\n",
       "[267] +(a, b::ChainRulesCore.AbstractThunk) in ChainRulesCore at C:\\Users\\91863\\.julia\\packages\\ChainRulesCore\\BYuIz\\src\\differential_arithmetic.jl:139\n",
       "[268] +(a, ::ChainRulesCore.ZeroTangent) in ChainRulesCore at C:\\Users\\91863\\.julia\\packages\\ChainRulesCore\\BYuIz\\src\\differential_arithmetic.jl:116\n",
       "[269] +(a, ::ChainRulesCore.NoTangent) in ChainRulesCore at C:\\Users\\91863\\.julia\\packages\\ChainRulesCore\\BYuIz\\src\\differential_arithmetic.jl:76\n",
       "[270] +(::Any, x::ChainRulesCore.NotImplemented) in ChainRulesCore at C:\\Users\\91863\\.julia\\packages\\ChainRulesCore\\BYuIz\\src\\differential_arithmetic.jl:26\n",
       "[271] +(a, b, c, xs...) in Base at operators.jl:560"
      ]
     },
     "execution_count": 23,
     "metadata": {},
     "output_type": "execute_result"
    }
   ],
   "source": [
    "methods(+)"
   ]
  },
  {
   "cell_type": "code",
   "execution_count": 27,
   "metadata": {},
   "outputs": [
    {
     "data": {
      "text/plain": [
       "5.0"
      ]
     },
     "execution_count": 27,
     "metadata": {},
     "output_type": "execute_result"
    }
   ],
   "source": [
    "+(2.0,3)"
   ]
  },
  {
   "cell_type": "code",
   "execution_count": null,
   "metadata": {},
   "outputs": [],
   "source": []
  }
 ],
 "metadata": {
  "kernelspec": {
   "display_name": "Julia 1.6.1",
   "language": "julia",
   "name": "julia-1.6"
  },
  "language_info": {
   "file_extension": ".jl",
   "mimetype": "application/julia",
   "name": "julia",
   "version": "1.6.1"
  }
 },
 "nbformat": 4,
 "nbformat_minor": 4
}
